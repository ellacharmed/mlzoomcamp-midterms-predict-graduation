{
 "cells": [
  {
   "cell_type": "markdown",
   "metadata": {},
   "source": [
    "# Predict students' graduation rate\n",
    "\n",
    "dataset \n",
    "- [from @ roycekimmons.com](http://roycekimmons.com/tools/generated_data/graduation_rate)\n",
    "\n",
    "> This is a fictional dataset and should only be used for data science training purposes.\n",
    "> \n",
    "> This data set includes graduation rates from a four-year college with a variety of student factors.\n",
    "\n",
    "The key questions we want to address:\n",
    "\n",
    "> 1. How effective are entrance requirements at predicting gpa and graduation rate?\n",
    "> 1. What would be the best way to improve graduation rates?\n",
    "\n",
    "> All data sets are generated on-the-fly. So, you can increase your n by downloading a data set multiple times and combining the files. (n=1000) per large sample download\n",
    "\n",
    "Based on the above statement, I have downloaded 5x times and combined them into one csv file so that we can work with a larger sample size of 5000 observations, instead of just 1000 observations.\n",
    "\n",
    "Target is `'graduate_in_5years'` and column named simply as `'target'`\n",
    "- feature-engineered from 'years_to_graduate' as \n",
    "  - 0: 'Yes' ie 'years_to_graduate' < 6\n",
    "  - 1: 'No' ie 'years_to_graduate' > 5 \n",
    "- was set to 4 years initially until EDA reveals median is 5.\n"
   ]
  },
  {
   "cell_type": "code",
   "execution_count": 76,
   "metadata": {
    "notebookRunGroups": {
     "groupValue": "12"
    }
   },
   "outputs": [
    {
     "name": "stdout",
     "output_type": "stream",
     "text": [
      "current_file_path = WindowsPath('B:/repos/Courses/DataTalksClub/mlzoomcamp-midterms') \n",
      "data_folder_path = WindowsPath('B:/repos/Courses/DataTalksClub/mlzoomcamp-midterms/data') \n",
      "src_folder_path = WindowsPath('B:/repos/Courses/DataTalksClub/mlzoomcamp-midterms/src') \n"
     ]
    }
   ],
   "source": [
    "import sys\n",
    "from pathlib import Path\n",
    "import logging\n",
    "from contextlib import redirect_stdout\n",
    "\n",
    "# Configure the logging library.\n",
    "logging.basicConfig(filename='hyperparam_tuning.log', level=logging.INFO)\n",
    "\n",
    "# Set the path to the current file \n",
    "current_file_path = Path().resolve()\n",
    "print(f'{current_file_path = } ')\n",
    "\n",
    "# Set the path to the data folder\n",
    "data_folder_path = current_file_path / 'data'\n",
    "print(f'{data_folder_path = } ')\n",
    "\n",
    "# Set the path to the src folder\n",
    "src_folder_path = current_file_path / 'src'\n",
    "print(f'{src_folder_path = } ')\n",
    "\n",
    "# Add the src folder to the system path\n",
    "sys.path.append(str(src_folder_path))\n",
    "\n",
    "# Import modules from files under /src\n",
    "from config import * \n",
    "from src.data_loader import CSVDataLoader\n",
    "from src.data_preprocessor import Preprocessor\n",
    "from src.data_feature_builder import FeatureBuilder\n",
    "from src.trainer import *\n",
    "from src.predictor import *"
   ]
  },
  {
   "attachments": {},
   "cell_type": "markdown",
   "metadata": {},
   "source": [
    "## Import packages"
   ]
  },
  {
   "cell_type": "code",
   "execution_count": 77,
   "metadata": {
    "notebookRunGroups": {
     "groupValue": "12"
    }
   },
   "outputs": [],
   "source": [
    "from tqdm import tqdm\n",
    "import pandas as pd\n",
    "import numpy as np\n",
    "from pprint import pprint\n",
    "\n",
    "import warnings\n",
    "warnings.filterwarnings(\"ignore\")"
   ]
  },
  {
   "cell_type": "code",
   "execution_count": 78,
   "metadata": {
    "notebookRunGroups": {
     "groupValue": "21"
    }
   },
   "outputs": [
    {
     "name": "stderr",
     "output_type": "stream",
     "text": [
      "Intel(R) Extension for Scikit-learn* enabled (https://github.com/intel/scikit-learn-intelex)\n"
     ]
    }
   ],
   "source": [
    "from sklearnex import patch_sklearn\n",
    "patch_sklearn()\n",
    "\n",
    "from sklearn.preprocessing import StandardScaler, QuantileTransformer\n",
    "from sklearn.feature_extraction import DictVectorizer\n",
    "from sklearn.pipeline import Pipeline\n",
    "\n",
    "from sklearn.model_selection import train_test_split\n",
    "from sklearn.model_selection import KFold, GridSearchCV\n",
    "\n",
    "from sklearn.ensemble import HistGradientBoostingClassifier\n",
    "\n",
    "import catboost\n",
    "from catboost import *\n",
    "from catboost import CatBoostClassifier\n",
    "\n",
    "from sklearn.metrics import accuracy_score, roc_auc_score, precision_score, recall_score, f1_score\n",
    "from sklearn.metrics import confusion_matrix, classification_report\n"
   ]
  },
  {
   "cell_type": "code",
   "execution_count": 79,
   "metadata": {
    "notebookRunGroups": {
     "groupValue": "12"
    }
   },
   "outputs": [
    {
     "data": {
      "text/plain": [
       "'1.2.2'"
      ]
     },
     "execution_count": 79,
     "metadata": {},
     "output_type": "execute_result"
    }
   ],
   "source": [
    "import sklearn\n",
    "sklearn.__version__"
   ]
  },
  {
   "attachments": {},
   "cell_type": "markdown",
   "metadata": {},
   "source": [
    "## Overview\n",
    "\n",
    "> do we want \n",
    "> - 2 splits for train, test or \n",
    "> - 3 splits for train, val and test?\n",
    ">\n",
    "> reminder: \n",
    "> - not yet stratify\n",
    "> - not scaled\n",
    "> - use cross-validation \n",
    "> - save final df to file as processed_df.csv?\n",
    "\n",
    "In this notebook, we're finally going to address the above questions. We're using \n",
    "- KFolds to cross-validate our data splitting,\n",
    "- using just 3 features that were shown as the most important features via EDA\n",
    "- scale our data, treat outliers using Pipelines,\n",
    "- perform hyperparameters tuning on the 2 classifiers with highest `'val auc'` scores,\n",
    "- finally, the final chosen \"best model\" would be identified, and \n",
    "- creating scripts out of our POC code would start, that would allow\n",
    "- save our model to a `.pkl` file for our deployed model to a web servic.e\n"
   ]
  },
  {
   "cell_type": "markdown",
   "metadata": {},
   "source": [
    "## Hyperparameters Tuning\n",
    "\n",
    "### Putting it all together\n",
    "\n",
    "Based on findings from baseline scoring, we're gonna limit our GridSearch and hyperparameters tuning to just these 2 classifiers.\n",
    "\n",
    "Perform data preprocessing and use pipelines to perform hyperparameter tuning to a couple of the models from previous top 2 performers:\n",
    "\n",
    "- HistGradientBoostingClassifier()\n",
    "- CatBoostClassifier()\n"
   ]
  },
  {
   "cell_type": "code",
   "execution_count": 80,
   "metadata": {
    "notebookRunGroups": {
     "groupValue": "12"
    }
   },
   "outputs": [],
   "source": [
    "# declare the 3 features we using to train the model\n",
    "features = ['parental_income', 'sat_total_score', 'college_gpa'] \n",
    "# graduate_in_5years simply labeled as 'target'\n",
    "target_name = 'target'"
   ]
  },
  {
   "cell_type": "code",
   "execution_count": 81,
   "metadata": {
    "notebookRunGroups": {
     "groupValue": "12"
    }
   },
   "outputs": [],
   "source": [
    "# Data ingestion\n",
    "def rebuild_df(features=None):\n",
    "    print(f'{TARGET_NAME = }')\n",
    "    data = CSVDataLoader().load('data/graduation_rate.csv')\n",
    "    print(f'{features = }')\n",
    "    print()\n",
    "\n",
    "    print(\"- Preprocessor()...\")\n",
    "    data = Preprocessor().ColumnsSymbolReplacer(data)\n",
    "    # display(data.head(2))\n",
    "    data = Preprocessor().SymbolReplacer(data, 'parental_level_of_education')\n",
    "    # display(data.head(2))\n",
    "    data = Preprocessor().ColumnsDropper(data, TO_DROP)\n",
    "    # display(data.head(2))\n",
    "    print()\n",
    "    print(\"- FeatureBuilder()...\")\n",
    "    data = FeatureBuilder().TargetEncoder(data)\n",
    "    print(\"  - Set COLS_CATEGORICAL astype(category)...\")\n",
    "    data[COLS_CATEGORICAL] = data[COLS_CATEGORICAL].astype('category')\n",
    "    print()\n",
    "    print(\"- Prepare DFs...\")\n",
    "    print(\"  -- Split TARGET_NAME for y...\")\n",
    "    target = data[TARGET_NAME]\n",
    "    print(\"  -- Dropping TARGET_NAME...\")\n",
    "    data = data.drop(columns=TARGET_NAME)\n",
    "    \n",
    "    if features:\n",
    "        data = data[features]\n",
    "    \n",
    "    df_full_train, df_test, y_full_train, y_test = train_test_split(data, target, test_size=0.2, random_state=11)\n",
    "    \n",
    "    return df_full_train, df_test, y_full_train, y_test"
   ]
  },
  {
   "cell_type": "code",
   "execution_count": null,
   "metadata": {
    "notebookRunGroups": {
     "groupValue": "1"
    }
   },
   "outputs": [],
   "source": [
    "df_full_train, df_test, y_full_train, y_test = rebuild_df(features)\n",
    "\n",
    "df_full_train.head()"
   ]
  },
  {
   "cell_type": "markdown",
   "metadata": {},
   "source": [
    "### Hyperparams Tuning on HistGradientBoostingClassifier\n",
    "\n",
    "#### setup"
   ]
  },
  {
   "cell_type": "code",
   "execution_count": null,
   "metadata": {
    "notebookRunGroups": {
     "groupValue": "1"
    }
   },
   "outputs": [],
   "source": [
    "# initialize\n",
    "scores = []\n",
    "fold = 0\n",
    "\n",
    "# Create a k-fold cross-validator\n",
    "kfold = KFold(n_splits=5, shuffle=True, random_state=42)\n",
    "\n",
    "hist_param_grid = {\n",
    "    'classifier__learning_rate': LEARNING_RATE,\n",
    "    'classifier__max_iter': MAX_ITER,\n",
    "    'classifier__max_depth': MAX_DEPTH,\n",
    "    'classifier__min_samples_leaf': MIN_SAMPLES_LEAF, \n",
    "    'classifier__early_stopping': ['auto', True],\n",
    "    'classifier__class_weight': WEIGHTS\n",
    "}\n",
    "\n",
    "# Create the pipeline\n",
    "pipe = Pipeline([\n",
    "    ('outlier_treatment', QuantileTransformer() ),\n",
    "    ('scaler',  StandardScaler() ),\n",
    "    ('classifier', \n",
    "     HistGradientBoostingClassifier(verbose=5, scoring='f1_weighted', warm_start=True, random_state=42)\n",
    "    )\n",
    "])\n",
    "\n",
    "# Create a GridSearchCV object\n",
    "grid_search = GridSearchCV(\n",
    "    pipe, \n",
    "    hist_param_grid, \n",
    "    cv=kfold, \n",
    "    error_score='raise', \n",
    "    return_train_score=True,\n",
    "    refit=True,\n",
    "    verbose=2,\n",
    "    n_jobs=-1\n",
    ")"
   ]
  },
  {
   "cell_type": "markdown",
   "metadata": {},
   "source": [
    "#### train"
   ]
  },
  {
   "cell_type": "code",
   "execution_count": null,
   "metadata": {
    "notebookRunGroups": {
     "groupValue": "1"
    }
   },
   "outputs": [],
   "source": [
    "%%capture output   \n",
    "# Log the output of each step of the tuning process.\n",
    "logging.info('Starting HistGradientBoostingClassifier hyperparam tuning...')\n",
    "\n",
    "# Fit the pipeline to the train data and perform hyperparameter tuning\n",
    "for train_idx, val_idx in kfold.split(df_full_train):\n",
    "    \n",
    "    df_train = df_full_train.iloc[train_idx]\n",
    "    df_val = df_full_train.iloc[val_idx]\n",
    "\n",
    "    y_train = target[train_idx].values\n",
    "    y_val = target[val_idx].values\n",
    "    \n",
    "    logging.info(f'-- in grid_search.fit(); kfold: {fold} --')\n",
    "    fold = fold + 1\n",
    "\n",
    "    logging.info('Fitting GridSearchCV model...')\n",
    "    with open('hyperparam_tuning.log', 'a') as f:\n",
    "        with redirect_stdout(f):\n",
    "            # Train the model on the train data\n",
    "            grid_search.fit(df_train, y_train)\n",
    "    logging.info('GridSearchCV fit completed')\n",
    "    \n",
    "# this cell took approx 45mins on my machine! "
   ]
  },
  {
   "cell_type": "markdown",
   "metadata": {},
   "source": [
    "#### predict"
   ]
  },
  {
   "cell_type": "code",
   "execution_count": null,
   "metadata": {
    "notebookRunGroups": {
     "groupValue": "1"
    }
   },
   "outputs": [],
   "source": [
    "# Make predictions on the validate data\n",
    "y_pred_train = grid_search.predict(df_train)\n",
    "y_pred_val = grid_search.predict(df_val)\n",
    "\n",
    "# compile the scores in a list\n",
    "scores.append({\n",
    "    \"model\": \"HistGradientBoostingClassifier\",\n",
    "    \"train auc\": roc_auc_score(y_train, y_pred_train),\n",
    "    \"val auc\": roc_auc_score(y_val, y_pred_val),\n",
    "    \"accuracy\": accuracy_score(y_val, y_pred_val),\n",
    "    \"precision\": precision_score(y_val, y_pred_val),\n",
    "    \"f1_mean\": f1_score(y_val, y_pred_val),\n",
    "    \"recall\": recall_score(y_val, y_pred_val),   \n",
    "    }\n",
    ")\n",
    "logging.info(f'-- HistGradientBoostingClassifier val scores appended --')\n",
    "\n",
    "# Log the results of the tuning process.\n",
    "logging.info('Finished HistGradientBoostingClassifier hyperparam tuning. The best hyperparameters are: {}'.format(grid_search.best_params_))"
   ]
  },
  {
   "cell_type": "code",
   "execution_count": null,
   "metadata": {
    "notebookRunGroups": {
     "groupValue": "1"
    }
   },
   "outputs": [],
   "source": [
    "# logging.close()\n",
    "print(f\"The best set of parameters is: {grid_search.best_params_}\")"
   ]
  },
  {
   "cell_type": "markdown",
   "metadata": {},
   "source": [
    "#### evaluate\n",
    "\n",
    "[source](https://inria.github.io/scikit-learn-mooc/python_scripts/parameter_tuning_parallel_plot.html) for `shorten_param` code snippet"
   ]
  },
  {
   "cell_type": "code",
   "execution_count": null,
   "metadata": {
    "notebookRunGroups": {
     "groupValue": "1"
    }
   },
   "outputs": [],
   "source": [
    "def shorten_param(param_name):\n",
    "    if \"__\" in param_name:\n",
    "        return param_name.rsplit(\"__\", 1)[1]\n",
    "    return param_name"
   ]
  },
  {
   "cell_type": "code",
   "execution_count": null,
   "metadata": {
    "notebookRunGroups": {
     "groupValue": "1"
    }
   },
   "outputs": [],
   "source": [
    "cv_results = pd.DataFrame(grid_search.cv_results_).sort_values(\n",
    "    \"mean_test_score\", ascending=False\n",
    ")\n",
    "cv_results.head(3).T"
   ]
  },
  {
   "cell_type": "code",
   "execution_count": null,
   "metadata": {
    "notebookRunGroups": {
     "groupValue": "1"
    }
   },
   "outputs": [],
   "source": [
    "cv_results = cv_results.rename(shorten_param, axis=1)\n",
    "cv_results"
   ]
  },
  {
   "cell_type": "code",
   "execution_count": null,
   "metadata": {
    "notebookRunGroups": {
     "groupValue": "1"
    }
   },
   "outputs": [],
   "source": [
    "cv_results.columns"
   ]
  },
  {
   "cell_type": "code",
   "execution_count": null,
   "metadata": {
    "notebookRunGroups": {
     "groupValue": "1"
    }
   },
   "outputs": [],
   "source": [
    "cv_results = cv_results.sort_index()"
   ]
  },
  {
   "cell_type": "code",
   "execution_count": null,
   "metadata": {
    "notebookRunGroups": {
     "groupValue": "1"
    }
   },
   "outputs": [],
   "source": [
    "compare = cv_results[['mean_train_score', 'mean_test_score', 'rank_test_score']]\n",
    "compare.plot()"
   ]
  },
  {
   "cell_type": "code",
   "execution_count": null,
   "metadata": {
    "notebookRunGroups": {
     "groupValue": "1"
    }
   },
   "outputs": [],
   "source": [
    "# Displaying a Pipeline with a Preprocessing Step and Regression\n",
    "from sklearn import set_config\n",
    "set_config(display=\"diagram\")\n",
    "\n",
    "grid_search"
   ]
  },
  {
   "cell_type": "markdown",
   "metadata": {},
   "source": [
    "#### Best model training and prediction"
   ]
  },
  {
   "cell_type": "code",
   "execution_count": null,
   "metadata": {
    "notebookRunGroups": {
     "groupValue": "1"
    }
   },
   "outputs": [],
   "source": [
    "# {'classifier__class_weight': None, 'classifier__early_stopping': True, 'classifier__learning_rate': 0.1, 'classifier__max_depth': 8, 'classifier__max_iter': 100, 'classifier__min_samples_leaf': 10}\n",
    "\n",
    "best_params = grid_search.best_params_\n",
    "best_hist = HistGradientBoostingClassifier(best_params)\n",
    "\n",
    "# best_hist = HistGradientBoostingClassifier(\n",
    "#     class_weight=None, \n",
    "#     early_stopping=True, \n",
    "#     learning_rate=0.1, \n",
    "#     max_depth=8, \n",
    "#     max_iter=100, \n",
    "#     min_samples_leaf=10)\n",
    "best_hist.fit(df_train, y_train)\n",
    "\n",
    "y_pred_train = best_hist.predict(df_train)\n",
    "\n",
    "# using unseen test data\n",
    "y_test = y_test.values\n",
    "y_pred_test = best_hist.predict(df_test)\n",
    "# compile the scores in a list\n",
    "scores.append({\n",
    "    \"model\": \"HistGradientBoostingClassifier\",\n",
    "    \"train auc\": roc_auc_score(y_train, y_pred_train),\n",
    "    \"test auc\": roc_auc_score(y_test, y_pred_test),\n",
    "    \"accuracy\": accuracy_score(y_test, y_pred_test),\n",
    "    \"precision\": precision_score(y_test, y_pred_test),\n",
    "    \"f1_mean\": f1_score(y_test, y_pred_test),\n",
    "    \"recall\": recall_score(y_test, y_pred_test),   \n",
    "    }\n",
    ")\n",
    "logging.info(f'-- best_hist test scores appended --')"
   ]
  },
  {
   "cell_type": "markdown",
   "metadata": {},
   "source": [
    "### Hyperparams Tuning on CatBoostClassifier\n",
    "\n",
    "#### setup"
   ]
  },
  {
   "cell_type": "code",
   "execution_count": 82,
   "metadata": {
    "notebookRunGroups": {
     "groupValue": "2"
    }
   },
   "outputs": [
    {
     "name": "stdout",
     "output_type": "stream",
     "text": [
      "TARGET_NAME = 'target'\n",
      "Loading CSV data...\n"
     ]
    },
    {
     "name": "stderr",
     "output_type": "stream",
     "text": [
      "100%|██████████| 10/10 [00:00<00:00, 232.55it/s]\n",
      "INFO:sklearnex: sklearn.model_selection.train_test_split: fallback to original Scikit-learn\n",
      "INFO:sklearnex: sklearn.model_selection.train_test_split: running accelerated version on CPU\n"
     ]
    },
    {
     "name": "stdout",
     "output_type": "stream",
     "text": [
      "Finished processing the CSV file.\n",
      "df.shape = (5000, 7)\n",
      "features = None\n",
      "\n",
      "- Preprocessor()...\n",
      "  -- Replacing symbols in column names...\n",
      "  -- Replacing symbols in data...\n",
      "  -- Dropping TO_DROP columns...\n",
      "\n",
      "- FeatureBuilder()...\n",
      "  -- Creating 'target' column...\n",
      "  - Set COLS_CATEGORICAL astype(category)...\n",
      "\n",
      "- Prepare DFs...\n",
      "  -- Split TARGET_NAME for y...\n",
      "  -- Dropping TARGET_NAME...\n"
     ]
    }
   ],
   "source": [
    "df_full_train, df_test, y_full_train, y_test = rebuild_df()\n",
    "df_full_train.head()\n",
    "\n",
    "scores = []\n",
    "\n",
    "logging.info('Starting CatboostClassifier...')\n",
    "params = {}\n",
    "params['loss_function'] = 'Logloss' # RMSE, AUC all not valid\n",
    "params['iterations'] = 80\n",
    "params['custom_loss'] = ['Accuracy', 'AUC', 'F1','Precision', 'Recall']\n",
    "params['random_seed'] = 42\n",
    "params['learning_rate'] = 0.5"
   ]
  },
  {
   "cell_type": "markdown",
   "metadata": {},
   "source": [
    "#### train"
   ]
  },
  {
   "cell_type": "code",
   "execution_count": 83,
   "metadata": {
    "notebookRunGroups": {
     "groupValue": "2"
    }
   },
   "outputs": [
    {
     "name": "stdout",
     "output_type": "stream",
     "text": [
      "Training on fold [0/5]\n",
      "\n",
      "bestTest = 0.5451060805\n",
      "bestIteration = 4\n",
      "\n",
      "Training on fold [1/5]\n",
      "\n",
      "bestTest = 0.5284605903\n",
      "bestIteration = 10\n",
      "\n",
      "Training on fold [2/5]\n",
      "\n",
      "bestTest = 0.5637857804\n",
      "bestIteration = 4\n",
      "\n",
      "Training on fold [3/5]\n",
      "\n",
      "bestTest = 0.5433614436\n",
      "bestIteration = 3\n",
      "\n",
      "Training on fold [4/5]\n",
      "\n",
      "bestTest = 0.5583531198\n",
      "bestIteration = 4\n",
      "\n"
     ]
    }
   ],
   "source": [
    "%%capture output  \n",
    "\n",
    "logging.info('-- Starting cross validation...')\n",
    "# %%capture and redirect not working with catboost\n",
    "# with open('hyperparam_tuning.log', 'a') as f:\n",
    "#     with redirect_stdout(f):\n",
    "cv_data = cv(\n",
    "    params = params,\n",
    "    pool = Pool(df_full_train, label=y_full_train, cat_features=COLS_CATEGORICAL),\n",
    "    fold_count=5,           # defaults=3, using  5 to compare with HistGradBoost\n",
    "    early_stopping_rounds=20,\n",
    "    shuffle=True,\n",
    "    partition_random_seed=0,\n",
    "    plot=True,\n",
    "    stratified=True,\n",
    "    # logging_level='Info', # one or the other with 'verbose', cannot both\n",
    "    verbose=False,         # one or the other with 'logging_level', cannot both\n",
    "    as_pandas=True\n",
    ")\n",
    "logging.info('-- Completed cross validation...')\n"
   ]
  },
  {
   "cell_type": "code",
   "execution_count": 84,
   "metadata": {
    "notebookRunGroups": {
     "groupValue": "2"
    }
   },
   "outputs": [
    {
     "data": {
      "text/html": [
       "<div>\n",
       "<style scoped>\n",
       "    .dataframe tbody tr th:only-of-type {\n",
       "        vertical-align: middle;\n",
       "    }\n",
       "\n",
       "    .dataframe tbody tr th {\n",
       "        vertical-align: top;\n",
       "    }\n",
       "\n",
       "    .dataframe thead th {\n",
       "        text-align: right;\n",
       "    }\n",
       "</style>\n",
       "<table border=\"1\" class=\"dataframe\">\n",
       "  <thead>\n",
       "    <tr style=\"text-align: right;\">\n",
       "      <th></th>\n",
       "      <th>0</th>\n",
       "      <th>1</th>\n",
       "      <th>2</th>\n",
       "      <th>3</th>\n",
       "      <th>4</th>\n",
       "    </tr>\n",
       "  </thead>\n",
       "  <tbody>\n",
       "    <tr>\n",
       "      <th>iterations</th>\n",
       "      <td>0.000000</td>\n",
       "      <td>1.000000</td>\n",
       "      <td>2.000000</td>\n",
       "      <td>3.000000</td>\n",
       "      <td>4.000000</td>\n",
       "    </tr>\n",
       "    <tr>\n",
       "      <th>test-Logloss-mean</th>\n",
       "      <td>0.589727</td>\n",
       "      <td>0.560800</td>\n",
       "      <td>0.552230</td>\n",
       "      <td>0.549723</td>\n",
       "      <td>0.549088</td>\n",
       "    </tr>\n",
       "    <tr>\n",
       "      <th>test-Logloss-std</th>\n",
       "      <td>0.009588</td>\n",
       "      <td>0.009532</td>\n",
       "      <td>0.011054</td>\n",
       "      <td>0.013480</td>\n",
       "      <td>0.012697</td>\n",
       "    </tr>\n",
       "    <tr>\n",
       "      <th>train-Logloss-mean</th>\n",
       "      <td>0.585473</td>\n",
       "      <td>0.553399</td>\n",
       "      <td>0.541857</td>\n",
       "      <td>0.535683</td>\n",
       "      <td>0.531003</td>\n",
       "    </tr>\n",
       "    <tr>\n",
       "      <th>train-Logloss-std</th>\n",
       "      <td>0.003378</td>\n",
       "      <td>0.004184</td>\n",
       "      <td>0.003844</td>\n",
       "      <td>0.003974</td>\n",
       "      <td>0.003200</td>\n",
       "    </tr>\n",
       "    <tr>\n",
       "      <th>test-Accuracy-mean</th>\n",
       "      <td>0.740242</td>\n",
       "      <td>0.744497</td>\n",
       "      <td>0.743498</td>\n",
       "      <td>0.744747</td>\n",
       "      <td>0.745249</td>\n",
       "    </tr>\n",
       "    <tr>\n",
       "      <th>test-Accuracy-std</th>\n",
       "      <td>0.018942</td>\n",
       "      <td>0.016318</td>\n",
       "      <td>0.014760</td>\n",
       "      <td>0.016258</td>\n",
       "      <td>0.014087</td>\n",
       "    </tr>\n",
       "    <tr>\n",
       "      <th>train-Accuracy-mean</th>\n",
       "      <td>0.742064</td>\n",
       "      <td>0.748438</td>\n",
       "      <td>0.752375</td>\n",
       "      <td>0.752437</td>\n",
       "      <td>0.754312</td>\n",
       "    </tr>\n",
       "    <tr>\n",
       "      <th>train-Accuracy-std</th>\n",
       "      <td>0.008905</td>\n",
       "      <td>0.004519</td>\n",
       "      <td>0.002815</td>\n",
       "      <td>0.002822</td>\n",
       "      <td>0.002270</td>\n",
       "    </tr>\n",
       "    <tr>\n",
       "      <th>test-AUC-mean</th>\n",
       "      <td>0.644894</td>\n",
       "      <td>0.657500</td>\n",
       "      <td>0.667068</td>\n",
       "      <td>0.671012</td>\n",
       "      <td>0.670816</td>\n",
       "    </tr>\n",
       "    <tr>\n",
       "      <th>test-AUC-std</th>\n",
       "      <td>0.030554</td>\n",
       "      <td>0.023016</td>\n",
       "      <td>0.020715</td>\n",
       "      <td>0.027560</td>\n",
       "      <td>0.025521</td>\n",
       "    </tr>\n",
       "    <tr>\n",
       "      <th>test-F1-mean</th>\n",
       "      <td>0.841911</td>\n",
       "      <td>0.843211</td>\n",
       "      <td>0.842140</td>\n",
       "      <td>0.842776</td>\n",
       "      <td>0.842744</td>\n",
       "    </tr>\n",
       "    <tr>\n",
       "      <th>test-F1-std</th>\n",
       "      <td>0.010617</td>\n",
       "      <td>0.010664</td>\n",
       "      <td>0.009355</td>\n",
       "      <td>0.009513</td>\n",
       "      <td>0.008125</td>\n",
       "    </tr>\n",
       "    <tr>\n",
       "      <th>train-F1-mean</th>\n",
       "      <td>0.842836</td>\n",
       "      <td>0.845497</td>\n",
       "      <td>0.847794</td>\n",
       "      <td>0.847529</td>\n",
       "      <td>0.848471</td>\n",
       "    </tr>\n",
       "    <tr>\n",
       "      <th>train-F1-std</th>\n",
       "      <td>0.003558</td>\n",
       "      <td>0.001857</td>\n",
       "      <td>0.001193</td>\n",
       "      <td>0.001808</td>\n",
       "      <td>0.001750</td>\n",
       "    </tr>\n",
       "    <tr>\n",
       "      <th>test-Precision-mean</th>\n",
       "      <td>0.743219</td>\n",
       "      <td>0.748692</td>\n",
       "      <td>0.749452</td>\n",
       "      <td>0.750689</td>\n",
       "      <td>0.751947</td>\n",
       "    </tr>\n",
       "    <tr>\n",
       "      <th>test-Precision-std</th>\n",
       "      <td>0.014659</td>\n",
       "      <td>0.009280</td>\n",
       "      <td>0.007668</td>\n",
       "      <td>0.010744</td>\n",
       "      <td>0.010115</td>\n",
       "    </tr>\n",
       "    <tr>\n",
       "      <th>train-Precision-mean</th>\n",
       "      <td>0.744659</td>\n",
       "      <td>0.751402</td>\n",
       "      <td>0.753815</td>\n",
       "      <td>0.754721</td>\n",
       "      <td>0.756386</td>\n",
       "    </tr>\n",
       "    <tr>\n",
       "      <th>train-Precision-std</th>\n",
       "      <td>0.011275</td>\n",
       "      <td>0.007279</td>\n",
       "      <td>0.003552</td>\n",
       "      <td>0.002212</td>\n",
       "      <td>0.002073</td>\n",
       "    </tr>\n",
       "    <tr>\n",
       "      <th>test-Recall-mean</th>\n",
       "      <td>0.971218</td>\n",
       "      <td>0.965250</td>\n",
       "      <td>0.961028</td>\n",
       "      <td>0.960674</td>\n",
       "      <td>0.958570</td>\n",
       "    </tr>\n",
       "    <tr>\n",
       "      <th>test-Recall-std</th>\n",
       "      <td>0.018332</td>\n",
       "      <td>0.020202</td>\n",
       "      <td>0.013433</td>\n",
       "      <td>0.009896</td>\n",
       "      <td>0.009484</td>\n",
       "    </tr>\n",
       "    <tr>\n",
       "      <th>train-Recall-mean</th>\n",
       "      <td>0.971205</td>\n",
       "      <td>0.966729</td>\n",
       "      <td>0.968574</td>\n",
       "      <td>0.966380</td>\n",
       "      <td>0.966116</td>\n",
       "    </tr>\n",
       "    <tr>\n",
       "      <th>train-Recall-std</th>\n",
       "      <td>0.014428</td>\n",
       "      <td>0.011657</td>\n",
       "      <td>0.004054</td>\n",
       "      <td>0.004463</td>\n",
       "      <td>0.005963</td>\n",
       "    </tr>\n",
       "  </tbody>\n",
       "</table>\n",
       "</div>"
      ],
      "text/plain": [
       "                             0         1         2         3         4\n",
       "iterations            0.000000  1.000000  2.000000  3.000000  4.000000\n",
       "test-Logloss-mean     0.589727  0.560800  0.552230  0.549723  0.549088\n",
       "test-Logloss-std      0.009588  0.009532  0.011054  0.013480  0.012697\n",
       "train-Logloss-mean    0.585473  0.553399  0.541857  0.535683  0.531003\n",
       "train-Logloss-std     0.003378  0.004184  0.003844  0.003974  0.003200\n",
       "test-Accuracy-mean    0.740242  0.744497  0.743498  0.744747  0.745249\n",
       "test-Accuracy-std     0.018942  0.016318  0.014760  0.016258  0.014087\n",
       "train-Accuracy-mean   0.742064  0.748438  0.752375  0.752437  0.754312\n",
       "train-Accuracy-std    0.008905  0.004519  0.002815  0.002822  0.002270\n",
       "test-AUC-mean         0.644894  0.657500  0.667068  0.671012  0.670816\n",
       "test-AUC-std          0.030554  0.023016  0.020715  0.027560  0.025521\n",
       "test-F1-mean          0.841911  0.843211  0.842140  0.842776  0.842744\n",
       "test-F1-std           0.010617  0.010664  0.009355  0.009513  0.008125\n",
       "train-F1-mean         0.842836  0.845497  0.847794  0.847529  0.848471\n",
       "train-F1-std          0.003558  0.001857  0.001193  0.001808  0.001750\n",
       "test-Precision-mean   0.743219  0.748692  0.749452  0.750689  0.751947\n",
       "test-Precision-std    0.014659  0.009280  0.007668  0.010744  0.010115\n",
       "train-Precision-mean  0.744659  0.751402  0.753815  0.754721  0.756386\n",
       "train-Precision-std   0.011275  0.007279  0.003552  0.002212  0.002073\n",
       "test-Recall-mean      0.971218  0.965250  0.961028  0.960674  0.958570\n",
       "test-Recall-std       0.018332  0.020202  0.013433  0.009896  0.009484\n",
       "train-Recall-mean     0.971205  0.966729  0.968574  0.966380  0.966116\n",
       "train-Recall-std      0.014428  0.011657  0.004054  0.004463  0.005963"
      ]
     },
     "execution_count": 84,
     "metadata": {},
     "output_type": "execute_result"
    }
   ],
   "source": [
    "cv_data.head().T"
   ]
  },
  {
   "cell_type": "code",
   "execution_count": 85,
   "metadata": {
    "notebookRunGroups": {
     "groupValue": "2"
    }
   },
   "outputs": [
    {
     "name": "stdout",
     "output_type": "stream",
     "text": [
      "Best validation AUC score, stratified: 0.6445±0.0167 on step 29\n"
     ]
    }
   ],
   "source": [
    "best_value = np.min(cv_data['test-AUC-mean'])\n",
    "best_iter = np.argmin(cv_data['test-AUC-mean'])\n",
    "\n",
    "print('Best validation AUC score, stratified: {:.4f}±{:.4f} on step {}'.format(\n",
    "    best_value,\n",
    "    cv_data['test-AUC-std'][best_iter],\n",
    "    best_iter)\n",
    ")"
   ]
  },
  {
   "cell_type": "code",
   "execution_count": 86,
   "metadata": {
    "notebookRunGroups": {
     "groupValue": "2"
    }
   },
   "outputs": [],
   "source": [
    "scores = []\n",
    "# compile the scores in a list\n",
    "scores.append({\n",
    "    \"model\": \"CatBoostClassifier\",\n",
    "    \"train logloss\": np.min(cv_data['train-Logloss-mean']),\n",
    "    \"val logloss\": np.min(cv_data['test-Logloss-mean']),\n",
    "    \"accuracy\": np.min(cv_data['test-Accuracy-mean']),\n",
    "    \"precision\": np.min(cv_data['test-Precision-mean']),\n",
    "    \"f1_mean\": np.min(cv_data['test-F1-mean']),\n",
    "    \"recall\": np.min(cv_data['test-Recall-mean']),\n",
    "    }\n",
    ")\n",
    "logging.info(f'-- CatBoostClassifier scores appended --')\n",
    "\n",
    "# Log the results of the tuning process.\n",
    "# logging.info('Finished CatBoostClassifier hyperparam tuning. The best hyperparameters are: {}'.format(grid_search.best_params_))"
   ]
  },
  {
   "cell_type": "markdown",
   "metadata": {},
   "source": [
    "#### predict"
   ]
  },
  {
   "cell_type": "code",
   "execution_count": 87,
   "metadata": {
    "notebookRunGroups": {
     "groupValue": "2"
    }
   },
   "outputs": [],
   "source": [
    "from catboost.utils import get_roc_curve\n",
    "import sklearn\n",
    "from sklearn import metrics\n",
    "\n",
    "eval_pool = Pool(df_val, y_val, cat_features=COLS_CATEGORICAL)\n",
    "curve = get_roc_curve(model, eval_pool)\n",
    "(fpr, tpr, thresholds) = curve\n",
    "roc_auc = sklearn.metrics.auc(fpr, tpr)"
   ]
  },
  {
   "cell_type": "code",
   "execution_count": 88,
   "metadata": {
    "notebookRunGroups": {
     "groupValue": "2"
    }
   },
   "outputs": [
    {
     "data": {
      "image/png": "[encoded data removed]",
      "text/plain": [
       "<Figure size 1600x800 with 1 Axes>"
      ]
     },
     "metadata": {},
     "output_type": "display_data"
    }
   ],
   "source": [
    "import matplotlib.pyplot as plt\n",
    "\n",
    "plt.figure(figsize=(16, 8))\n",
    "lw = 2\n",
    "\n",
    "plt.plot(fpr, tpr, color='darkorange',\n",
    "         lw=lw, label='ROC curve (area = %0.2f)' % roc_auc, alpha=0.5)\n",
    "\n",
    "plt.plot([0, 1], [0, 1], color='navy', lw=lw, linestyle='--', alpha=0.5)\n",
    "\n",
    "plt.xlim([0.0, 1.0])\n",
    "plt.ylim([0.0, 1.05])\n",
    "plt.xticks(fontsize=16)\n",
    "plt.yticks(fontsize=16)\n",
    "plt.grid(True)\n",
    "plt.xlabel('False Positive Rate', fontsize=16)\n",
    "plt.ylabel('True Positive Rate', fontsize=16)\n",
    "plt.title('Receiver operating characteristic', fontsize=20)\n",
    "plt.legend(loc=\"lower right\", fontsize=16)\n",
    "plt.show()"
   ]
  },
  {
   "cell_type": "markdown",
   "metadata": {},
   "source": [
    "#### evaluate"
   ]
  },
  {
   "cell_type": "code",
   "execution_count": 89,
   "metadata": {
    "notebookRunGroups": {
     "groupValue": "2"
    }
   },
   "outputs": [
    {
     "data": {
      "text/html": [
       "<div>\n",
       "<style scoped>\n",
       "    .dataframe tbody tr th:only-of-type {\n",
       "        vertical-align: middle;\n",
       "    }\n",
       "\n",
       "    .dataframe tbody tr th {\n",
       "        vertical-align: top;\n",
       "    }\n",
       "\n",
       "    .dataframe thead th {\n",
       "        text-align: right;\n",
       "    }\n",
       "</style>\n",
       "<table border=\"1\" class=\"dataframe\">\n",
       "  <thead>\n",
       "    <tr style=\"text-align: right;\">\n",
       "      <th></th>\n",
       "      <th>Feature Id</th>\n",
       "      <th>Importances</th>\n",
       "    </tr>\n",
       "  </thead>\n",
       "  <tbody>\n",
       "    <tr>\n",
       "      <th>0</th>\n",
       "      <td>college_gpa</td>\n",
       "      <td>52.910607</td>\n",
       "    </tr>\n",
       "    <tr>\n",
       "      <th>1</th>\n",
       "      <td>parental_income</td>\n",
       "      <td>25.342582</td>\n",
       "    </tr>\n",
       "    <tr>\n",
       "      <th>2</th>\n",
       "      <td>sat_total_score</td>\n",
       "      <td>19.233452</td>\n",
       "    </tr>\n",
       "    <tr>\n",
       "      <th>3</th>\n",
       "      <td>parental_level_of_education</td>\n",
       "      <td>2.513360</td>\n",
       "    </tr>\n",
       "  </tbody>\n",
       "</table>\n",
       "</div>"
      ],
      "text/plain": [
       "                    Feature Id  Importances\n",
       "0                  college_gpa    52.910607\n",
       "1              parental_income    25.342582\n",
       "2              sat_total_score    19.233452\n",
       "3  parental_level_of_education     2.513360"
      ]
     },
     "execution_count": 89,
     "metadata": {},
     "output_type": "execute_result"
    }
   ],
   "source": [
    "model.get_feature_importance(prettified=True)"
   ]
  },
  {
   "cell_type": "markdown",
   "metadata": {},
   "source": [
    "#### Model comparison"
   ]
  },
  {
   "cell_type": "code",
   "execution_count": 90,
   "metadata": {
    "notebookRunGroups": {
     "groupValue": "2"
    }
   },
   "outputs": [],
   "source": [
    "model1 = CatBoostClassifier(\n",
    "    learning_rate=0.7,\n",
    "    iterations=100,\n",
    "    random_seed=0,\n",
    "    train_dir='learning_rate_0.7'\n",
    ")\n",
    "\n",
    "model2 = CatBoostClassifier(\n",
    "    learning_rate=0.01,\n",
    "    iterations=1000,\n",
    "    random_seed=0,\n",
    "    train_dir='learning_rate_0.01'\n",
    ")\n",
    "model1.fit(\n",
    "    df_train, y_train,\n",
    "    eval_set=(df_val, y_val),\n",
    "    cat_features=COLS_CATEGORICAL,\n",
    "    verbose=False\n",
    ")\n",
    "model2.fit(\n",
    "    df_train, y_train,\n",
    "    eval_set=(df_val, y_val),\n",
    "    cat_features=COLS_CATEGORICAL,\n",
    "    verbose=False\n",
    ")"
   ]
  },
  {
   "cell_type": "code",
   "execution_count": null,
   "metadata": {
    "notebookRunGroups": {
     "groupValue": "2"
    }
   },
   "outputs": [],
   "source": [
    "from catboost import MetricVisualizer\n",
    "MetricVisualizer(['learning_rate_0.01', 'learning_rate_0.7']).start()"
   ]
  },
  {
   "cell_type": "markdown",
   "metadata": {},
   "source": [
    "#### Best iteration"
   ]
  },
  {
   "cell_type": "code",
   "execution_count": null,
   "metadata": {
    "notebookRunGroups": {
     "groupValue": "2"
    }
   },
   "outputs": [],
   "source": [
    "from catboost import CatBoostClassifier\n",
    "model = CatBoostClassifier(\n",
    "    iterations=100,\n",
    "    random_seed=63,\n",
    "    learning_rate=0.5,\n",
    "    use_best_model=False\n",
    ")\n",
    "model.fit(\n",
    "    df_train, y_train,\n",
    "    cat_features=COLS_CATEGORICAL,\n",
    "    eval_set=(df_val, y_val),\n",
    "    verbose=False,\n",
    "    plot=True\n",
    ")"
   ]
  },
  {
   "cell_type": "markdown",
   "metadata": {},
   "source": [
    "#### Best model training and prediction"
   ]
  },
  {
   "cell_type": "code",
   "execution_count": null,
   "metadata": {},
   "outputs": [],
   "source": [
    "grid_search.best_params_"
   ]
  },
  {
   "cell_type": "code",
   "execution_count": null,
   "metadata": {},
   "outputs": [],
   "source": [
    "best_params = grid_search.best_params_\n",
    "# best_cat = CatBoostClassifier(best_params)\n",
    "best_cat = CatBoostClassifier(\n",
    "    depth=6,\n",
    "    early_stopping_rounds=5,\n",
    "    iterations=100,\n",
    "    learning_rate=0.001,\n",
    "    loss_function='Logloss'    \n",
    ")\n",
    "best_cat.fit(df_train, y_train)\n",
    "\n",
    "y_pred_train = best_cat.predict(df_train)\n",
    "y_pred_test = best_cat.predict(df_test)\n",
    "\n",
    "# compile the scores in a list\n",
    "scores.append({\n",
    "    \"model\": \"CatBoostClassifier\",\n",
    "  \n",
    "    }\n",
    ")\n",
    "logging.info(f'-- best_cat test scores appended --')"
   ]
  },
  {
   "cell_type": "markdown",
   "metadata": {},
   "source": [
    "## Final Model output\n",
    "\n",
    "using df_test and the best_params"
   ]
  },
  {
   "cell_type": "code",
   "execution_count": null,
   "metadata": {},
   "outputs": [],
   "source": [
    "df = pd.DataFrame(scores)\n",
    "df"
   ]
  }
 ],
 "metadata": {
  "kernelspec": {
   "display_name": "churn311",
   "language": "python",
   "name": "python3"
  },
  "language_info": {
   "codemirror_mode": {
    "name": "ipython",
    "version": 3
   },
   "file_extension": ".py",
   "mimetype": "text/x-python",
   "name": "python",
   "nbconvert_exporter": "python",
   "pygments_lexer": "ipython3",
   "version": "3.10.12"
  },
  "orig_nbformat": 4
 },
 "nbformat": 4,
 "nbformat_minor": 2
}
