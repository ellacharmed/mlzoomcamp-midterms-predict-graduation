{
 "cells": [
  {
   "cell_type": "markdown",
   "metadata": {},
   "source": [
    "# Predict students' graduation rate\n",
    "\n",
    "dataset \n",
    "- [from @ roycekimmons.com](http://roycekimmons.com/tools/generated_data/graduation_rate)\n",
    "\n",
    "> This is a fictional dataset and should only be used for data science training purposes.\n",
    "> \n",
    "> This data set includes graduation rates from a four-year college with a variety of student factors.\n",
    "\n",
    "The key questions we want to address:\n",
    "\n",
    "> 1. How effective are entrance requirements at predicting gpa and graduation rate?\n",
    "> 1. What would be the best way to improve graduation rates?\n",
    "\n",
    "> All data sets are generated on-the-fly. So, you can increase your n by downloading a data set multiple times and combining the files. (n=1000) per large sample download\n",
    "\n",
    "Based on the above statement, I have downloaded 5x times and combined them into one csv file so that we can work with a larger sample size of 5000 observations, instead of just 1000 observations.\n",
    "\n",
    "Target is `'graduate_in_5years'` and column named simply as `'target'`\n",
    "- feature-engineered from 'years_to_graduate' as \n",
    "  - 0: 'Yes' ie 'years_to_graduate' < 6\n",
    "  - 1: 'No' ie 'years_to_graduate' > 5 \n",
    "- was set to 4 years initially until EDA reveals median is 5.\n"
   ]
  },
  {
   "cell_type": "code",
   "execution_count": 26,
   "metadata": {
    "notebookRunGroups": {
     "groupValue": "12"
    }
   },
   "outputs": [
    {
     "name": "stdout",
     "output_type": "stream",
     "text": [
      "current_file_path = WindowsPath('B:/repos/Courses/DataTalksClub/mlzoomcamp-midterms') \n",
      "data_folder_path = WindowsPath('B:/repos/Courses/DataTalksClub/mlzoomcamp-midterms/data') \n",
      "src_folder_path = WindowsPath('B:/repos/Courses/DataTalksClub/mlzoomcamp-midterms/src') \n"
     ]
    }
   ],
   "source": [
    "import sys\n",
    "from pathlib import Path\n",
    "import logging\n",
    "from contextlib import redirect_stdout\n",
    "\n",
    "# Configure the logging library.\n",
    "logging.basicConfig(filename='randomizedcv_tuning.log', level=logging.INFO)\n",
    "\n",
    "# Set the path to the current file \n",
    "current_file_path = Path().resolve()\n",
    "print(f'{current_file_path = } ')\n",
    "\n",
    "# Set the path to the data folder\n",
    "data_folder_path = current_file_path / 'data'\n",
    "print(f'{data_folder_path = } ')\n",
    "\n",
    "# Set the path to the src folder\n",
    "src_folder_path = current_file_path / 'src'\n",
    "print(f'{src_folder_path = } ')\n",
    "\n",
    "# Add the src folder to the system path\n",
    "sys.path.append(str(src_folder_path))\n",
    "\n",
    "# Import modules from files under /src\n",
    "from src.config import * \n",
    "from src.data_loader import CSVDataLoader\n",
    "from src.data_preprocessor import Preprocessor\n",
    "from src.data_feature_builder import FeatureBuilder"
   ]
  },
  {
   "attachments": {},
   "cell_type": "markdown",
   "metadata": {},
   "source": [
    "## Import packages"
   ]
  },
  {
   "cell_type": "code",
   "execution_count": 27,
   "metadata": {
    "notebookRunGroups": {
     "groupValue": "12"
    }
   },
   "outputs": [],
   "source": [
    "from tqdm import tqdm\n",
    "import pandas as pd\n",
    "import numpy as np\n",
    "from scipy.stats import loguniform\n",
    "from pprint import pprint\n",
    "\n",
    "import warnings\n",
    "warnings.filterwarnings(\"ignore\")"
   ]
  },
  {
   "cell_type": "code",
   "execution_count": 28,
   "metadata": {
    "notebookRunGroups": {
     "groupValue": "21"
    }
   },
   "outputs": [],
   "source": [
    "# not supported for HistGradientBoostingClassifier/ CatBoostClassifier\n",
    "# from sklearnex import patch_sklearn\n",
    "# patch_sklearn()\n",
    "\n",
    "from sklearn.model_selection import train_test_split, KFold, GridSearchCV, RandomizedSearchCV\n",
    "from sklearn.ensemble import HistGradientBoostingClassifier\n",
    "\n",
    "import catboost\n",
    "from catboost import *\n",
    "from catboost import CatBoostClassifier\n",
    "\n",
    "from sklearn.metrics import accuracy_score, roc_auc_score, precision_score, recall_score, f1_score\n",
    "from sklearn.metrics import make_scorer, confusion_matrix, classification_report\n"
   ]
  },
  {
   "cell_type": "code",
   "execution_count": 29,
   "metadata": {
    "notebookRunGroups": {
     "groupValue": "12"
    }
   },
   "outputs": [
    {
     "data": {
      "text/plain": [
       "'1.3.1'"
      ]
     },
     "execution_count": 29,
     "metadata": {},
     "output_type": "execute_result"
    }
   ],
   "source": [
    "import sklearn\n",
    "sklearn.__version__"
   ]
  },
  {
   "attachments": {},
   "cell_type": "markdown",
   "metadata": {},
   "source": [
    "## Overview\n",
    "\n",
    "> do we want \n",
    "> - 2 splits for train, test or \n",
    "> - 3 splits for train, val and test?\n",
    ">\n",
    "> reminder: \n",
    "> - not yet stratify\n",
    "> - not scaled\n",
    "> - use cross-validation \n",
    "> - save final df to file as processed_df.csv?\n",
    "\n",
    "In this notebook, we're finally going to address the above questions. We're using \n",
    "- KFolds to cross-validate our data splitting,\n",
    "- using just 3 features that were shown as the most important features via EDA\n",
    "- scale our data, treat outliers ~~using Pipelines~~,\n",
    "- perform hyperparameters tuning on the 2 classifiers with highest `'val auc'` scores,\n",
    "- finally, the final chosen \"best model\" would be identified, and \n",
    "- creating scripts out of our POC code would commenced, and that would allow\n",
    "- save our model to a `.pkl` file for us to deploy model to a web servic.e\n"
   ]
  },
  {
   "cell_type": "markdown",
   "metadata": {},
   "source": [
    "## Hyperparameters Tuning\n",
    "\n",
    "### Putting it all together\n",
    "\n",
    "Based on findings from baseline scoring, we're gonna limit our GridSearch and hyperparameters tuning to just these 2 classifiers.\n",
    "\n",
    "Perform data preprocessing and use pipelines to perform hyperparameter tuning to a couple of the models from previous top 2 performers:\n",
    "\n",
    "- HistGradientBoostingClassifier()\n",
    "- CatBoostClassifier()\n"
   ]
  },
  {
   "cell_type": "code",
   "execution_count": 30,
   "metadata": {
    "notebookRunGroups": {
     "groupValue": "12"
    }
   },
   "outputs": [],
   "source": [
    "# declare the 3 features we're using to train the model\n",
    "features = ['parental_income', 'sat_total_score', 'college_gpa'] \n",
    "# graduate_in_5years simply labeled as 'target'\n",
    "target_name = 'target'"
   ]
  },
  {
   "cell_type": "code",
   "execution_count": 78,
   "metadata": {
    "notebookRunGroups": {
     "groupValue": "12"
    }
   },
   "outputs": [],
   "source": [
    "# Data ingestion\n",
    "def rebuild_df(features=None):\n",
    "    print(f'{TARGET_NAME = }')\n",
    "    data = CSVDataLoader().load('data/graduation_rate.csv')\n",
    "    print(f'{features = }')\n",
    "    print()\n",
    "    print(\"- Preprocessor()...\")\n",
    "    data = Preprocessor().ColumnsSymbolReplacer(data)\n",
    "    # display(data.iloc[11:12])\n",
    "    data = Preprocessor().SymbolReplacer(data, 'parental_level_of_education')\n",
    "    # display(data.head(2))\n",
    "    data = Preprocessor().ColumnsDropper(data, TO_DROP)\n",
    "    # display(data.head(2))\n",
    "    data = Preprocessor().DataScaler(data)\n",
    "    print()\n",
    "    print(\"- FeatureBuilder()...\")\n",
    "    data = FeatureBuilder().TargetEncoder(data)\n",
    "    print(\"  -- Set COLS_CATEGORICAL astype(category)...\")\n",
    "    data[COLS_CATEGORICAL] = data[COLS_CATEGORICAL].astype('category')\n",
    "    print()\n",
    "    print(\"- Prepare DFs...\")\n",
    "    print(\"  -- Split TARGET_NAME for y...\")\n",
    "    target = data[TARGET_NAME]\n",
    "    print(\"  -- Dropping TARGET_NAME...\")\n",
    "    data = data.drop(columns=TARGET_NAME)\n",
    "    \n",
    "    if features:\n",
    "        data = data[features] \n",
    "          \n",
    "    df_full_train, df_test, y_full_train, y_test = train_test_split(data, target, test_size=0.2, random_state=11)\n",
    "    \n",
    "    # reset indices back to begin from 0\n",
    "    df_full_train = df_full_train.reset_index(drop=True)\n",
    "    df_test = df_test.reset_index(drop=True)\n",
    "    y_full_train = y_full_train.reset_index(drop=True)\n",
    "    y_test = y_test.reset_index(drop=True)\n",
    "    \n",
    "    return df_full_train, df_test, y_full_train, y_test"
   ]
  },
  {
   "cell_type": "code",
   "execution_count": 79,
   "metadata": {
    "notebookRunGroups": {
     "groupValue": "1"
    }
   },
   "outputs": [
    {
     "name": "stdout",
     "output_type": "stream",
     "text": [
      "TARGET_NAME = 'target'\n",
      "Loading CSV data...\n"
     ]
    },
    {
     "name": "stderr",
     "output_type": "stream",
     "text": [
      "100%|██████████| 10/10 [00:00<00:00, 243.91it/s]"
     ]
    },
    {
     "name": "stdout",
     "output_type": "stream",
     "text": [
      "Finished processing the CSV file.\n",
      "df.shape = (5000, 7)\n",
      "features = ['parental_income', 'sat_total_score', 'college_gpa']\n",
      "\n",
      "- Preprocessor()...\n",
      "  -- Replacing symbols in column names...\n"
     ]
    },
    {
     "name": "stderr",
     "output_type": "stream",
     "text": [
      "\n"
     ]
    },
    {
     "data": {
      "text/html": [
       "<div>\n",
       "<style scoped>\n",
       "    .dataframe tbody tr th:only-of-type {\n",
       "        vertical-align: middle;\n",
       "    }\n",
       "\n",
       "    .dataframe tbody tr th {\n",
       "        vertical-align: top;\n",
       "    }\n",
       "\n",
       "    .dataframe thead th {\n",
       "        text-align: right;\n",
       "    }\n",
       "</style>\n",
       "<table border=\"1\" class=\"dataframe\">\n",
       "  <thead>\n",
       "    <tr style=\"text-align: right;\">\n",
       "      <th></th>\n",
       "      <th>act_composite_score</th>\n",
       "      <th>sat_total_score</th>\n",
       "      <th>parental_level_of_education</th>\n",
       "      <th>parental_income</th>\n",
       "      <th>high_school_gpa</th>\n",
       "      <th>college_gpa</th>\n",
       "      <th>years_to_graduate</th>\n",
       "    </tr>\n",
       "  </thead>\n",
       "  <tbody>\n",
       "    <tr>\n",
       "      <th>11</th>\n",
       "      <td>29</td>\n",
       "      <td>2015</td>\n",
       "      <td>bachelor's degree</td>\n",
       "      <td>76369</td>\n",
       "      <td>3.9</td>\n",
       "      <td>3.4</td>\n",
       "      <td>6</td>\n",
       "    </tr>\n",
       "  </tbody>\n",
       "</table>\n",
       "</div>"
      ],
      "text/plain": [
       "    act_composite_score  sat_total_score parental_level_of_education  \\\n",
       "11                   29             2015           bachelor's degree   \n",
       "\n",
       "    parental_income  high_school_gpa  college_gpa  years_to_graduate  \n",
       "11            76369              3.9          3.4                  6  "
      ]
     },
     "metadata": {},
     "output_type": "display_data"
    },
    {
     "name": "stdout",
     "output_type": "stream",
     "text": [
      "  -- Replacing symbols in data...\n",
      "  -- Dropping TO_DROP columns...\n",
      "  -- Scaling columns with MinMaxScaler()...\n",
      "  -- Scaling columns with RobustScaler()...\n",
      "\n",
      "- FeatureBuilder()...\n",
      "  -- Creating 'target' column...\n",
      "  -- Set COLS_CATEGORICAL astype(category)...\n",
      "\n",
      "- Prepare DFs...\n",
      "  -- Split TARGET_NAME for y...\n",
      "  -- Dropping TARGET_NAME...\n"
     ]
    },
    {
     "data": {
      "text/html": [
       "<div>\n",
       "<style scoped>\n",
       "    .dataframe tbody tr th:only-of-type {\n",
       "        vertical-align: middle;\n",
       "    }\n",
       "\n",
       "    .dataframe tbody tr th {\n",
       "        vertical-align: top;\n",
       "    }\n",
       "\n",
       "    .dataframe thead th {\n",
       "        text-align: right;\n",
       "    }\n",
       "</style>\n",
       "<table border=\"1\" class=\"dataframe\">\n",
       "  <thead>\n",
       "    <tr style=\"text-align: right;\">\n",
       "      <th></th>\n",
       "      <th>parental_income</th>\n",
       "      <th>sat_total_score</th>\n",
       "      <th>college_gpa</th>\n",
       "    </tr>\n",
       "  </thead>\n",
       "  <tbody>\n",
       "    <tr>\n",
       "      <th>0</th>\n",
       "      <td>-0.165044</td>\n",
       "      <td>0.581050</td>\n",
       "      <td>0.600000</td>\n",
       "    </tr>\n",
       "    <tr>\n",
       "      <th>1</th>\n",
       "      <td>-1.011711</td>\n",
       "      <td>0.235160</td>\n",
       "      <td>0.266667</td>\n",
       "    </tr>\n",
       "    <tr>\n",
       "      <th>2</th>\n",
       "      <td>-1.570150</td>\n",
       "      <td>0.333333</td>\n",
       "      <td>0.400000</td>\n",
       "    </tr>\n",
       "    <tr>\n",
       "      <th>3</th>\n",
       "      <td>-0.680588</td>\n",
       "      <td>0.643836</td>\n",
       "      <td>0.400000</td>\n",
       "    </tr>\n",
       "    <tr>\n",
       "      <th>4</th>\n",
       "      <td>-0.856499</td>\n",
       "      <td>0.743151</td>\n",
       "      <td>0.600000</td>\n",
       "    </tr>\n",
       "  </tbody>\n",
       "</table>\n",
       "</div>"
      ],
      "text/plain": [
       "   parental_income  sat_total_score  college_gpa\n",
       "0        -0.165044         0.581050     0.600000\n",
       "1        -1.011711         0.235160     0.266667\n",
       "2        -1.570150         0.333333     0.400000\n",
       "3        -0.680588         0.643836     0.400000\n",
       "4        -0.856499         0.743151     0.600000"
      ]
     },
     "execution_count": 79,
     "metadata": {},
     "output_type": "execute_result"
    }
   ],
   "source": [
    "df_full_train, df_test, y_full_train, y_test = rebuild_df(features)\n",
    "df_train, df_val, y_train, y_val = train_test_split(df_full_train, y_full_train, test_size=0.25, random_state=11)\n",
    "df_full_train.head()"
   ]
  },
  {
   "cell_type": "markdown",
   "metadata": {},
   "source": [
    "### Hyperparams Tuning on HistGradientBoostingClassifier\n",
    "\n",
    "#### setup\n",
    "\n",
    "[source](https://inria.github.io/scikit-learn-mooc/python_scripts/parameter_tuning_randomized_search.html) for `loguniform_int` code snippet"
   ]
  },
  {
   "cell_type": "code",
   "execution_count": 33,
   "metadata": {
    "notebookRunGroups": {
     "groupValue": "12"
    }
   },
   "outputs": [],
   "source": [
    "# initialize\n",
    "scores = []\n",
    "fold = 0\n",
    "\n",
    "class loguniform_int:\n",
    "    \"\"\"Integer valued version of the log-uniform distribution\"\"\"\n",
    "\n",
    "    def __init__(self, a, b):\n",
    "        self._distribution = loguniform(a, b)\n",
    "\n",
    "    def rvs(self, *args, **kwargs):\n",
    "        \"\"\"Random variable sample\"\"\"\n",
    "        return self._distribution.rvs(*args, **kwargs).astype(int)\n",
    "\n",
    "# AUC is not a defined scoring metric for RandomizedSearchCV\n",
    "scoring = {\n",
    "    \"AUC\": make_scorer(roc_auc_score), \n",
    "    \"Accuracy\": make_scorer(accuracy_score), \n",
    "    \"F1\": make_scorer(f1_score),\n",
    "    \"Precision\": make_scorer(precision_score), \n",
    "    \"Recall\": make_scorer(recall_score)}\n",
    "\n",
    "# custom_loss=['Accuracy', 'AUC:hints=skip_train~false', 'F1','Precision', 'Recall']"
   ]
  },
  {
   "cell_type": "code",
   "execution_count": 34,
   "metadata": {
    "notebookRunGroups": {
     "groupValue": "1"
    }
   },
   "outputs": [],
   "source": [
    "# Create a k-fold cross-validator\n",
    "kfold = KFold(n_splits=5, shuffle=True, random_state=42)\n",
    "\n",
    "hist_param_grid = {\n",
    "    # 'classifier__loss': 'log_loss',                        # defaults, same as catboost's loss_function\n",
    "    # 'classifier__categorical_features': COLS_CATEGORICAL,  # defaults, same as catboost's cat_features\n",
    "    'learning_rate': loguniform(0.001, 10.0),    # defaults=0.1, 1=no shrinkage\n",
    "    'max_iter': loguniform_int(10, 1000),         # defaults=100; max num iterations/trees\n",
    "    'max_depth': loguniform_int(2, 12),          # defaults=None; max depth of each tree\n",
    "    'max_leaf_nodes': loguniform_int(2, 256),    # defaults=31;max num of leaves\n",
    "    'min_samples_leaf': loguniform_int(1, 100),  # defaults=20; min num of samples per leaf\n",
    "    'early_stopping': ['auto', True],       # defaults='auto'; enabled for sample-size > 10000, else enabled when True\n",
    "    'class_weight': WEIGHTS\n",
    "}\n",
    "\n",
    "# Create the model\n",
    "model = HistGradientBoostingClassifier(\n",
    "        # verbose=2, \n",
    "        # scoring='roc_auc', \n",
    "        warm_start=True,            # defaults=False\n",
    "        random_state=42             # defaults=None                          \n",
    "    )"
   ]
  },
  {
   "cell_type": "code",
   "execution_count": 35,
   "metadata": {
    "notebookRunGroups": {
     "groupValue": "1"
    }
   },
   "outputs": [],
   "source": [
    "# Create a RandomizedSearchCV object\n",
    "rnd_search = RandomizedSearchCV(\n",
    "    estimator=model, \n",
    "    param_distributions=hist_param_grid, \n",
    "    cv=kfold, \n",
    "    # n_iter=10,                     # defaults\n",
    "    # random_state=None,             # also has this here, or use in Classifier()           \n",
    "    scoring=scoring,                 # to replace defaults 'loss'\n",
    "    refit=\"AUC\",                     # defaults='loss'\n",
    "    error_score='raise', \n",
    "    return_train_score=True,\n",
    "    verbose=2,\n",
    "    n_jobs=-1\n",
    ")\n"
   ]
  },
  {
   "cell_type": "markdown",
   "metadata": {},
   "source": [
    "#### train"
   ]
  },
  {
   "cell_type": "code",
   "execution_count": 36,
   "metadata": {
    "notebookRunGroups": {
     "groupValue": "1"
    }
   },
   "outputs": [
    {
     "name": "stdout",
     "output_type": "stream",
     "text": [
      "df.shape = (4000, 3)\n",
      "df.shape = (3000, 3)\n",
      "df.shape = (1000, 3)\n",
      "df.shape = (1000, 3)\n",
      "\n",
      "y.shape = (4000,)\n",
      "y.shape = (3000,)\n",
      "y.shape = (1000,)\n",
      "y.shape = (1000,)\n"
     ]
    }
   ],
   "source": [
    "all_DFs = [df_full_train, df_train, df_val, df_test]\n",
    "all_Ys = [y_full_train, y_train, y_val, y_test]\n",
    "for df in all_DFs:\n",
    "    print(f'{df.shape = }') \n",
    "print()\n",
    "for y in all_Ys:\n",
    "    print(f'{y.shape = }')  "
   ]
  },
  {
   "cell_type": "code",
   "execution_count": 37,
   "metadata": {
    "notebookRunGroups": {
     "groupValue": "1"
    }
   },
   "outputs": [],
   "source": [
    "%%capture output   \n",
    "# Log the output of each step of the tuning process.\n",
    "logging.info('Starting HistGradientBoostingClassifier hyperparam tuning...')\n",
    "\n",
    "# Fit the pipeline to the train data and perform hyperparameter tuning\n",
    "for train_idx, val_idx in kfold.split(df_full_train):\n",
    "    \n",
    "    df_train = df_full_train.iloc[train_idx]\n",
    "    df_val = df_full_train.iloc[val_idx]\n",
    "\n",
    "    y_train = y_full_train.iloc[train_idx].values\n",
    "    y_val = y_full_train.iloc[val_idx].values\n",
    "    \n",
    "    logging.info(f'-- in rnd_search.fit(); kfold: {fold} --')\n",
    "    fold = fold + 1\n",
    "\n",
    "    logging.info('Fitting RandomizedSearchCV model...')\n",
    "    with open('randomizedcv_tuning.log', 'a') as f:\n",
    "        with redirect_stdout(f):\n",
    "            # Train the model on the train data\n",
    "            rnd_search.fit(df_train, y_train)\n",
    "    \n",
    "logging.info('RandomizedSearchCV fit completed')    \n",
    "# GridSearchCV took approx 45mins on my machine! \n",
    "# RandomizedSearchCV took approx 15s on my machine! "
   ]
  },
  {
   "cell_type": "markdown",
   "metadata": {},
   "source": [
    "#### predict"
   ]
  },
  {
   "cell_type": "code",
   "execution_count": 38,
   "metadata": {
    "notebookRunGroups": {
     "groupValue": "1"
    }
   },
   "outputs": [],
   "source": [
    "# Make predictions on the validate data\n",
    "y_pred_train = rnd_search.predict(df_train)\n",
    "y_pred_val = rnd_search.predict(df_val)\n",
    "\n",
    "# compile the scores in a list\n",
    "scores.append({\n",
    "    \"model\": \"HistGradientBoostingClassifier\",\n",
    "    \"train auc\": roc_auc_score(y_train, y_pred_train),\n",
    "    \"val auc\": roc_auc_score(y_val, y_pred_val),\n",
    "    \"accuracy\": accuracy_score(y_val, y_pred_val),\n",
    "    \"precision\": precision_score(y_val, y_pred_val),\n",
    "    \"f1_mean\": f1_score(y_val, y_pred_val),\n",
    "    \"recall\": recall_score(y_val, y_pred_val),   \n",
    "    }\n",
    ")\n",
    "logging.info(f'-- HistGradientBoostingClassifier val scores appended --')\n",
    "\n",
    "# Log the results of the tuning process.\n",
    "logging.info('Finished HistGradientBoostingClassifier hyperparam tuning. The best hyperparameters are: {}'.format(rnd_search.best_params_))"
   ]
  },
  {
   "cell_type": "code",
   "execution_count": 39,
   "metadata": {
    "notebookRunGroups": {
     "groupValue": "1"
    }
   },
   "outputs": [
    {
     "name": "stdout",
     "output_type": "stream",
     "text": [
      "(\"The best set of parameters is: {'class_weight': 'balanced', \"\n",
      " \"'early_stopping': 'auto', 'learning_rate': 0.007471874727782927, \"\n",
      " \"'max_depth': 3, 'max_iter': 189, 'max_leaf_nodes': 30, 'min_samples_leaf': \"\n",
      " '5}')\n",
      "\n",
      "train auc: 0.6487844072663659\n",
      "val auc: 0.6249192764198072\n"
     ]
    }
   ],
   "source": [
    "pprint(f\"The best set of parameters is: {rnd_search.best_params_}\")\n",
    "print()\n",
    "print(f\"train auc: {roc_auc_score(y_train, y_pred_train)}\")\n",
    "print(f\"val auc: {roc_auc_score(y_val, y_pred_val)}\")\n"
   ]
  },
  {
   "cell_type": "markdown",
   "metadata": {},
   "source": [
    "#### evaluate\n",
    "\n"
   ]
  },
  {
   "cell_type": "code",
   "execution_count": null,
   "metadata": {},
   "outputs": [],
   "source": [
    "# [source](https://inria.github.io/scikit-learn-mooc/python_scripts/parameter_tuning_parallel_plot.html) for `shorten_param` code snippet\n",
    "\n",
    "def shorten_param(param_name):\n",
    "    if \"param_\" in param_name:\n",
    "        return param_name.rsplit(\"param_\", 1)[1]\n",
    "    return param_name\n",
    "\n",
    "# [source](https://stackoverflow.com/a/73766566) for `clean_key(key)` code snippet\n",
    "pattern_list = ['param_', 'split']\n",
    "def clean_key(key):\n",
    "    for pattern in pattern_list:\n",
    "        key = key.replace(pattern, \"\")\n",
    "    return key\n",
    "{clean_key(k) :  v for k, v in x.items()}"
   ]
  },
  {
   "cell_type": "code",
   "execution_count": null,
   "metadata": {},
   "outputs": [],
   "source": [
    "cv_results = rnd_search.cv_results_"
   ]
  },
  {
   "cell_type": "code",
   "execution_count": 48,
   "metadata": {},
   "outputs": [
    {
     "data": {
      "text/plain": [
       "{'mean_fit_time': array([0.01259899, 0.51559954, 0.34870534, 0.01499858, 0.1372014 ,\n",
       "        0.02202077, 0.18357201, 0.42805748, 0.15679927, 0.22080054]),\n",
       " 'std_fit_time': array([0.00135627, 0.03114271, 0.02480657, 0.00189527, 0.06249653,\n",
       "        0.00199066, 0.01112641, 0.02904998, 0.03414295, 0.01561274]),\n",
       " 'mean_score_time': array([0.00760045, 0.03219986, 0.02777958, 0.00739908, 0.01540022,\n",
       "        0.00797887, 0.02160039, 0.03040004, 0.01460061, 0.02240038]),\n",
       " 'std_score_time': array([0.00080038, 0.01041949, 0.00148163, 0.00048833, 0.00454596,\n",
       "        0.00109573, 0.00417592, 0.00538823, 0.00135689, 0.00287053]),\n",
       " 'param_class_weight': masked_array(data=[None, None, None, 'balanced', None, 'balanced',\n",
       "                    'balanced', None, None, 'balanced'],\n",
       "              mask=[False, False, False, False, False, False, False, False,\n",
       "                    False, False],\n",
       "        fill_value='?',\n",
       "             dtype=object),\n",
       " 'param_early_stopping': masked_array(data=[True, 'auto', 'auto', True, True, True, 'auto', 'auto',\n",
       "                    'auto', 'auto'],\n",
       "              mask=[False, False, False, False, False, False, False, False,\n",
       "                    False, False],\n",
       "        fill_value='?',\n",
       "             dtype=object),\n",
       " 'param_learning_rate': masked_array(data=[8.679760803952036, 0.0075613244279331224,\n",
       "                    0.22983243790271513, 1.2838394343982915,\n",
       "                    0.022902029237836782, 2.003888928328832,\n",
       "                    0.007471874727782927, 0.00368739159084525,\n",
       "                    0.011503731048347988, 5.206568348674352],\n",
       "              mask=[False, False, False, False, False, False, False, False,\n",
       "                    False, False],\n",
       "        fill_value='?',\n",
       "             dtype=object),\n",
       " 'param_max_depth': masked_array(data=[7, 11, 3, 2, 2, 7, 3, 3, 3, 4],\n",
       "              mask=[False, False, False, False, False, False, False, False,\n",
       "                    False, False],\n",
       "        fill_value='?',\n",
       "             dtype=object),\n",
       " 'param_max_iter': masked_array(data=[355, 306, 477, 108, 329, 247, 189, 464, 134, 614],\n",
       "              mask=[False, False, False, False, False, False, False, False,\n",
       "                    False, False],\n",
       "        fill_value='?',\n",
       "             dtype=object),\n",
       " 'param_max_leaf_nodes': masked_array(data=[34, 18, 8, 61, 3, 37, 30, 46, 147, 43],\n",
       "              mask=[False, False, False, False, False, False, False, False,\n",
       "                    False, False],\n",
       "        fill_value='?',\n",
       "             dtype=object),\n",
       " 'param_min_samples_leaf': masked_array(data=[61, 16, 8, 15, 31, 8, 5, 1, 11, 2],\n",
       "              mask=[False, False, False, False, False, False, False, False,\n",
       "                    False, False],\n",
       "        fill_value='?',\n",
       "             dtype=object),\n",
       " 'params': [{'class_weight': None,\n",
       "   'early_stopping': True,\n",
       "   'learning_rate': 8.679760803952036,\n",
       "   'max_depth': 7,\n",
       "   'max_iter': 355,\n",
       "   'max_leaf_nodes': 34,\n",
       "   'min_samples_leaf': 61},\n",
       "  {'class_weight': None,\n",
       "   'early_stopping': 'auto',\n",
       "   'learning_rate': 0.0075613244279331224,\n",
       "   'max_depth': 11,\n",
       "   'max_iter': 306,\n",
       "   'max_leaf_nodes': 18,\n",
       "   'min_samples_leaf': 16},\n",
       "  {'class_weight': None,\n",
       "   'early_stopping': 'auto',\n",
       "   'learning_rate': 0.22983243790271513,\n",
       "   'max_depth': 3,\n",
       "   'max_iter': 477,\n",
       "   'max_leaf_nodes': 8,\n",
       "   'min_samples_leaf': 8},\n",
       "  {'class_weight': 'balanced',\n",
       "   'early_stopping': True,\n",
       "   'learning_rate': 1.2838394343982915,\n",
       "   'max_depth': 2,\n",
       "   'max_iter': 108,\n",
       "   'max_leaf_nodes': 61,\n",
       "   'min_samples_leaf': 15},\n",
       "  {'class_weight': None,\n",
       "   'early_stopping': True,\n",
       "   'learning_rate': 0.022902029237836782,\n",
       "   'max_depth': 2,\n",
       "   'max_iter': 329,\n",
       "   'max_leaf_nodes': 3,\n",
       "   'min_samples_leaf': 31},\n",
       "  {'class_weight': 'balanced',\n",
       "   'early_stopping': True,\n",
       "   'learning_rate': 2.003888928328832,\n",
       "   'max_depth': 7,\n",
       "   'max_iter': 247,\n",
       "   'max_leaf_nodes': 37,\n",
       "   'min_samples_leaf': 8},\n",
       "  {'class_weight': 'balanced',\n",
       "   'early_stopping': 'auto',\n",
       "   'learning_rate': 0.007471874727782927,\n",
       "   'max_depth': 3,\n",
       "   'max_iter': 189,\n",
       "   'max_leaf_nodes': 30,\n",
       "   'min_samples_leaf': 5},\n",
       "  {'class_weight': None,\n",
       "   'early_stopping': 'auto',\n",
       "   'learning_rate': 0.00368739159084525,\n",
       "   'max_depth': 3,\n",
       "   'max_iter': 464,\n",
       "   'max_leaf_nodes': 46,\n",
       "   'min_samples_leaf': 1},\n",
       "  {'class_weight': None,\n",
       "   'early_stopping': 'auto',\n",
       "   'learning_rate': 0.011503731048347988,\n",
       "   'max_depth': 3,\n",
       "   'max_iter': 134,\n",
       "   'max_leaf_nodes': 147,\n",
       "   'min_samples_leaf': 11},\n",
       "  {'class_weight': 'balanced',\n",
       "   'early_stopping': 'auto',\n",
       "   'learning_rate': 5.206568348674352,\n",
       "   'max_depth': 4,\n",
       "   'max_iter': 614,\n",
       "   'max_leaf_nodes': 43,\n",
       "   'min_samples_leaf': 2}],\n",
       " 'split0_test_AUC': array([0.36602468, 0.59837111, 0.61388026, 0.60572341, 0.59044943,\n",
       "        0.5788516 , 0.64341325, 0.59687341, 0.59248555, 0.36953374]),\n",
       " 'split1_test_AUC': array([0.35208023, 0.58256154, 0.59767743, 0.60653102, 0.54730313,\n",
       "        0.60585921, 0.63318777, 0.56160324, 0.56160324, 0.40917271]),\n",
       " 'split2_test_AUC': array([0.39852535, 0.56457757, 0.57016897, 0.6065745 , 0.57136713,\n",
       "        0.54073733, 0.61173579, 0.56568356, 0.56568356, 0.38460829]),\n",
       " 'split3_test_AUC': array([0.41223609, 0.57674398, 0.58763959, 0.5926579 , 0.57846196,\n",
       "        0.56581446, 0.63050997, 0.56931823, 0.57026764, 0.36683394]),\n",
       " 'split4_test_AUC': array([0.39913838, 0.59112447, 0.59273016, 0.59695343, 0.58212048,\n",
       "        0.5436142 , 0.63550819, 0.58553788, 0.57653389, 0.41039033]),\n",
       " 'mean_test_AUC': array([0.38560095, 0.58267573, 0.59241928, 0.60168805, 0.57394043,\n",
       "        0.56697536, 0.63087099, 0.57580327, 0.57331478, 0.3881078 ]),\n",
       " 'std_test_AUC': array([0.02265657, 0.01166592, 0.01418619, 0.00578924, 0.01467019,\n",
       "        0.02403549, 0.01049253, 0.01330277, 0.01079409, 0.01870861]),\n",
       " 'rank_test_AUC': array([10,  4,  3,  2,  6,  8,  1,  5,  7,  9]),\n",
       " 'split0_train_AUC': array([0.38217555, 0.60284419, 0.78278657, 0.65445965, 0.57882282,\n",
       "        0.68010227, 0.64609679, 0.57727891, 0.57026363, 0.37947742]),\n",
       " 'split1_train_AUC': array([0.39178858, 0.60045483, 0.78892328, 0.65688205, 0.55680668,\n",
       "        0.68039195, 0.65117257, 0.57834813, 0.57834813, 0.40372146]),\n",
       " 'split2_train_AUC': array([0.37240179, 0.60930349, 0.8045266 , 0.66419956, 0.59659849,\n",
       "        0.65226926, 0.65013587, 0.58527603, 0.58241562, 0.38609601]),\n",
       " 'split3_train_AUC': array([0.38789005, 0.60408585, 0.7972106 , 0.66210503, 0.58891546,\n",
       "        0.65886164, 0.6437442 , 0.58596047, 0.58303444, 0.36557223]),\n",
       " 'split4_train_AUC': array([0.37875459, 0.61009823, 0.78099778, 0.65408461, 0.59206215,\n",
       "        0.64584006, 0.65260938, 0.58823881, 0.58304935, 0.43037271]),\n",
       " 'mean_train_AUC': array([0.38260211, 0.60535732, 0.79088896, 0.65834618, 0.58264112,\n",
       "        0.66349304, 0.64875176, 0.58302047, 0.57942223, 0.39304797]),\n",
       " 'std_train_AUC': array([0.00680273, 0.00374207, 0.00886901, 0.00409392, 0.01417695,\n",
       "        0.01428629, 0.00331004, 0.00437627, 0.00490302, 0.02233592]),\n",
       " 'split0_test_Accuracy': array([0.3828125, 0.775    , 0.73125  , 0.634375 , 0.76875  , 0.603125 ,\n",
       "        0.7      , 0.778125 , 0.7796875, 0.284375 ]),\n",
       " 'split1_test_Accuracy': array([0.359375 , 0.74375  , 0.715625 , 0.640625 , 0.7359375, 0.65625  ,\n",
       "        0.690625 , 0.7421875, 0.7421875, 0.3984375]),\n",
       " 'split2_test_Accuracy': array([0.3875   , 0.7453125, 0.7171875, 0.640625 , 0.75     , 0.5734375,\n",
       "        0.684375 , 0.7546875, 0.7546875, 0.3828125]),\n",
       " 'split3_test_Accuracy': array([0.4328125, 0.721875 , 0.6875   , 0.625    , 0.71875  , 0.6046875,\n",
       "        0.6859375, 0.7171875, 0.7203125, 0.303125 ]),\n",
       " 'split4_test_Accuracy': array([0.3953125, 0.753125 , 0.7234375, 0.61875  , 0.75     , 0.5640625,\n",
       "        0.6890625, 0.75     , 0.746875 , 0.26875  ]),\n",
       " 'mean_test_Accuracy': array([0.3915625, 0.7478125, 0.715    , 0.631875 , 0.7446875, 0.6003125,\n",
       "        0.69     , 0.7484375, 0.74875  , 0.3275   ]),\n",
       " 'std_test_Accuracy': array([0.02385257, 0.01710492, 0.01480999, 0.00870524, 0.01664191,\n",
       "        0.0322254 , 0.00546652, 0.01968998, 0.0192232 , 0.05290949]),\n",
       " 'rank_test_Accuracy': array([ 9,  3,  5,  7,  4,  8,  6,  2,  1, 10]),\n",
       " 'split0_train_Accuracy': array([0.39023438, 0.76171875, 0.86523438, 0.67109375, 0.7453125 ,\n",
       "        0.67890625, 0.69648438, 0.75      , 0.74804688, 0.30664062]),\n",
       " 'split1_train_Accuracy': array([0.396875  , 0.76445312, 0.8734375 , 0.68632812, 0.74453125,\n",
       "        0.71523437, 0.69882813, 0.75585938, 0.75585938, 0.40390625]),\n",
       " 'split2_train_Accuracy': array([0.371875  , 0.76835937, 0.87851563, 0.68085938, 0.75429687,\n",
       "        0.66328125, 0.70585937, 0.75664062, 0.75429687, 0.39023438]),\n",
       " 'split3_train_Accuracy': array([0.421875  , 0.77226562, 0.87851563, 0.69257813, 0.75976562,\n",
       "        0.6765625 , 0.71132812, 0.76367188, 0.76132813, 0.28515625]),\n",
       " 'split4_train_Accuracy': array([0.37539062, 0.76835937, 0.86445313, 0.684375  , 0.75546875,\n",
       "        0.6421875 , 0.70507812, 0.7546875 , 0.753125  , 0.28125   ]),\n",
       " 'mean_train_Accuracy': array([0.39125   , 0.76703125, 0.87203125, 0.68304687, 0.751875  ,\n",
       "        0.67523438, 0.70351563, 0.75617188, 0.75453125, 0.3334375 ]),\n",
       " 'std_train_Accuracy': array([0.01787441, 0.00362756, 0.0061595 , 0.00708573, 0.00596724,\n",
       "        0.02387559, 0.0052987 , 0.00440143, 0.00429048, 0.05284774]),\n",
       " 'split0_test_F1': array([0.22396857, 0.33944954, 0.41891892, 0.44549763, 0.32110092,\n",
       "        0.41743119, 0.48387097, 0.33018868, 0.31219512, 0.29538462]),\n",
       " 'split1_test_F1': array([0.22932331, 0.31666667, 0.39333333, 0.4549763 , 0.19138756,\n",
       "        0.44723618, 0.47894737, 0.23963134, 0.23963134, 0.29097606]),\n",
       " 'split2_test_F1': array([0.27407407, 0.26244344, 0.32209738, 0.44711538, 0.27927928,\n",
       "        0.37528604, 0.43888889, 0.24880383, 0.24880383, 0.25612053]),\n",
       " 'split3_test_F1': array([0.28402367, 0.29365079, 0.3902439 , 0.45945946, 0.30769231,\n",
       "        0.42369021, 0.49113924, 0.27309237, 0.26938776, 0.32831325]),\n",
       " 'split4_test_F1': array([0.2739212 , 0.33613445, 0.3745583 , 0.44545455, 0.31034483,\n",
       "        0.38949672, 0.48041775, 0.3220339 , 0.29565217, 0.35890411]),\n",
       " 'mean_test_F1': array([0.25706216, 0.30966898, 0.37983037, 0.45050066, 0.28196098,\n",
       "        0.41062807, 0.47465284, 0.28275002, 0.27313404, 0.30593971]),\n",
       " 'std_test_F1': array([0.02516023, 0.02871621, 0.03218565, 0.0056964 , 0.04735064,\n",
       "        0.02550548, 0.01837124, 0.03714427, 0.02742721, 0.0349945 ]),\n",
       " 'rank_test_F1': array([10,  5,  4,  2,  8,  3,  1,  7,  9,  6]),\n",
       " 'split0_train_F1': array([0.25560324, 0.3551797 , 0.7155812 , 0.51885714, 0.29589633,\n",
       "        0.55081967, 0.50032154, 0.28089888, 0.25605536, 0.31440711]),\n",
       " 'split1_train_F1': array([0.26406101, 0.34669556, 0.72727273, 0.51655629, 0.21204819,\n",
       "        0.5452277 , 0.50545221, 0.27912341, 0.27912341, 0.2781457 ]),\n",
       " 'split2_train_F1': array([0.25486562, 0.3684771 , 0.74899112, 0.52964882, 0.34547347,\n",
       "        0.51681614, 0.50362558, 0.30078563, 0.29405163, 0.26193853]),\n",
       " 'split3_train_F1': array([0.22996878, 0.3558011 , 0.73710904, 0.51688152, 0.32194046,\n",
       "        0.51465416, 0.48573417, 0.3053961 , 0.29850746, 0.29723502]),\n",
       " 'split4_train_F1': array([0.26143187, 0.37248677, 0.7120332 , 0.51383875, 0.32976445,\n",
       "        0.51120598, 0.50685826, 0.3173913 , 0.30088496, 0.38255034]),\n",
       " 'mean_train_F1': array([0.2531861 , 0.35972805, 0.72819746, 0.5191565 , 0.30102458,\n",
       "        0.52774473, 0.50039835, 0.29671907, 0.28572456, 0.30685534]),\n",
       " 'std_train_F1': array([0.0121158 , 0.009437  , 0.0136609 , 0.0054844 , 0.04729113,\n",
       "        0.01674774, 0.00765155, 0.0146905 , 0.01665183, 0.0417638 ]),\n",
       " 'split0_test_Precision': array([0.16964286, 0.82222222, 0.50406504, 0.37751004, 0.77777778,\n",
       "        0.3460076 , 0.45226131, 0.8974359 , 1.        , 0.20125786]),\n",
       " 'split1_test_Precision': array([0.17428571, 0.65517241, 0.5       , 0.4       , 0.74074074,\n",
       "        0.41203704, 0.45959596, 0.74285714, 0.74285714, 0.21883657]),\n",
       " 'split2_test_Precision': array([0.20273973, 0.63043478, 0.4673913 , 0.38589212, 0.65957447,\n",
       "        0.3129771 , 0.42702703, 0.76470588, 0.76470588, 0.19101124]),\n",
       " 'split3_test_Precision': array([0.23606557, 0.74      , 0.50793651, 0.4214876 , 0.68965517,\n",
       "        0.39240506, 0.50259067, 0.72340426, 0.76744186, 0.23593074]),\n",
       " 'split4_test_Precision': array([0.20621469, 0.6779661 , 0.50961538, 0.37547893, 0.67924528,\n",
       "        0.32014388, 0.45098039, 0.66666667, 0.66666667, 0.23774955]),\n",
       " 'mean_test_Precision': array([0.19778971, 0.7051591 , 0.49780165, 0.39207374, 0.70939869,\n",
       "        0.35671414, 0.45849107, 0.75901397, 0.78833431, 0.21695719]),\n",
       " 'std_test_Precision': array([0.0241048 , 0.06890503, 0.01556362, 0.01705111, 0.04345   ,\n",
       "        0.03924132, 0.02462195, 0.07648549, 0.11195387, 0.01852302]),\n",
       " 'rank_test_Precision': array([10,  4,  5,  7,  3,  8,  6,  2,  1,  9]),\n",
       " 'split0_train_Precision': array([0.19720383, 0.80769231, 0.91368421, 0.4486166 , 0.7287234 ,\n",
       "        0.46153846, 0.47613219, 0.82236842, 0.86046512, 0.21988115]),\n",
       " 'split1_train_Precision': array([0.20233747, 0.82474227, 0.94117647, 0.46030043, 0.87128713,\n",
       "        0.5       , 0.4746988 , 0.87681159, 0.87681159, 0.21227437]),\n",
       " 'split2_train_Precision': array([0.19338959, 0.85221675, 0.92246521, 0.45954046, 0.73777778,\n",
       "        0.4398855 , 0.48911652, 0.86451613, 0.84516129, 0.2008702 ]),\n",
       " 'split3_train_Precision': array([0.18219291, 0.82142857, 0.91983122, 0.4576087 , 0.73737374,\n",
       "        0.44032096, 0.4793956 , 0.82098765, 0.80246914, 0.20422164]),\n",
       " 'split4_train_Precision': array([0.19748779, 0.82629108, 0.90697674, 0.45913978, 0.76237624,\n",
       "        0.41943958, 0.48560701, 0.77659574, 0.79069767, 0.25355872]),\n",
       " 'mean_train_Precision': array([0.19452232, 0.8264742 , 0.92082677, 0.45704119, 0.76750766,\n",
       "        0.4522369 , 0.48099002, 0.83225591, 0.83512096, 0.21816121]),\n",
       " 'std_train_Precision': array([0.00678761, 0.01444943, 0.01149457, 0.00430276, 0.05308982,\n",
       "        0.02734243, 0.00553311, 0.03563347, 0.03322894, 0.01888856]),\n",
       " 'split0_test_Recall': array([0.32947977, 0.21387283, 0.3583815 , 0.5433526 , 0.20231214,\n",
       "        0.52601156, 0.52023121, 0.20231214, 0.1849711 , 0.55491329]),\n",
       " 'split1_test_Recall': array([0.33516484, 0.20879121, 0.32417582, 0.52747253, 0.10989011,\n",
       "        0.48901099, 0.5       , 0.14285714, 0.14285714, 0.43406593]),\n",
       " 'split2_test_Recall': array([0.42285714, 0.16571429, 0.24571429, 0.53142857, 0.17714286,\n",
       "        0.46857143, 0.45142857, 0.14857143, 0.14857143, 0.38857143]),\n",
       " 'split3_test_Recall': array([0.35643564, 0.18316832, 0.31683168, 0.5049505 , 0.1980198 ,\n",
       "        0.46039604, 0.48019802, 0.16831683, 0.16336634, 0.53960396]),\n",
       " 'split4_test_Recall': array([0.40782123, 0.22346369, 0.29608939, 0.54748603, 0.20111732,\n",
       "        0.4972067 , 0.51396648, 0.2122905 , 0.18994413, 0.73184358]),\n",
       " 'mean_test_Recall': array([0.37035172, 0.19900207, 0.30823854, 0.53093805, 0.17769645,\n",
       "        0.48823934, 0.49316486, 0.17486961, 0.16594203, 0.52979964]),\n",
       " 'std_test_Recall': array([0.03811318, 0.02132661, 0.03714577, 0.01493694, 0.03511556,\n",
       "        0.02310769, 0.02498828, 0.02797408, 0.01886526, 0.11887718]),\n",
       " 'rank_test_Recall': array([ 5,  7,  6,  1,  8,  4,  3,  9, 10,  2]),\n",
       " 'split0_train_Recall': array([0.36314363, 0.22764228, 0.58807588, 0.61517615, 0.18563686,\n",
       "        0.68292683, 0.52710027, 0.16937669, 0.1504065 , 0.55149051]),\n",
       " 'split1_train_Recall': array([0.37997257, 0.21947874, 0.59259259, 0.58847737, 0.12071331,\n",
       "        0.5994513 , 0.54046639, 0.1659808 , 0.1659808 , 0.40329218]),\n",
       " 'split2_train_Recall': array([0.3736413 , 0.23505435, 0.63043478, 0.625     , 0.22554348,\n",
       "        0.6263587 , 0.51902174, 0.18206522, 0.17798913, 0.3763587 ]),\n",
       " 'split3_train_Recall': array([0.31170663, 0.22708039, 0.61495063, 0.59379408, 0.20592384,\n",
       "        0.61918195, 0.4922426 , 0.18758815, 0.18335684, 0.54583921]),\n",
       " 'split4_train_Recall': array([0.38661202, 0.24043716, 0.58606557, 0.58333333, 0.21038251,\n",
       "        0.65437158, 0.53005464, 0.19945355, 0.18579235, 0.77868852]),\n",
       " 'mean_train_Recall': array([0.36301523, 0.22993858, 0.60242389, 0.60115619, 0.18964   ,\n",
       "        0.63645807, 0.52177713, 0.18089288, 0.17270512, 0.53113383]),\n",
       " 'std_train_Recall': array([0.02679501, 0.00720058, 0.0173876 , 0.01611021, 0.03674613,\n",
       "        0.02915545, 0.0162851 , 0.01221223, 0.01307746, 0.14297748])}"
      ]
     },
     "execution_count": 48,
     "metadata": {},
     "output_type": "execute_result"
    }
   ],
   "source": [
    "rnd_search.cv_results_"
   ]
  },
  {
   "cell_type": "code",
   "execution_count": 45,
   "metadata": {},
   "outputs": [
    {
     "data": {
      "text/html": [
       "<style>#sk-container-id-1 {color: black;}#sk-container-id-1 pre{padding: 0;}#sk-container-id-1 div.sk-toggleable {background-color: white;}#sk-container-id-1 label.sk-toggleable__label {cursor: pointer;display: block;width: 100%;margin-bottom: 0;padding: 0.3em;box-sizing: border-box;text-align: center;}#sk-container-id-1 label.sk-toggleable__label-arrow:before {content: \"▸\";float: left;margin-right: 0.25em;color: #696969;}#sk-container-id-1 label.sk-toggleable__label-arrow:hover:before {color: black;}#sk-container-id-1 div.sk-estimator:hover label.sk-toggleable__label-arrow:before {color: black;}#sk-container-id-1 div.sk-toggleable__content {max-height: 0;max-width: 0;overflow: hidden;text-align: left;background-color: #f0f8ff;}#sk-container-id-1 div.sk-toggleable__content pre {margin: 0.2em;color: black;border-radius: 0.25em;background-color: #f0f8ff;}#sk-container-id-1 input.sk-toggleable__control:checked~div.sk-toggleable__content {max-height: 200px;max-width: 100%;overflow: auto;}#sk-container-id-1 input.sk-toggleable__control:checked~label.sk-toggleable__label-arrow:before {content: \"▾\";}#sk-container-id-1 div.sk-estimator input.sk-toggleable__control:checked~label.sk-toggleable__label {background-color: #d4ebff;}#sk-container-id-1 div.sk-label input.sk-toggleable__control:checked~label.sk-toggleable__label {background-color: #d4ebff;}#sk-container-id-1 input.sk-hidden--visually {border: 0;clip: rect(1px 1px 1px 1px);clip: rect(1px, 1px, 1px, 1px);height: 1px;margin: -1px;overflow: hidden;padding: 0;position: absolute;width: 1px;}#sk-container-id-1 div.sk-estimator {font-family: monospace;background-color: #f0f8ff;border: 1px dotted black;border-radius: 0.25em;box-sizing: border-box;margin-bottom: 0.5em;}#sk-container-id-1 div.sk-estimator:hover {background-color: #d4ebff;}#sk-container-id-1 div.sk-parallel-item::after {content: \"\";width: 100%;border-bottom: 1px solid gray;flex-grow: 1;}#sk-container-id-1 div.sk-label:hover label.sk-toggleable__label {background-color: #d4ebff;}#sk-container-id-1 div.sk-serial::before {content: \"\";position: absolute;border-left: 1px solid gray;box-sizing: border-box;top: 0;bottom: 0;left: 50%;z-index: 0;}#sk-container-id-1 div.sk-serial {display: flex;flex-direction: column;align-items: center;background-color: white;padding-right: 0.2em;padding-left: 0.2em;position: relative;}#sk-container-id-1 div.sk-item {position: relative;z-index: 1;}#sk-container-id-1 div.sk-parallel {display: flex;align-items: stretch;justify-content: center;background-color: white;position: relative;}#sk-container-id-1 div.sk-item::before, #sk-container-id-1 div.sk-parallel-item::before {content: \"\";position: absolute;border-left: 1px solid gray;box-sizing: border-box;top: 0;bottom: 0;left: 50%;z-index: -1;}#sk-container-id-1 div.sk-parallel-item {display: flex;flex-direction: column;z-index: 1;position: relative;background-color: white;}#sk-container-id-1 div.sk-parallel-item:first-child::after {align-self: flex-end;width: 50%;}#sk-container-id-1 div.sk-parallel-item:last-child::after {align-self: flex-start;width: 50%;}#sk-container-id-1 div.sk-parallel-item:only-child::after {width: 0;}#sk-container-id-1 div.sk-dashed-wrapped {border: 1px dashed gray;margin: 0 0.4em 0.5em 0.4em;box-sizing: border-box;padding-bottom: 0.4em;background-color: white;}#sk-container-id-1 div.sk-label label {font-family: monospace;font-weight: bold;display: inline-block;line-height: 1.2em;}#sk-container-id-1 div.sk-label-container {text-align: center;}#sk-container-id-1 div.sk-container {/* jupyter's `normalize.less` sets `[hidden] { display: none; }` but bootstrap.min.css set `[hidden] { display: none !important; }` so we also need the `!important` here to be able to override the default hidden behavior on the sphinx rendered scikit-learn.org. See: https://github.com/scikit-learn/scikit-learn/issues/21755 */display: inline-block !important;position: relative;}#sk-container-id-1 div.sk-text-repr-fallback {display: none;}</style><div id=\"sk-container-id-1\" class=\"sk-top-container\"><div class=\"sk-text-repr-fallback\"><pre>RandomizedSearchCV(cv=KFold(n_splits=5, random_state=42, shuffle=True),\n",
       "                   error_score=&#x27;raise&#x27;,\n",
       "                   estimator=HistGradientBoostingClassifier(random_state=42,\n",
       "                                                            warm_start=True),\n",
       "                   n_jobs=-1,\n",
       "                   param_distributions={&#x27;class_weight&#x27;: [&#x27;balanced&#x27;, None],\n",
       "                                        &#x27;early_stopping&#x27;: [&#x27;auto&#x27;, True],\n",
       "                                        &#x27;learning_rate&#x27;: &lt;scipy.stats._distn_infrastructure.rv_continuous_frozen object at 0x000002BE332...\n",
       "                                        &#x27;max_leaf_nodes&#x27;: &lt;__main__.loguniform_int object at 0x000002BE3A3BDCF0&gt;,\n",
       "                                        &#x27;min_samples_leaf&#x27;: &lt;__main__.loguniform_int object at 0x000002BE3A3BD270&gt;},\n",
       "                   refit=&#x27;AUC&#x27;, return_train_score=True,\n",
       "                   scoring={&#x27;AUC&#x27;: make_scorer(roc_auc_score),\n",
       "                            &#x27;Accuracy&#x27;: make_scorer(accuracy_score),\n",
       "                            &#x27;F1&#x27;: make_scorer(f1_score),\n",
       "                            &#x27;Precision&#x27;: make_scorer(precision_score),\n",
       "                            &#x27;Recall&#x27;: make_scorer(recall_score)},\n",
       "                   verbose=2)</pre><b>In a Jupyter environment, please rerun this cell to show the HTML representation or trust the notebook. <br />On GitHub, the HTML representation is unable to render, please try loading this page with nbviewer.org.</b></div><div class=\"sk-container\" hidden><div class=\"sk-item sk-dashed-wrapped\"><div class=\"sk-label-container\"><div class=\"sk-label sk-toggleable\"><input class=\"sk-toggleable__control sk-hidden--visually\" id=\"sk-estimator-id-1\" type=\"checkbox\" ><label for=\"sk-estimator-id-1\" class=\"sk-toggleable__label sk-toggleable__label-arrow\">RandomizedSearchCV</label><div class=\"sk-toggleable__content\"><pre>RandomizedSearchCV(cv=KFold(n_splits=5, random_state=42, shuffle=True),\n",
       "                   error_score=&#x27;raise&#x27;,\n",
       "                   estimator=HistGradientBoostingClassifier(random_state=42,\n",
       "                                                            warm_start=True),\n",
       "                   n_jobs=-1,\n",
       "                   param_distributions={&#x27;class_weight&#x27;: [&#x27;balanced&#x27;, None],\n",
       "                                        &#x27;early_stopping&#x27;: [&#x27;auto&#x27;, True],\n",
       "                                        &#x27;learning_rate&#x27;: &lt;scipy.stats._distn_infrastructure.rv_continuous_frozen object at 0x000002BE332...\n",
       "                                        &#x27;max_leaf_nodes&#x27;: &lt;__main__.loguniform_int object at 0x000002BE3A3BDCF0&gt;,\n",
       "                                        &#x27;min_samples_leaf&#x27;: &lt;__main__.loguniform_int object at 0x000002BE3A3BD270&gt;},\n",
       "                   refit=&#x27;AUC&#x27;, return_train_score=True,\n",
       "                   scoring={&#x27;AUC&#x27;: make_scorer(roc_auc_score),\n",
       "                            &#x27;Accuracy&#x27;: make_scorer(accuracy_score),\n",
       "                            &#x27;F1&#x27;: make_scorer(f1_score),\n",
       "                            &#x27;Precision&#x27;: make_scorer(precision_score),\n",
       "                            &#x27;Recall&#x27;: make_scorer(recall_score)},\n",
       "                   verbose=2)</pre></div></div></div><div class=\"sk-parallel\"><div class=\"sk-parallel-item\"><div class=\"sk-item\"><div class=\"sk-label-container\"><div class=\"sk-label sk-toggleable\"><input class=\"sk-toggleable__control sk-hidden--visually\" id=\"sk-estimator-id-2\" type=\"checkbox\" ><label for=\"sk-estimator-id-2\" class=\"sk-toggleable__label sk-toggleable__label-arrow\">estimator: HistGradientBoostingClassifier</label><div class=\"sk-toggleable__content\"><pre>HistGradientBoostingClassifier(random_state=42, warm_start=True)</pre></div></div></div><div class=\"sk-serial\"><div class=\"sk-item\"><div class=\"sk-estimator sk-toggleable\"><input class=\"sk-toggleable__control sk-hidden--visually\" id=\"sk-estimator-id-3\" type=\"checkbox\" ><label for=\"sk-estimator-id-3\" class=\"sk-toggleable__label sk-toggleable__label-arrow\">HistGradientBoostingClassifier</label><div class=\"sk-toggleable__content\"><pre>HistGradientBoostingClassifier(random_state=42, warm_start=True)</pre></div></div></div></div></div></div></div></div></div></div>"
      ],
      "text/plain": [
       "RandomizedSearchCV(cv=KFold(n_splits=5, random_state=42, shuffle=True),\n",
       "                   error_score='raise',\n",
       "                   estimator=HistGradientBoostingClassifier(random_state=42,\n",
       "                                                            warm_start=True),\n",
       "                   n_jobs=-1,\n",
       "                   param_distributions={'class_weight': ['balanced', None],\n",
       "                                        'early_stopping': ['auto', True],\n",
       "                                        'learning_rate': <scipy.stats._distn_infrastructure.rv_continuous_frozen object at 0x000002BE332...\n",
       "                                        'max_leaf_nodes': <__main__.loguniform_int object at 0x000002BE3A3BDCF0>,\n",
       "                                        'min_samples_leaf': <__main__.loguniform_int object at 0x000002BE3A3BD270>},\n",
       "                   refit='AUC', return_train_score=True,\n",
       "                   scoring={'AUC': make_scorer(roc_auc_score),\n",
       "                            'Accuracy': make_scorer(accuracy_score),\n",
       "                            'F1': make_scorer(f1_score),\n",
       "                            'Precision': make_scorer(precision_score),\n",
       "                            'Recall': make_scorer(recall_score)},\n",
       "                   verbose=2)"
      ]
     },
     "execution_count": 45,
     "metadata": {},
     "output_type": "execute_result"
    }
   ],
   "source": [
    "rnd_search"
   ]
  },
  {
   "cell_type": "code",
   "execution_count": 41,
   "metadata": {
    "notebookRunGroups": {
     "groupValue": ""
    }
   },
   "outputs": [],
   "source": [
    "cv_results = cv_results.rename(shorten_param, axis=1)"
   ]
  },
  {
   "cell_type": "code",
   "execution_count": 44,
   "metadata": {
    "notebookRunGroups": {
     "groupValue": ""
    }
   },
   "outputs": [
    {
     "data": {
      "text/html": [
       "<div>\n",
       "<style scoped>\n",
       "    .dataframe tbody tr th:only-of-type {\n",
       "        vertical-align: middle;\n",
       "    }\n",
       "\n",
       "    .dataframe tbody tr th {\n",
       "        vertical-align: top;\n",
       "    }\n",
       "\n",
       "    .dataframe thead th {\n",
       "        text-align: right;\n",
       "    }\n",
       "</style>\n",
       "<table border=\"1\" class=\"dataframe\">\n",
       "  <thead>\n",
       "    <tr style=\"text-align: right;\">\n",
       "      <th></th>\n",
       "      <th>iterations</th>\n",
       "      <th>test-AUC-mean</th>\n",
       "      <th>test-AUC-std</th>\n",
       "      <th>train-AUC-mean</th>\n",
       "      <th>train-AUC-std</th>\n",
       "      <th>test-Logloss-mean</th>\n",
       "      <th>test-Logloss-std</th>\n",
       "      <th>train-Logloss-mean</th>\n",
       "      <th>train-Logloss-std</th>\n",
       "    </tr>\n",
       "  </thead>\n",
       "  <tbody>\n",
       "    <tr>\n",
       "      <th>0</th>\n",
       "      <td>0</td>\n",
       "      <td>0.649426</td>\n",
       "      <td>0.028056</td>\n",
       "      <td>0.661140</td>\n",
       "      <td>0.007793</td>\n",
       "      <td>0.561948</td>\n",
       "      <td>0.015039</td>\n",
       "      <td>0.553559</td>\n",
       "      <td>0.005687</td>\n",
       "    </tr>\n",
       "    <tr>\n",
       "      <th>1</th>\n",
       "      <td>1</td>\n",
       "      <td>0.651051</td>\n",
       "      <td>0.019090</td>\n",
       "      <td>0.691803</td>\n",
       "      <td>0.012197</td>\n",
       "      <td>0.556597</td>\n",
       "      <td>0.018309</td>\n",
       "      <td>0.536078</td>\n",
       "      <td>0.006766</td>\n",
       "    </tr>\n",
       "    <tr>\n",
       "      <th>2</th>\n",
       "      <td>2</td>\n",
       "      <td>0.657591</td>\n",
       "      <td>0.018838</td>\n",
       "      <td>0.702218</td>\n",
       "      <td>0.013646</td>\n",
       "      <td>0.556237</td>\n",
       "      <td>0.020730</td>\n",
       "      <td>0.530861</td>\n",
       "      <td>0.007223</td>\n",
       "    </tr>\n",
       "    <tr>\n",
       "      <th>3</th>\n",
       "      <td>3</td>\n",
       "      <td>0.655833</td>\n",
       "      <td>0.021524</td>\n",
       "      <td>0.716745</td>\n",
       "      <td>0.011658</td>\n",
       "      <td>0.558159</td>\n",
       "      <td>0.020468</td>\n",
       "      <td>0.522995</td>\n",
       "      <td>0.006570</td>\n",
       "    </tr>\n",
       "    <tr>\n",
       "      <th>4</th>\n",
       "      <td>4</td>\n",
       "      <td>0.646943</td>\n",
       "      <td>0.025236</td>\n",
       "      <td>0.726609</td>\n",
       "      <td>0.006411</td>\n",
       "      <td>0.567563</td>\n",
       "      <td>0.028432</td>\n",
       "      <td>0.516382</td>\n",
       "      <td>0.006656</td>\n",
       "    </tr>\n",
       "    <tr>\n",
       "      <th>...</th>\n",
       "      <td>...</td>\n",
       "      <td>...</td>\n",
       "      <td>...</td>\n",
       "      <td>...</td>\n",
       "      <td>...</td>\n",
       "      <td>...</td>\n",
       "      <td>...</td>\n",
       "      <td>...</td>\n",
       "      <td>...</td>\n",
       "    </tr>\n",
       "    <tr>\n",
       "      <th>95</th>\n",
       "      <td>95</td>\n",
       "      <td>0.586704</td>\n",
       "      <td>0.046161</td>\n",
       "      <td>0.995107</td>\n",
       "      <td>0.002027</td>\n",
       "      <td>0.910644</td>\n",
       "      <td>0.080687</td>\n",
       "      <td>0.142947</td>\n",
       "      <td>0.010758</td>\n",
       "    </tr>\n",
       "    <tr>\n",
       "      <th>96</th>\n",
       "      <td>96</td>\n",
       "      <td>0.586439</td>\n",
       "      <td>0.047121</td>\n",
       "      <td>0.995511</td>\n",
       "      <td>0.001792</td>\n",
       "      <td>0.913406</td>\n",
       "      <td>0.080428</td>\n",
       "      <td>0.140607</td>\n",
       "      <td>0.010199</td>\n",
       "    </tr>\n",
       "    <tr>\n",
       "      <th>97</th>\n",
       "      <td>97</td>\n",
       "      <td>0.585390</td>\n",
       "      <td>0.046957</td>\n",
       "      <td>0.995865</td>\n",
       "      <td>0.001750</td>\n",
       "      <td>0.921141</td>\n",
       "      <td>0.080458</td>\n",
       "      <td>0.138287</td>\n",
       "      <td>0.010185</td>\n",
       "    </tr>\n",
       "    <tr>\n",
       "      <th>98</th>\n",
       "      <td>98</td>\n",
       "      <td>0.585660</td>\n",
       "      <td>0.046552</td>\n",
       "      <td>0.996047</td>\n",
       "      <td>0.001788</td>\n",
       "      <td>0.923233</td>\n",
       "      <td>0.082265</td>\n",
       "      <td>0.136716</td>\n",
       "      <td>0.010538</td>\n",
       "    </tr>\n",
       "    <tr>\n",
       "      <th>99</th>\n",
       "      <td>99</td>\n",
       "      <td>0.584966</td>\n",
       "      <td>0.045419</td>\n",
       "      <td>0.996299</td>\n",
       "      <td>0.001587</td>\n",
       "      <td>0.927218</td>\n",
       "      <td>0.082619</td>\n",
       "      <td>0.134737</td>\n",
       "      <td>0.010163</td>\n",
       "    </tr>\n",
       "  </tbody>\n",
       "</table>\n",
       "<p>100 rows × 9 columns</p>\n",
       "</div>"
      ],
      "text/plain": [
       "    iterations  test-AUC-mean  test-AUC-std  train-AUC-mean  train-AUC-std  \\\n",
       "0            0       0.649426      0.028056        0.661140       0.007793   \n",
       "1            1       0.651051      0.019090        0.691803       0.012197   \n",
       "2            2       0.657591      0.018838        0.702218       0.013646   \n",
       "3            3       0.655833      0.021524        0.716745       0.011658   \n",
       "4            4       0.646943      0.025236        0.726609       0.006411   \n",
       "..         ...            ...           ...             ...            ...   \n",
       "95          95       0.586704      0.046161        0.995107       0.002027   \n",
       "96          96       0.586439      0.047121        0.995511       0.001792   \n",
       "97          97       0.585390      0.046957        0.995865       0.001750   \n",
       "98          98       0.585660      0.046552        0.996047       0.001788   \n",
       "99          99       0.584966      0.045419        0.996299       0.001587   \n",
       "\n",
       "    test-Logloss-mean  test-Logloss-std  train-Logloss-mean  train-Logloss-std  \n",
       "0            0.561948          0.015039            0.553559           0.005687  \n",
       "1            0.556597          0.018309            0.536078           0.006766  \n",
       "2            0.556237          0.020730            0.530861           0.007223  \n",
       "3            0.558159          0.020468            0.522995           0.006570  \n",
       "4            0.567563          0.028432            0.516382           0.006656  \n",
       "..                ...               ...                 ...                ...  \n",
       "95           0.910644          0.080687            0.142947           0.010758  \n",
       "96           0.913406          0.080428            0.140607           0.010199  \n",
       "97           0.921141          0.080458            0.138287           0.010185  \n",
       "98           0.923233          0.082265            0.136716           0.010538  \n",
       "99           0.927218          0.082619            0.134737           0.010163  \n",
       "\n",
       "[100 rows x 9 columns]"
      ]
     },
     "execution_count": 44,
     "metadata": {},
     "output_type": "execute_result"
    }
   ],
   "source": [
    "cv_results"
   ]
  },
  {
   "cell_type": "markdown",
   "metadata": {},
   "source": [
    "#### plot\n",
    "\n",
    "FIXME"
   ]
  },
  {
   "cell_type": "code",
   "execution_count": 43,
   "metadata": {
    "notebookRunGroups": {
     "groupValue": ""
    }
   },
   "outputs": [
    {
     "ename": "KeyError",
     "evalue": "'max_iter'",
     "output_type": "error",
     "traceback": [
      "\u001b[1;31m---------------------------------------------------------------------------\u001b[0m",
      "\u001b[1;31mKeyError\u001b[0m                                  Traceback (most recent call last)",
      "File \u001b[1;32mb:\\repos\\Courses\\DataTalksClub\\mlzoomcamp-midterms\\.venv\\lib\\site-packages\\pandas\\core\\indexes\\base.py:3790\u001b[0m, in \u001b[0;36mIndex.get_loc\u001b[1;34m(self, key)\u001b[0m\n\u001b[0;32m   3789\u001b[0m \u001b[39mtry\u001b[39;00m:\n\u001b[1;32m-> 3790\u001b[0m     \u001b[39mreturn\u001b[39;00m \u001b[39mself\u001b[39;49m\u001b[39m.\u001b[39;49m_engine\u001b[39m.\u001b[39;49mget_loc(casted_key)\n\u001b[0;32m   3791\u001b[0m \u001b[39mexcept\u001b[39;00m \u001b[39mKeyError\u001b[39;00m \u001b[39mas\u001b[39;00m err:\n",
      "File \u001b[1;32mindex.pyx:152\u001b[0m, in \u001b[0;36mpandas._libs.index.IndexEngine.get_loc\u001b[1;34m()\u001b[0m\n",
      "File \u001b[1;32mindex.pyx:181\u001b[0m, in \u001b[0;36mpandas._libs.index.IndexEngine.get_loc\u001b[1;34m()\u001b[0m\n",
      "File \u001b[1;32mpandas\\_libs\\hashtable_class_helper.pxi:7080\u001b[0m, in \u001b[0;36mpandas._libs.hashtable.PyObjectHashTable.get_item\u001b[1;34m()\u001b[0m\n",
      "File \u001b[1;32mpandas\\_libs\\hashtable_class_helper.pxi:7088\u001b[0m, in \u001b[0;36mpandas._libs.hashtable.PyObjectHashTable.get_item\u001b[1;34m()\u001b[0m\n",
      "\u001b[1;31mKeyError\u001b[0m: 'max_iter'",
      "\nThe above exception was the direct cause of the following exception:\n",
      "\u001b[1;31mKeyError\u001b[0m                                  Traceback (most recent call last)",
      "\u001b[1;32mb:\\repos\\Courses\\DataTalksClub\\mlzoomcamp-midterms\\notebook_model_tuning.ipynb Cell 27\u001b[0m line \u001b[0;36m1\n\u001b[0;32m      <a href='vscode-notebook-cell:/b%3A/repos/Courses/DataTalksClub/mlzoomcamp-midterms/notebook_model_tuning.ipynb#X36sZmlsZQ%3D%3D?line=7'>8</a>\u001b[0m ax \u001b[39m=\u001b[39m plt\u001b[39m.\u001b[39mgca()\n\u001b[0;32m      <a href='vscode-notebook-cell:/b%3A/repos/Courses/DataTalksClub/mlzoomcamp-midterms/notebook_model_tuning.ipynb#X36sZmlsZQ%3D%3D?line=8'>9</a>\u001b[0m \u001b[39m# ax.set_xlim(0.001, 10)\u001b[39;00m\n\u001b[0;32m     <a href='vscode-notebook-cell:/b%3A/repos/Courses/DataTalksClub/mlzoomcamp-midterms/notebook_model_tuning.ipynb#X36sZmlsZQ%3D%3D?line=9'>10</a>\u001b[0m \u001b[39m# ax.set_ylim(0.2, 0.8)\u001b[39;00m\n\u001b[0;32m     <a href='vscode-notebook-cell:/b%3A/repos/Courses/DataTalksClub/mlzoomcamp-midterms/notebook_model_tuning.ipynb#X36sZmlsZQ%3D%3D?line=10'>11</a>\u001b[0m \n\u001b[0;32m     <a href='vscode-notebook-cell:/b%3A/repos/Courses/DataTalksClub/mlzoomcamp-midterms/notebook_model_tuning.ipynb#X36sZmlsZQ%3D%3D?line=11'>12</a>\u001b[0m \u001b[39m# Get the regular numpy array from the MaskedArray\u001b[39;00m\n\u001b[1;32m---> <a href='vscode-notebook-cell:/b%3A/repos/Courses/DataTalksClub/mlzoomcamp-midterms/notebook_model_tuning.ipynb#X36sZmlsZQ%3D%3D?line=12'>13</a>\u001b[0m X_axis \u001b[39m=\u001b[39m np\u001b[39m.\u001b[39marray(cv_results[\u001b[39m\"\u001b[39;49m\u001b[39mmax_iter\u001b[39;49m\u001b[39m\"\u001b[39;49m], dtype\u001b[39m=\u001b[39m\u001b[39mfloat\u001b[39m)\n\u001b[0;32m     <a href='vscode-notebook-cell:/b%3A/repos/Courses/DataTalksClub/mlzoomcamp-midterms/notebook_model_tuning.ipynb#X36sZmlsZQ%3D%3D?line=14'>15</a>\u001b[0m \u001b[39mfor\u001b[39;00m scorer, color \u001b[39min\u001b[39;00m \u001b[39mzip\u001b[39m(\u001b[39msorted\u001b[39m(scoring), [\u001b[39m\"\u001b[39m\u001b[39mg\u001b[39m\u001b[39m\"\u001b[39m, \u001b[39m\"\u001b[39m\u001b[39mk\u001b[39m\u001b[39m\"\u001b[39m]):\n\u001b[0;32m     <a href='vscode-notebook-cell:/b%3A/repos/Courses/DataTalksClub/mlzoomcamp-midterms/notebook_model_tuning.ipynb#X36sZmlsZQ%3D%3D?line=15'>16</a>\u001b[0m     \u001b[39mfor\u001b[39;00m sample, style \u001b[39min\u001b[39;00m ((\u001b[39m\"\u001b[39m\u001b[39mtrain\u001b[39m\u001b[39m\"\u001b[39m, \u001b[39m\"\u001b[39m\u001b[39m--\u001b[39m\u001b[39m\"\u001b[39m), (\u001b[39m\"\u001b[39m\u001b[39mtest\u001b[39m\u001b[39m\"\u001b[39m, \u001b[39m\"\u001b[39m\u001b[39m-\u001b[39m\u001b[39m\"\u001b[39m)):\n",
      "File \u001b[1;32mb:\\repos\\Courses\\DataTalksClub\\mlzoomcamp-midterms\\.venv\\lib\\site-packages\\pandas\\core\\frame.py:3893\u001b[0m, in \u001b[0;36mDataFrame.__getitem__\u001b[1;34m(self, key)\u001b[0m\n\u001b[0;32m   3891\u001b[0m \u001b[39mif\u001b[39;00m \u001b[39mself\u001b[39m\u001b[39m.\u001b[39mcolumns\u001b[39m.\u001b[39mnlevels \u001b[39m>\u001b[39m \u001b[39m1\u001b[39m:\n\u001b[0;32m   3892\u001b[0m     \u001b[39mreturn\u001b[39;00m \u001b[39mself\u001b[39m\u001b[39m.\u001b[39m_getitem_multilevel(key)\n\u001b[1;32m-> 3893\u001b[0m indexer \u001b[39m=\u001b[39m \u001b[39mself\u001b[39;49m\u001b[39m.\u001b[39;49mcolumns\u001b[39m.\u001b[39;49mget_loc(key)\n\u001b[0;32m   3894\u001b[0m \u001b[39mif\u001b[39;00m is_integer(indexer):\n\u001b[0;32m   3895\u001b[0m     indexer \u001b[39m=\u001b[39m [indexer]\n",
      "File \u001b[1;32mb:\\repos\\Courses\\DataTalksClub\\mlzoomcamp-midterms\\.venv\\lib\\site-packages\\pandas\\core\\indexes\\base.py:3797\u001b[0m, in \u001b[0;36mIndex.get_loc\u001b[1;34m(self, key)\u001b[0m\n\u001b[0;32m   3792\u001b[0m     \u001b[39mif\u001b[39;00m \u001b[39misinstance\u001b[39m(casted_key, \u001b[39mslice\u001b[39m) \u001b[39mor\u001b[39;00m (\n\u001b[0;32m   3793\u001b[0m         \u001b[39misinstance\u001b[39m(casted_key, abc\u001b[39m.\u001b[39mIterable)\n\u001b[0;32m   3794\u001b[0m         \u001b[39mand\u001b[39;00m \u001b[39many\u001b[39m(\u001b[39misinstance\u001b[39m(x, \u001b[39mslice\u001b[39m) \u001b[39mfor\u001b[39;00m x \u001b[39min\u001b[39;00m casted_key)\n\u001b[0;32m   3795\u001b[0m     ):\n\u001b[0;32m   3796\u001b[0m         \u001b[39mraise\u001b[39;00m InvalidIndexError(key)\n\u001b[1;32m-> 3797\u001b[0m     \u001b[39mraise\u001b[39;00m \u001b[39mKeyError\u001b[39;00m(key) \u001b[39mfrom\u001b[39;00m \u001b[39merr\u001b[39;00m\n\u001b[0;32m   3798\u001b[0m \u001b[39mexcept\u001b[39;00m \u001b[39mTypeError\u001b[39;00m:\n\u001b[0;32m   3799\u001b[0m     \u001b[39m# If we have a listlike key, _check_indexing_error will raise\u001b[39;00m\n\u001b[0;32m   3800\u001b[0m     \u001b[39m#  InvalidIndexError. Otherwise we fall through and re-raise\u001b[39;00m\n\u001b[0;32m   3801\u001b[0m     \u001b[39m#  the TypeError.\u001b[39;00m\n\u001b[0;32m   3802\u001b[0m     \u001b[39mself\u001b[39m\u001b[39m.\u001b[39m_check_indexing_error(key)\n",
      "\u001b[1;31mKeyError\u001b[0m: 'max_iter'"
     ]
    },
    {
     "data": {
      "image/png": "[encoded data removed]",
      "text/plain": [
       "<Figure size 1300x1300 with 1 Axes>"
      ]
     },
     "metadata": {},
     "output_type": "display_data"
    }
   ],
   "source": [
    "from matplotlib import pyplot as plt\n",
    "plt.figure(figsize=(13, 13))\n",
    "plt.title(\"RandomizedSearchCV evaluating using multiple scorers simultaneously\", fontsize=16)\n",
    "\n",
    "plt.xlabel(\"max_iter\")\n",
    "plt.ylabel(\"Score\")\n",
    "\n",
    "ax = plt.gca()\n",
    "# ax.set_xlim(0.001, 10)\n",
    "# ax.set_ylim(0.2, 0.8)\n",
    "\n",
    "# Get the regular numpy array from the MaskedArray\n",
    "X_axis = np.array(cv_results[\"max_iter\"], dtype=float)\n",
    "\n",
    "for scorer, color in zip(sorted(scoring), [\"g\", \"k\"]):\n",
    "    for sample, style in ((\"train\", \"--\"), (\"test\", \"-\")):\n",
    "        sample_score_mean = cv_results[\"mean_%s_%s\" % (sample, scorer)]\n",
    "        sample_score_std = cv_results[\"std_%s_%s\" % (sample, scorer)]\n",
    "        ax.fill_between(\n",
    "            X_axis,\n",
    "            sample_score_mean - sample_score_std,\n",
    "            sample_score_mean + sample_score_std,\n",
    "            alpha=0.1 if sample == \"test\" else 0,\n",
    "            color=color,\n",
    "        )\n",
    "        ax.plot(\n",
    "            X_axis,\n",
    "            sample_score_mean,\n",
    "            style,\n",
    "            color=color,\n",
    "            alpha=1 if sample == \"test\" else 0.7,\n",
    "            label=\"%s (%s)\" % (scorer, sample),\n",
    "        )\n",
    "\n",
    "    best_index =rnd_search.best_index_\n",
    "    best_score = cv_results[\"mean_test_%s\" % scorer][best_index]\n",
    "\n",
    "    # Plot a dotted vertical line at the best score for that scorer marked by x\n",
    "    ax.plot(\n",
    "        [\n",
    "            X_axis[best_index],\n",
    "        ]\n",
    "        * 2,\n",
    "        [0, best_score],\n",
    "        linestyle=\"-.\",\n",
    "        color=color,\n",
    "        marker=\"x\",\n",
    "        markeredgewidth=3,\n",
    "        ms=8,\n",
    "    )\n",
    "\n",
    "    # Annotate the best score for that scorer\n",
    "    ax.annotate(\"%0.2f\" % best_score, (X_axis[best_index], best_score + 0.005))\n",
    "\n",
    "plt.legend(loc=\"best\")\n",
    "plt.grid(False)\n",
    "plt.show()"
   ]
  },
  {
   "cell_type": "code",
   "execution_count": null,
   "metadata": {},
   "outputs": [],
   "source": [
    "import plotly.express as px\n",
    "import pandas as pd\n",
    "\n",
    "df = pd.DataFrame({\n",
    "    \"learning_rate\": cv_results[\"learning_rate\"],\n",
    "    \"mean_train_AUC\": cv_results[\"mean_train_AUC\"],\n",
    "    \"mean_test_AUC\": cv_results[\"mean_test_AUC\"]\n",
    "})\n",
    "\n",
    "fig = px.line(df, x=\"learning_rate\", y=[\"mean_train_AUC\", \"mean_test_AUC\"], title=\"RandomizedSearchCV evaluating using multiple scorers simultaneously\")\n",
    "fig.update_layout(\n",
    "    xaxis_title=\"learning_rate\",\n",
    "    yaxis_title=\"Score\",\n",
    "    legend_title=\"Scorer\"\n",
    ")\n",
    "fig.show()"
   ]
  },
  {
   "cell_type": "code",
   "execution_count": null,
   "metadata": {
    "notebookRunGroups": {
     "groupValue": "1"
    }
   },
   "outputs": [],
   "source": [
    "# Displaying a Pipeline with a Preprocessing Step and Regression\n",
    "from sklearn import set_config\n",
    "set_config(display=\"diagram\")\n",
    "\n",
    "rnd_search"
   ]
  },
  {
   "cell_type": "markdown",
   "metadata": {},
   "source": [
    "#### Best model training and prediction"
   ]
  },
  {
   "cell_type": "code",
   "execution_count": 49,
   "metadata": {
    "notebookRunGroups": {
     "groupValue": "1"
    }
   },
   "outputs": [
    {
     "data": {
      "text/plain": [
       "{'class_weight': 'balanced',\n",
       " 'early_stopping': 'auto',\n",
       " 'learning_rate': 0.007471874727782927,\n",
       " 'max_depth': 3,\n",
       " 'max_iter': 189,\n",
       " 'max_leaf_nodes': 30,\n",
       " 'min_samples_leaf': 5}"
      ]
     },
     "execution_count": 49,
     "metadata": {},
     "output_type": "execute_result"
    }
   ],
   "source": [
    "best_params = rnd_search.best_params_\n",
    "best_params"
   ]
  },
  {
   "cell_type": "code",
   "execution_count": 50,
   "metadata": {
    "notebookRunGroups": {
     "groupValue": "1"
    }
   },
   "outputs": [],
   "source": [
    "best_hist = HistGradientBoostingClassifier(**best_params)\n",
    "\n",
    "best_hist.fit(df_train, y_train)\n",
    "\n",
    "y_pred_train = best_hist.predict(df_train)\n",
    "\n",
    "# using unseen test data\n",
    "y_test = y_test.values\n",
    "y_pred_test = best_hist.predict(df_test)\n",
    "# compile the scores in a list\n",
    "scores.append({\n",
    "    \"model\": \"HistGradientBoostingClassifier\",\n",
    "    \"train auc\": roc_auc_score(y_train, y_pred_train),\n",
    "    \"test auc\": roc_auc_score(y_test, y_pred_test),\n",
    "    \"accuracy\": accuracy_score(y_test, y_pred_test),\n",
    "    \"precision\": precision_score(y_test, y_pred_test),\n",
    "    \"f1_mean\": f1_score(y_test, y_pred_test),\n",
    "    \"recall\": recall_score(y_test, y_pred_test),   \n",
    "    }\n",
    ")\n",
    "logging.info(f'-- best_hist test scores appended --')"
   ]
  },
  {
   "cell_type": "code",
   "execution_count": 51,
   "metadata": {
    "notebookRunGroups": {
     "groupValue": "1"
    }
   },
   "outputs": [
    {
     "data": {
      "text/html": [
       "<div>\n",
       "<style scoped>\n",
       "    .dataframe tbody tr th:only-of-type {\n",
       "        vertical-align: middle;\n",
       "    }\n",
       "\n",
       "    .dataframe tbody tr th {\n",
       "        vertical-align: top;\n",
       "    }\n",
       "\n",
       "    .dataframe thead th {\n",
       "        text-align: right;\n",
       "    }\n",
       "</style>\n",
       "<table border=\"1\" class=\"dataframe\">\n",
       "  <thead>\n",
       "    <tr style=\"text-align: right;\">\n",
       "      <th></th>\n",
       "      <th>model</th>\n",
       "      <th>train auc</th>\n",
       "      <th>val auc</th>\n",
       "      <th>accuracy</th>\n",
       "      <th>precision</th>\n",
       "      <th>f1_mean</th>\n",
       "      <th>recall</th>\n",
       "      <th>test auc</th>\n",
       "    </tr>\n",
       "  </thead>\n",
       "  <tbody>\n",
       "    <tr>\n",
       "      <th>0</th>\n",
       "      <td>HistGradientBoostingClassifier</td>\n",
       "      <td>0.648784</td>\n",
       "      <td>0.624919</td>\n",
       "      <td>0.67375</td>\n",
       "      <td>0.461832</td>\n",
       "      <td>0.481113</td>\n",
       "      <td>0.502075</td>\n",
       "      <td>NaN</td>\n",
       "    </tr>\n",
       "    <tr>\n",
       "      <th>1</th>\n",
       "      <td>HistGradientBoostingClassifier</td>\n",
       "      <td>0.648784</td>\n",
       "      <td>NaN</td>\n",
       "      <td>0.68400</td>\n",
       "      <td>0.442997</td>\n",
       "      <td>0.462585</td>\n",
       "      <td>0.483986</td>\n",
       "      <td>0.623078</td>\n",
       "    </tr>\n",
       "  </tbody>\n",
       "</table>\n",
       "</div>"
      ],
      "text/plain": [
       "                            model  train auc   val auc  accuracy  precision  \\\n",
       "0  HistGradientBoostingClassifier   0.648784  0.624919   0.67375   0.461832   \n",
       "1  HistGradientBoostingClassifier   0.648784       NaN   0.68400   0.442997   \n",
       "\n",
       "    f1_mean    recall  test auc  \n",
       "0  0.481113  0.502075       NaN  \n",
       "1  0.462585  0.483986  0.623078  "
      ]
     },
     "execution_count": 51,
     "metadata": {},
     "output_type": "execute_result"
    }
   ],
   "source": [
    "df = pd.DataFrame(scores)\n",
    "df"
   ]
  },
  {
   "cell_type": "markdown",
   "metadata": {},
   "source": [
    "### Hyperparams Tuning on CatBoostClassifier\n",
    "\n",
    "#### setup"
   ]
  },
  {
   "cell_type": "code",
   "execution_count": 74,
   "metadata": {
    "notebookRunGroups": {
     "groupValue": "2"
    }
   },
   "outputs": [
    {
     "name": "stdout",
     "output_type": "stream",
     "text": [
      "TARGET_NAME = 'target'\n",
      "Loading CSV data...\n"
     ]
    },
    {
     "name": "stderr",
     "output_type": "stream",
     "text": [
      "100%|██████████| 10/10 [00:00<00:00, 238.11it/s]"
     ]
    },
    {
     "name": "stdout",
     "output_type": "stream",
     "text": [
      "Finished processing the CSV file.\n",
      "df.shape = (5000, 7)\n",
      "features = None\n",
      "\n",
      "- Preprocessor()...\n",
      "  -- Replacing symbols in column names...\n",
      "  -- Replacing symbols in data...\n",
      "  -- Dropping TO_DROP columns...\n",
      "  -- Scaling columns with MinMaxScaler()...\n",
      "  -- Scaling columns with RobustScaler()...\n",
      "\n",
      "- FeatureBuilder()...\n",
      "  -- Creating 'target' column...\n",
      "  -- Set COLS_CATEGORICAL astype(category)...\n",
      "\n",
      "- Prepare DFs...\n",
      "  -- Split TARGET_NAME for y...\n",
      "  -- Dropping TARGET_NAME...\n"
     ]
    },
    {
     "name": "stderr",
     "output_type": "stream",
     "text": [
      "\n"
     ]
    }
   ],
   "source": [
    "fold = 0 # reset after HistGradientBoost\n",
    "\n",
    "df_full_train, df_test, y_full_train, y_test = rebuild_df()\n",
    "df_train, df_val, y_train, y_val = train_test_split(df_full_train, y_full_train, test_size=0.25, random_state=11)\n",
    "\n",
    "\n",
    "# student_X = df_test.iloc[0:1].to_json()\n",
    "# student_y = y_test.iloc[0:1].to_json()\n",
    "# pprint(student_X)\n",
    "# pprint(student_y)\n",
    "\n",
    "logging.info('Starting CatboostClassifier...')\n"
   ]
  },
  {
   "cell_type": "code",
   "execution_count": 53,
   "metadata": {
    "notebookRunGroups": {
     "groupValue": "2"
    }
   },
   "outputs": [
    {
     "name": "stdout",
     "output_type": "stream",
     "text": [
      "df.shape = (4000, 4)\n",
      "df.shape = (3000, 4)\n",
      "df.shape = (1000, 4)\n",
      "df.shape = (1000, 4)\n",
      "\n",
      "y.shape = (4000,)\n",
      "y.shape = (3000,)\n",
      "y.shape = (1000,)\n",
      "y.shape = (1000,)\n"
     ]
    }
   ],
   "source": [
    "all_DFs = [df_full_train, df_train, df_val, df_test]\n",
    "all_Ys = [y_full_train, y_train, y_val, y_test]\n",
    "for df in all_DFs:\n",
    "    print(f'{df.shape = }') \n",
    "print()\n",
    "for y in all_Ys:\n",
    "    print(f'{y.shape = }')  "
   ]
  },
  {
   "cell_type": "code",
   "execution_count": 54,
   "metadata": {
    "notebookRunGroups": {
     "groupValue": "2"
    }
   },
   "outputs": [],
   "source": [
    "# Create a k-fold cross-validator\n",
    "kfold = KFold(n_splits=5, shuffle=True, random_state=42)\n",
    "\n",
    "cat_param_grid = {\n",
    "    # \"loss_function\": [\"Logloss\"],\n",
    "    \"iterations\": [10, 100, 200, 500],    # defaults=1000 \n",
    "    \"learning_rate\": [0.001, 0.01, 0.1, 1.0],    # defaults=0.1, 1=no shrinkage  \n",
    "    \"min_data_in_leaf\": [5, 10, 25, 50], # \n",
    "    \"max_depth\": [2, 6, 8, 12]  # \n",
    "}\n",
    "\n",
    "# Create the model\n",
    "cat = CatBoostClassifier(\n",
    "    cat_features=COLS_CATEGORICAL,\n",
    "    eval_metric='AUC:hints=skip_train~false',\n",
    "    random_state=42,\n",
    "    # task_type=\"GPU\",\n",
    "    # devices='0'\n",
    "    verbose=0\n",
    "    )                             \n"
   ]
  },
  {
   "cell_type": "markdown",
   "metadata": {},
   "source": [
    "#### train"
   ]
  },
  {
   "cell_type": "code",
   "execution_count": 55,
   "metadata": {
    "notebookRunGroups": {
     "groupValue": "2"
    }
   },
   "outputs": [],
   "source": [
    "%%capture output\n",
    "\n",
    "\n",
    "# Log the output of each step of the tuning process.\n",
    "logging.info('Starting CatBoostClassifier hyperparam tuning...')\n",
    "\n",
    "# Perform hyperparameter tuning using RandomizedSearchCV\n",
    "rnd_search = RandomizedSearchCV(\n",
    "    estimator=cat, \n",
    "    param_distributions=cat_param_grid, \n",
    "    cv=kfold,          \n",
    "    scoring=scoring,       # to replace defaults 'loss'\n",
    "    refit=\"AUC\",           # defaults='loss'\n",
    "    error_score='raise', \n",
    "    return_train_score=True,\n",
    "    verbose=False,\n",
    "    n_jobs=-1\n",
    ")\n",
    "\n",
    "# Fit the pipeline to the train data and perform hyperparameter tuning\n",
    "for train_idx, val_idx in kfold.split(df_full_train):\n",
    "    \n",
    "    Xf_train = df_full_train.iloc[train_idx]\n",
    "    Xf_val = df_full_train.iloc[val_idx]\n",
    "\n",
    "    yf_train = y_full_train.iloc[train_idx].values\n",
    "    yf_val = y_full_train.iloc[val_idx].values\n",
    "    \n",
    "    logging.info(f'-- in rnd_search.fit(); kfold: {fold} --')\n",
    "\n",
    "    logging.info('Fitting randomized_search model...')\n",
    "    with open('randomizedcv_tuning.log', 'a') as f:\n",
    "        with redirect_stdout(f):\n",
    "            # Train the model on the train data\n",
    "            rnd_search.fit(Xf_train, yf_train)\n",
    "    \n",
    "    fold = fold + 1\n",
    "    \n",
    "logging.info('hyperparam with randomized_search fit completed')    \n",
    "\n",
    "# took about 8mins up to 100 iterations\n",
    "# took about 20mins up to 500 iterations"
   ]
  },
  {
   "cell_type": "code",
   "execution_count": 56,
   "metadata": {
    "notebookRunGroups": {
     "groupValue": "2"
    }
   },
   "outputs": [
    {
     "data": {
      "application/vnd.jupyter.widget-view+json": {
       "model_id": "8c9646cb23604620b52e88d5bf047f92",
       "version_major": 2,
       "version_minor": 0
      },
      "text/plain": [
       "MetricVisualizer(layout=Layout(align_self='stretch', height='500px'))"
      ]
     },
     "metadata": {},
     "output_type": "display_data"
    },
    {
     "name": "stdout",
     "output_type": "stream",
     "text": [
      "\n",
      "bestTest = 0.675020186\n",
      "bestIteration = 7\n",
      "\n",
      "\n",
      "bestTest = 0.6851655253\n",
      "bestIteration = 14\n",
      "\n",
      "\n",
      "bestTest = 0.6793227967\n",
      "bestIteration = 5\n",
      "\n",
      "\n",
      "bestTest = 0.6750276623\n",
      "bestIteration = 10\n",
      "\n",
      "\n",
      "bestTest = 0.6826946081\n",
      "bestIteration = 98\n",
      "\n",
      "\n",
      "bestTest = 0.6910157301\n",
      "bestIteration = 136\n",
      "\n",
      "\n",
      "bestTest = 0.6803134065\n",
      "bestIteration = 2\n",
      "\n",
      "\n",
      "bestTest = 0.6753977392\n",
      "bestIteration = 6\n",
      "\n",
      "\n",
      "bestTest = 0.6931016179\n",
      "bestIteration = 2\n",
      "\n",
      "\n",
      "bestTest = 0.6823544364\n",
      "bestIteration = 19\n",
      "\n",
      "Training on fold [0/5]\n",
      "\n",
      "bestTest = 0.6787077804\n",
      "bestIteration = 0\n",
      "\n",
      "Training on fold [1/5]\n",
      "\n",
      "bestTest = 0.6932655116\n",
      "bestIteration = 3\n",
      "\n",
      "Training on fold [2/5]\n",
      "\n",
      "bestTest = 0.6473861894\n",
      "bestIteration = 3\n",
      "\n",
      "Training on fold [3/5]\n",
      "\n",
      "bestTest = 0.6566504098\n",
      "bestIteration = 5\n",
      "\n",
      "Training on fold [4/5]\n",
      "\n",
      "bestTest = 0.6500270934\n",
      "bestIteration = 2\n",
      "\n"
     ]
    }
   ],
   "source": [
    "# Create a catboost randomized_search object\n",
    "cat_rnd_search = cat.randomized_search(\n",
    "    X=df_full_train,\n",
    "    y=y_full_train,\n",
    "    param_distributions=cat_param_grid, \n",
    "    cv=kfold, \n",
    "    n_iter=10,\n",
    "    calc_cv_statistics=True,\n",
    "    refit=True,\n",
    "    shuffle=True,\n",
    "    stratified=True,\n",
    "    log_cout=sys.stdout,     \n",
    "    verbose=False,\n",
    "    plot=True\n",
    ")\n",
    "# took about 4mins"
   ]
  },
  {
   "cell_type": "code",
   "execution_count": 57,
   "metadata": {
    "notebookRunGroups": {
     "groupValue": "2"
    }
   },
   "outputs": [],
   "source": [
    "eval_pool = Pool(df_val, y_val, cat_features=COLS_CATEGORICAL)"
   ]
  },
  {
   "cell_type": "code",
   "execution_count": 58,
   "metadata": {
    "notebookRunGroups": {
     "groupValue": "2"
    }
   },
   "outputs": [
    {
     "data": {
      "application/vnd.jupyter.widget-view+json": {
       "model_id": "6342f56111ac442dbff0667c9b675554",
       "version_major": 2,
       "version_minor": 0
      },
      "text/plain": [
       "MetricVisualizer(layout=Layout(align_self='stretch', height='500px'))"
      ]
     },
     "metadata": {},
     "output_type": "display_data"
    },
    {
     "data": {
      "text/plain": [
       "{'AUC': [0.6761034985907728,\n",
       "  0.700317016715859,\n",
       "  0.69941634703587,\n",
       "  0.7058208451561081,\n",
       "  0.7182092120209697,\n",
       "  0.7169401945826739,\n",
       "  0.7302363604389754,\n",
       "  0.7318024325210671,\n",
       "  0.7318024325210671,\n",
       "  0.7324416941145158,\n",
       "  0.735333818126512,\n",
       "  0.7403409712023346,\n",
       "  0.7476485154397121,\n",
       "  0.7551960798292767,\n",
       "  0.7577032210229135,\n",
       "  0.7618382216645516,\n",
       "  0.7681381565501737,\n",
       "  0.772805479113494,\n",
       "  0.7788487587868764,\n",
       "  0.7827841387078835,\n",
       "  0.7864010760507417,\n",
       "  0.7912870308318956,\n",
       "  0.7921473010803284,\n",
       "  0.7997281355899981,\n",
       "  0.8072044068650517,\n",
       "  0.8105147838155125,\n",
       "  0.8151440833844268,\n",
       "  0.8177011297582213,\n",
       "  0.8217981074054534,\n",
       "  0.824809053274968,\n",
       "  0.827278171474199,\n",
       "  0.8309568961829666,\n",
       "  0.8312610801382136,\n",
       "  0.8352843882337844,\n",
       "  0.8368005551357183,\n",
       "  0.8380885840712171,\n",
       "  0.8381670064971791,\n",
       "  0.8389678658168527,\n",
       "  0.840576713767651,\n",
       "  0.841503524256294,\n",
       "  0.8419075185718563,\n",
       "  0.8441698867390054,\n",
       "  0.8453390938169858,\n",
       "  0.8475016516238195,\n",
       "  0.8492839794865945,\n",
       "  0.8544265894799881,\n",
       "  0.8546357159492203,\n",
       "  0.8574969462782618,\n",
       "  0.8591390643491652,\n",
       "  0.8611614123641272,\n",
       "  0.8631623724447359,\n",
       "  0.8653344360001711,\n",
       "  0.8670026948797285,\n",
       "  0.8677821662650488,\n",
       "  0.8700017585634913,\n",
       "  0.8708762874348261,\n",
       "  0.8723995836482112,\n",
       "  0.8764680440496391,\n",
       "  0.8769195671082087,\n",
       "  0.8789918203033285,\n",
       "  0.8805531395111194,\n",
       "  0.8826776743235472,\n",
       "  0.8840560078707599,\n",
       "  0.885210956325838,\n",
       "  0.8875873934762047,\n",
       "  0.8877537440767304,\n",
       "  0.8901967214673073,\n",
       "  0.8931339977851606,\n",
       "  0.8958906648795859,\n",
       "  0.8978060732227815,\n",
       "  0.9010380277472801,\n",
       "  0.9031387981882043,\n",
       "  0.9039277753221261,\n",
       "  0.9050019249140918,\n",
       "  0.904802304193461,\n",
       "  0.9045361432326199,\n",
       "  0.906423034330011,\n",
       "  0.9078156265001259,\n",
       "  0.9075494655392848,\n",
       "  0.9079059311118399,\n",
       "  0.9085523220167396,\n",
       "  0.9079867299749523,\n",
       "  0.9084335001592213,\n",
       "  0.9092129715445416,\n",
       "  0.9119030983987566,\n",
       "  0.9121740122338985,\n",
       "  0.9122833283428153,\n",
       "  0.9139848573424778,\n",
       "  0.9164801163503629,\n",
       "  0.9160523576632968,\n",
       "  0.9152348632835707,\n",
       "  0.9154107196326979,\n",
       "  0.9164563519788592,\n",
       "  0.9169981796491429,\n",
       "  0.9162092025152211,\n",
       "  0.9178822142690792,\n",
       "  0.9185618752940841,\n",
       "  0.9197073180005608,\n",
       "  0.9200162548301085,\n",
       "  0.9205818468718958],\n",
       " 'Accuracy': [0.732,\n",
       "  0.736,\n",
       "  0.738,\n",
       "  0.749,\n",
       "  0.75,\n",
       "  0.75,\n",
       "  0.752,\n",
       "  0.75,\n",
       "  0.75,\n",
       "  0.75,\n",
       "  0.758,\n",
       "  0.76,\n",
       "  0.759,\n",
       "  0.767,\n",
       "  0.767,\n",
       "  0.769,\n",
       "  0.779,\n",
       "  0.78,\n",
       "  0.775,\n",
       "  0.778,\n",
       "  0.781,\n",
       "  0.778,\n",
       "  0.782,\n",
       "  0.781,\n",
       "  0.783,\n",
       "  0.781,\n",
       "  0.781,\n",
       "  0.787,\n",
       "  0.788,\n",
       "  0.792,\n",
       "  0.787,\n",
       "  0.791,\n",
       "  0.788,\n",
       "  0.789,\n",
       "  0.789,\n",
       "  0.79,\n",
       "  0.795,\n",
       "  0.797,\n",
       "  0.799,\n",
       "  0.801,\n",
       "  0.805,\n",
       "  0.803,\n",
       "  0.803,\n",
       "  0.805,\n",
       "  0.803,\n",
       "  0.804,\n",
       "  0.802,\n",
       "  0.807,\n",
       "  0.806,\n",
       "  0.805,\n",
       "  0.809,\n",
       "  0.808,\n",
       "  0.814,\n",
       "  0.812,\n",
       "  0.815,\n",
       "  0.813,\n",
       "  0.815,\n",
       "  0.813,\n",
       "  0.815,\n",
       "  0.818,\n",
       "  0.818,\n",
       "  0.82,\n",
       "  0.822,\n",
       "  0.821,\n",
       "  0.821,\n",
       "  0.82,\n",
       "  0.821,\n",
       "  0.823,\n",
       "  0.823,\n",
       "  0.824,\n",
       "  0.825,\n",
       "  0.831,\n",
       "  0.834,\n",
       "  0.832,\n",
       "  0.83,\n",
       "  0.829,\n",
       "  0.834,\n",
       "  0.833,\n",
       "  0.834,\n",
       "  0.834,\n",
       "  0.838,\n",
       "  0.839,\n",
       "  0.84,\n",
       "  0.842,\n",
       "  0.845,\n",
       "  0.844,\n",
       "  0.847,\n",
       "  0.845,\n",
       "  0.843,\n",
       "  0.841,\n",
       "  0.839,\n",
       "  0.845,\n",
       "  0.844,\n",
       "  0.846,\n",
       "  0.845,\n",
       "  0.846,\n",
       "  0.847,\n",
       "  0.847,\n",
       "  0.845,\n",
       "  0.845],\n",
       " 'F1': [0.27173913043478265,\n",
       "  0.32307692307692304,\n",
       "  0.33838383838383834,\n",
       "  0.3677581863979849,\n",
       "  0.37810945273631835,\n",
       "  0.36868686868686873,\n",
       "  0.3861386138613861,\n",
       "  0.375,\n",
       "  0.375,\n",
       "  0.3654822335025381,\n",
       "  0.4068627450980392,\n",
       "  0.4174757281553398,\n",
       "  0.4136253041362531,\n",
       "  0.44655581947743467,\n",
       "  0.43583535108958843,\n",
       "  0.44067796610169485,\n",
       "  0.47002398081534774,\n",
       "  0.4736842105263158,\n",
       "  0.46555819477434685,\n",
       "  0.4739336492890995,\n",
       "  0.47980997624703087,\n",
       "  0.4788732394366197,\n",
       "  0.4953703703703703,\n",
       "  0.4942263279445727,\n",
       "  0.5011494252873563,\n",
       "  0.5011389521640092,\n",
       "  0.5011389521640092,\n",
       "  0.5191873589164786,\n",
       "  0.5181818181818182,\n",
       "  0.5294117647058824,\n",
       "  0.5170068027210883,\n",
       "  0.5239179954441913,\n",
       "  0.5159817351598173,\n",
       "  0.5215419501133787,\n",
       "  0.5258426966292136,\n",
       "  0.5291479820627804,\n",
       "  0.5413870246085012,\n",
       "  0.5478841870824054,\n",
       "  0.5562913907284768,\n",
       "  0.5664488017429193,\n",
       "  0.5733041575492341,\n",
       "  0.5689277899343544,\n",
       "  0.5631929046563193,\n",
       "  0.5695364238410596,\n",
       "  0.5708061002178649,\n",
       "  0.5701754385964912,\n",
       "  0.5657894736842105,\n",
       "  0.5776805251641138,\n",
       "  0.5745614035087719,\n",
       "  0.5733041575492341,\n",
       "  0.5838779956427015,\n",
       "  0.5770925110132159,\n",
       "  0.5974025974025974,\n",
       "  0.591304347826087,\n",
       "  0.6021505376344086,\n",
       "  0.5943600867678959,\n",
       "  0.6004319654427647,\n",
       "  0.5908096280087528,\n",
       "  0.6021505376344086,\n",
       "  0.6094420600858369,\n",
       "  0.6094420600858369,\n",
       "  0.6137339055793992,\n",
       "  0.6196581196581196,\n",
       "  0.6150537634408603,\n",
       "  0.6117136659436009,\n",
       "  0.6086956521739131,\n",
       "  0.6083150984682714,\n",
       "  0.6143790849673203,\n",
       "  0.616052060737527,\n",
       "  0.6190476190476191,\n",
       "  0.6220302375809935,\n",
       "  0.6381156316916489,\n",
       "  0.6452991452991452,\n",
       "  0.6425531914893616,\n",
       "  0.6398305084745762,\n",
       "  0.64,\n",
       "  0.6512605042016807,\n",
       "  0.648421052631579,\n",
       "  0.6527196652719665,\n",
       "  0.6527196652719665,\n",
       "  0.6596638655462185,\n",
       "  0.6610526315789473,\n",
       "  0.6624472573839663,\n",
       "  0.6680672268907563,\n",
       "  0.6777546777546778,\n",
       "  0.6749999999999999,\n",
       "  0.6832298136645963,\n",
       "  0.679089026915114,\n",
       "  0.6749482401656315,\n",
       "  0.6708074534161491,\n",
       "  0.668041237113402,\n",
       "  0.679089026915114,\n",
       "  0.6776859504132231,\n",
       "  0.6831275720164609,\n",
       "  0.6804123711340206,\n",
       "  0.6844262295081966,\n",
       "  0.6871165644171779,\n",
       "  0.6871165644171779,\n",
       "  0.6817248459958931,\n",
       "  0.6804123711340206],\n",
       " 'Precision': [0.746268656716418,\n",
       "  0.7078651685393258,\n",
       "  0.7052631578947368,\n",
       "  0.7604166666666666,\n",
       "  0.7524752475247525,\n",
       "  0.7684210526315789,\n",
       "  0.7572815533980582,\n",
       "  0.7575757575757576,\n",
       "  0.7575757575757576,\n",
       "  0.7741935483870968,\n",
       "  0.7757009345794392,\n",
       "  0.7747747747747747,\n",
       "  0.7727272727272727,\n",
       "  0.7833333333333333,\n",
       "  0.8035714285714286,\n",
       "  0.8125,\n",
       "  0.8448275862068966,\n",
       "  0.8461538461538461,\n",
       "  0.8166666666666667,\n",
       "  0.8264462809917356,\n",
       "  0.8416666666666667,\n",
       "  0.816,\n",
       "  0.816793893129771,\n",
       "  0.8106060606060606,\n",
       "  0.8134328358208955,\n",
       "  0.7971014492753623,\n",
       "  0.7971014492753623,\n",
       "  0.8098591549295775,\n",
       "  0.8201438848920863,\n",
       "  0.8297872340425532,\n",
       "  0.8142857142857143,\n",
       "  0.8333333333333334,\n",
       "  0.8248175182481752,\n",
       "  0.8214285714285714,\n",
       "  0.8125,\n",
       "  0.8137931034482758,\n",
       "  0.8287671232876712,\n",
       "  0.831081081081081,\n",
       "  0.8289473684210527,\n",
       "  0.8227848101265823,\n",
       "  0.8397435897435898,\n",
       "  0.8333333333333334,\n",
       "  0.8466666666666667,\n",
       "  0.8486842105263158,\n",
       "  0.8291139240506329,\n",
       "  0.8387096774193549,\n",
       "  0.832258064516129,\n",
       "  0.8461538461538461,\n",
       "  0.8451612903225807,\n",
       "  0.8397435897435898,\n",
       "  0.8481012658227848,\n",
       "  0.8562091503267973,\n",
       "  0.8571428571428571,\n",
       "  0.8553459119496856,\n",
       "  0.8536585365853658,\n",
       "  0.85625,\n",
       "  0.8580246913580247,\n",
       "  0.8653846153846154,\n",
       "  0.8536585365853658,\n",
       "  0.8606060606060606,\n",
       "  0.8606060606060606,\n",
       "  0.8666666666666667,\n",
       "  0.8682634730538922,\n",
       "  0.8719512195121951,\n",
       "  0.88125,\n",
       "  0.8805031446540881,\n",
       "  0.8910256410256411,\n",
       "  0.8924050632911392,\n",
       "  0.8875,\n",
       "  0.8881987577639752,\n",
       "  0.8888888888888888,\n",
       "  0.8975903614457831,\n",
       "  0.9041916167664671,\n",
       "  0.893491124260355,\n",
       "  0.8830409356725146,\n",
       "  0.8735632183908046,\n",
       "  0.8857142857142857,\n",
       "  0.8850574712643678,\n",
       "  0.8813559322033898,\n",
       "  0.8813559322033898,\n",
       "  0.8971428571428571,\n",
       "  0.9022988505747126,\n",
       "  0.9075144508670521,\n",
       "  0.9085714285714286,\n",
       "  0.9055555555555556,\n",
       "  0.9050279329608939,\n",
       "  0.9065934065934066,\n",
       "  0.9010989010989011,\n",
       "  0.8956043956043956,\n",
       "  0.8901098901098901,\n",
       "  0.8804347826086957,\n",
       "  0.9010989010989011,\n",
       "  0.8961748633879781,\n",
       "  0.8972972972972973,\n",
       "  0.8967391304347826,\n",
       "  0.893048128342246,\n",
       "  0.8936170212765957,\n",
       "  0.8936170212765957,\n",
       "  0.8924731182795699,\n",
       "  0.8967391304347826],\n",
       " 'Recall': [0.16611295681063123,\n",
       "  0.20930232558139536,\n",
       "  0.22259136212624583,\n",
       "  0.2425249169435216,\n",
       "  0.25249169435215946,\n",
       "  0.2425249169435216,\n",
       "  0.2591362126245847,\n",
       "  0.24916943521594684,\n",
       "  0.24916943521594684,\n",
       "  0.23920265780730898,\n",
       "  0.2757475083056478,\n",
       "  0.2857142857142857,\n",
       "  0.2823920265780731,\n",
       "  0.3122923588039867,\n",
       "  0.29900332225913623,\n",
       "  0.3023255813953488,\n",
       "  0.32558139534883723,\n",
       "  0.3289036544850498,\n",
       "  0.32558139534883723,\n",
       "  0.33222591362126247,\n",
       "  0.33554817275747506,\n",
       "  0.3388704318936877,\n",
       "  0.3554817275747508,\n",
       "  0.3554817275747508,\n",
       "  0.36212624584717606,\n",
       "  0.3654485049833887,\n",
       "  0.3654485049833887,\n",
       "  0.38205980066445183,\n",
       "  0.3787375415282392,\n",
       "  0.38870431893687707,\n",
       "  0.3787375415282392,\n",
       "  0.38205980066445183,\n",
       "  0.3754152823920266,\n",
       "  0.38205980066445183,\n",
       "  0.38870431893687707,\n",
       "  0.3920265780730897,\n",
       "  0.4019933554817276,\n",
       "  0.40863787375415284,\n",
       "  0.4186046511627907,\n",
       "  0.4318936877076412,\n",
       "  0.43521594684385384,\n",
       "  0.4318936877076412,\n",
       "  0.4219269102990033,\n",
       "  0.42857142857142855,\n",
       "  0.43521594684385384,\n",
       "  0.4318936877076412,\n",
       "  0.42857142857142855,\n",
       "  0.43853820598006643,\n",
       "  0.43521594684385384,\n",
       "  0.43521594684385384,\n",
       "  0.44518272425249167,\n",
       "  0.43521594684385384,\n",
       "  0.4584717607973422,\n",
       "  0.45182724252491696,\n",
       "  0.46511627906976744,\n",
       "  0.45514950166112955,\n",
       "  0.46179401993355484,\n",
       "  0.4485049833887043,\n",
       "  0.46511627906976744,\n",
       "  0.4717607973421927,\n",
       "  0.4717607973421927,\n",
       "  0.4750830564784053,\n",
       "  0.48172757475083056,\n",
       "  0.4750830564784053,\n",
       "  0.4684385382059801,\n",
       "  0.46511627906976744,\n",
       "  0.46179401993355484,\n",
       "  0.4684385382059801,\n",
       "  0.4717607973421927,\n",
       "  0.4750830564784053,\n",
       "  0.47840531561461797,\n",
       "  0.4950166112956811,\n",
       "  0.5016611295681063,\n",
       "  0.5016611295681063,\n",
       "  0.5016611295681063,\n",
       "  0.5049833887043189,\n",
       "  0.5149501661129569,\n",
       "  0.5116279069767442,\n",
       "  0.5182724252491694,\n",
       "  0.5182724252491694,\n",
       "  0.521594684385382,\n",
       "  0.521594684385382,\n",
       "  0.521594684385382,\n",
       "  0.5282392026578073,\n",
       "  0.5415282392026578,\n",
       "  0.5382059800664452,\n",
       "  0.5481727574750831,\n",
       "  0.5448504983388704,\n",
       "  0.5415282392026578,\n",
       "  0.5382059800664452,\n",
       "  0.5382059800664452,\n",
       "  0.5448504983388704,\n",
       "  0.5448504983388704,\n",
       "  0.5514950166112956,\n",
       "  0.5481727574750831,\n",
       "  0.5548172757475083,\n",
       "  0.5581395348837209,\n",
       "  0.5581395348837209,\n",
       "  0.5514950166112956,\n",
       "  0.5481727574750831]}"
      ]
     },
     "execution_count": 58,
     "metadata": {},
     "output_type": "execute_result"
    }
   ],
   "source": [
    "cat.eval_metrics(\n",
    "    data=eval_pool,\n",
    "    metrics=['AUC', 'Accuracy', 'F1', 'Precision', 'Recall'],\n",
    "    plot=True,\n",
    ")"
   ]
  },
  {
   "cell_type": "markdown",
   "metadata": {},
   "source": [
    "#### evaluate"
   ]
  },
  {
   "cell_type": "code",
   "execution_count": 59,
   "metadata": {
    "notebookRunGroups": {
     "groupValue": "2"
    }
   },
   "outputs": [],
   "source": [
    "cv_results = pd.DataFrame(cat_rnd_search['cv_results'])"
   ]
  },
  {
   "cell_type": "code",
   "execution_count": 60,
   "metadata": {
    "notebookRunGroups": {
     "groupValue": "2"
    }
   },
   "outputs": [
    {
     "name": "stdout",
     "output_type": "stream",
     "text": [
      "AUC on val set: 0.658\n"
     ]
    }
   ],
   "source": [
    "from catboost.utils import get_roc_curve\n",
    "import sklearn\n",
    "from sklearn import metrics\n",
    "\n",
    "auc = np.max(cv_results['test-AUC-mean'])\n",
    "print(f\"AUC on val set: {auc:.3f}\")\n",
    "curve = get_roc_curve(cat, eval_pool)\n",
    "(fpr, tpr, thresholds) = curve\n",
    "roc_auc = sklearn.metrics.auc(fpr, tpr)"
   ]
  },
  {
   "cell_type": "code",
   "execution_count": 61,
   "metadata": {
    "notebookRunGroups": {
     "groupValue": "2"
    }
   },
   "outputs": [
    {
     "data": {
      "image/png": "[encoded data removed]",
      "text/plain": [
       "<Figure size 1600x800 with 1 Axes>"
      ]
     },
     "metadata": {},
     "output_type": "display_data"
    }
   ],
   "source": [
    "import matplotlib.pyplot as plt\n",
    "\n",
    "plt.figure(figsize=(16, 8))\n",
    "lw = 2\n",
    "\n",
    "plt.plot(fpr, tpr, color='darkorange',\n",
    "         lw=lw, label='ROC curve (area = %0.2f)' % roc_auc, alpha=0.5)\n",
    "\n",
    "plt.plot([0, 1], [0, 1], color='navy', lw=lw, linestyle='--', alpha=0.5)\n",
    "\n",
    "plt.xlim([0.0, 1.0])\n",
    "plt.ylim([0.0, 1.05])\n",
    "plt.xticks(fontsize=16)\n",
    "plt.yticks(fontsize=16)\n",
    "plt.grid(True)\n",
    "plt.xlabel('False Positive Rate', fontsize=16)\n",
    "plt.ylabel('True Positive Rate', fontsize=16)\n",
    "plt.title('Receiver operating characteristic', fontsize=20)\n",
    "plt.legend(loc=\"lower right\", fontsize=16)\n",
    "plt.show()"
   ]
  },
  {
   "cell_type": "markdown",
   "metadata": {},
   "source": [
    "#### Best model training and validation prediction"
   ]
  },
  {
   "cell_type": "code",
   "execution_count": 62,
   "metadata": {
    "notebookRunGroups": {
     "groupValue": "2"
    }
   },
   "outputs": [],
   "source": [
    "best_params = rnd_search.best_params_\n",
    "\n",
    "best_cat = CatBoostClassifier(**best_params, verbose=0)\n",
    "best_cat.fit(\n",
    "    df_train, \n",
    "    y_train, \n",
    "    cat_features=COLS_CATEGORICAL\n",
    ")\n",
    "y_pred_train = best_cat.predict(df_train)"
   ]
  },
  {
   "cell_type": "code",
   "execution_count": 63,
   "metadata": {
    "notebookRunGroups": {
     "groupValue": "2"
    }
   },
   "outputs": [],
   "source": [
    "y_pred = best_cat.predict(df_val)\n",
    "\n",
    "# compile the scores in a list\n",
    "scores.append({\n",
    "    \"model\": \"CatBoostClassifier\",\n",
    "    \"train auc\": roc_auc_score(y_train, y_pred_train),\n",
    "    \"val auc\": roc_auc_score(y_val, y_pred),\n",
    "    \"accuracy\": accuracy_score(y_val, y_pred),\n",
    "    \"precision\": precision_score(y_val, y_pred),\n",
    "    \"f1_mean\": f1_score(y_val, y_pred),\n",
    "    \"recall\": recall_score(y_val, y_pred),    \n",
    "    }\n",
    ")\n",
    "logging.info(f'-- best_cat val scores appended --')\n",
    "# Log the results of the tuning process.\n",
    "logging.info('The best hyperparameters are: {}'.format(rnd_search.best_params_))"
   ]
  },
  {
   "cell_type": "markdown",
   "metadata": {},
   "source": [
    "#### Best iteration"
   ]
  },
  {
   "cell_type": "markdown",
   "metadata": {},
   "source": [
    "## Final Model output\n",
    "\n",
    "using df_test and the best_params"
   ]
  },
  {
   "cell_type": "code",
   "execution_count": 64,
   "metadata": {
    "notebookRunGroups": {
     "groupValue": "2"
    }
   },
   "outputs": [
    {
     "data": {
      "text/html": [
       "<div>\n",
       "<style scoped>\n",
       "    .dataframe tbody tr th:only-of-type {\n",
       "        vertical-align: middle;\n",
       "    }\n",
       "\n",
       "    .dataframe tbody tr th {\n",
       "        vertical-align: top;\n",
       "    }\n",
       "\n",
       "    .dataframe thead th {\n",
       "        text-align: right;\n",
       "    }\n",
       "</style>\n",
       "<table border=\"1\" class=\"dataframe\">\n",
       "  <thead>\n",
       "    <tr style=\"text-align: right;\">\n",
       "      <th></th>\n",
       "      <th>Feature Id</th>\n",
       "      <th>Importances</th>\n",
       "    </tr>\n",
       "  </thead>\n",
       "  <tbody>\n",
       "    <tr>\n",
       "      <th>0</th>\n",
       "      <td>parental_income</td>\n",
       "      <td>30.861580</td>\n",
       "    </tr>\n",
       "    <tr>\n",
       "      <th>1</th>\n",
       "      <td>sat_total_score</td>\n",
       "      <td>27.238493</td>\n",
       "    </tr>\n",
       "    <tr>\n",
       "      <th>2</th>\n",
       "      <td>college_gpa</td>\n",
       "      <td>24.835454</td>\n",
       "    </tr>\n",
       "    <tr>\n",
       "      <th>3</th>\n",
       "      <td>parental_level_of_education</td>\n",
       "      <td>17.064473</td>\n",
       "    </tr>\n",
       "  </tbody>\n",
       "</table>\n",
       "</div>"
      ],
      "text/plain": [
       "                    Feature Id  Importances\n",
       "0              parental_income    30.861580\n",
       "1              sat_total_score    27.238493\n",
       "2                  college_gpa    24.835454\n",
       "3  parental_level_of_education    17.064473"
      ]
     },
     "execution_count": 64,
     "metadata": {},
     "output_type": "execute_result"
    }
   ],
   "source": [
    "cat.get_feature_importance(prettified=True)"
   ]
  },
  {
   "cell_type": "markdown",
   "metadata": {},
   "source": [
    "#### predict test"
   ]
  },
  {
   "cell_type": "code",
   "execution_count": 65,
   "metadata": {
    "notebookRunGroups": {
     "groupValue": "2"
    }
   },
   "outputs": [],
   "source": [
    "y_pred_proba = best_cat.predict_proba(df_test)\n",
    "y_pred = best_cat.predict(df_test)\n",
    "\n",
    "# compile the scores in a list\n",
    "scores.append({\n",
    "    \"model\": \"CatBoostClassifier\",\n",
    "    \"train auc\": roc_auc_score(y_train, y_pred_train),\n",
    "    \"test auc\": roc_auc_score(y_test, y_pred),\n",
    "    \"accuracy\": accuracy_score(y_test, y_pred),\n",
    "    \"precision\": precision_score(y_test, y_pred),\n",
    "    \"f1_mean\": f1_score(y_test, y_pred),\n",
    "    \"recall\": recall_score(y_test, y_pred),    \n",
    "    }\n",
    ")\n",
    "logging.info(f'-- best_cat test scores appended --')"
   ]
  },
  {
   "cell_type": "code",
   "execution_count": 66,
   "metadata": {
    "notebookRunGroups": {
     "groupValue": "12"
    }
   },
   "outputs": [
    {
     "data": {
      "text/html": [
       "<div>\n",
       "<style scoped>\n",
       "    .dataframe tbody tr th:only-of-type {\n",
       "        vertical-align: middle;\n",
       "    }\n",
       "\n",
       "    .dataframe tbody tr th {\n",
       "        vertical-align: top;\n",
       "    }\n",
       "\n",
       "    .dataframe thead th {\n",
       "        text-align: right;\n",
       "    }\n",
       "</style>\n",
       "<table border=\"1\" class=\"dataframe\">\n",
       "  <thead>\n",
       "    <tr style=\"text-align: right;\">\n",
       "      <th></th>\n",
       "      <th>model</th>\n",
       "      <th>train auc</th>\n",
       "      <th>val auc</th>\n",
       "      <th>accuracy</th>\n",
       "      <th>precision</th>\n",
       "      <th>f1_mean</th>\n",
       "      <th>recall</th>\n",
       "      <th>test auc</th>\n",
       "    </tr>\n",
       "  </thead>\n",
       "  <tbody>\n",
       "    <tr>\n",
       "      <th>0</th>\n",
       "      <td>HistGradientBoostingClassifier</td>\n",
       "      <td>0.648784</td>\n",
       "      <td>0.624919</td>\n",
       "      <td>0.67375</td>\n",
       "      <td>0.461832</td>\n",
       "      <td>0.481113</td>\n",
       "      <td>0.502075</td>\n",
       "      <td>NaN</td>\n",
       "    </tr>\n",
       "    <tr>\n",
       "      <th>1</th>\n",
       "      <td>HistGradientBoostingClassifier</td>\n",
       "      <td>0.648784</td>\n",
       "      <td>NaN</td>\n",
       "      <td>0.68400</td>\n",
       "      <td>0.442997</td>\n",
       "      <td>0.462585</td>\n",
       "      <td>0.483986</td>\n",
       "      <td>0.623078</td>\n",
       "    </tr>\n",
       "    <tr>\n",
       "      <th>2</th>\n",
       "      <td>CatBoostClassifier</td>\n",
       "      <td>0.719417</td>\n",
       "      <td>0.588057</td>\n",
       "      <td>0.71500</td>\n",
       "      <td>0.554795</td>\n",
       "      <td>0.362416</td>\n",
       "      <td>0.269103</td>\n",
       "      <td>NaN</td>\n",
       "    </tr>\n",
       "    <tr>\n",
       "      <th>3</th>\n",
       "      <td>CatBoostClassifier</td>\n",
       "      <td>0.719417</td>\n",
       "      <td>NaN</td>\n",
       "      <td>0.72900</td>\n",
       "      <td>0.536765</td>\n",
       "      <td>0.350120</td>\n",
       "      <td>0.259786</td>\n",
       "      <td>0.586082</td>\n",
       "    </tr>\n",
       "  </tbody>\n",
       "</table>\n",
       "</div>"
      ],
      "text/plain": [
       "                            model  train auc   val auc  accuracy  precision  \\\n",
       "0  HistGradientBoostingClassifier   0.648784  0.624919   0.67375   0.461832   \n",
       "1  HistGradientBoostingClassifier   0.648784       NaN   0.68400   0.442997   \n",
       "2              CatBoostClassifier   0.719417  0.588057   0.71500   0.554795   \n",
       "3              CatBoostClassifier   0.719417       NaN   0.72900   0.536765   \n",
       "\n",
       "    f1_mean    recall  test auc  \n",
       "0  0.481113  0.502075       NaN  \n",
       "1  0.462585  0.483986  0.623078  \n",
       "2  0.362416  0.269103       NaN  \n",
       "3  0.350120  0.259786  0.586082  "
      ]
     },
     "execution_count": 66,
     "metadata": {},
     "output_type": "execute_result"
    }
   ],
   "source": [
    "df = pd.DataFrame(scores)\n",
    "df"
   ]
  },
  {
   "cell_type": "code",
   "execution_count": 69,
   "metadata": {
    "notebookRunGroups": {
     "groupValue": ""
    }
   },
   "outputs": [
    {
     "name": "stdout",
     "output_type": "stream",
     "text": [
      "('{\"sat_total_score\":{\"11\":0.5388127854},\"parental_level_of_education\":{\"11\":\"bachelors '\n",
      " 'degree\"},\"parental_income\":{\"11\":0.9545175758},\"college_gpa\":{\"11\":0.6666666667}}')\n",
      "'{\"11\":1}'\n"
     ]
    }
   ],
   "source": [
    "# student = {\n",
    "#     \"sat_total_score\": 1400,\n",
    "#     \"parental_level_of_education\": \"bachelor's degree\",\n",
    "#     \"parental_income\": 125000,\n",
    "#     \"college_gpa\": 3.2\n",
    "# }"
   ]
  },
  {
   "cell_type": "code",
   "execution_count": null,
   "metadata": {},
   "outputs": [],
   "source": []
  }
 ],
 "metadata": {
  "kernelspec": {
   "display_name": "churn311",
   "language": "python",
   "name": "python3"
  },
  "language_info": {
   "codemirror_mode": {
    "name": "ipython",
    "version": 3
   },
   "file_extension": ".py",
   "mimetype": "text/x-python",
   "name": "python",
   "nbconvert_exporter": "python",
   "pygments_lexer": "ipython3",
   "version": "3.10.11"
  },
  "orig_nbformat": 4
 },
 "nbformat": 4,
 "nbformat_minor": 2
}
