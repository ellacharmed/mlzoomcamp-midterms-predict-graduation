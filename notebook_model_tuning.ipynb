{
 "cells": [
  {
   "cell_type": "markdown",
   "metadata": {},
   "source": [
    "# Predict students' graduation rate\n",
    "\n",
    "dataset \n",
    "- [from @ roycekimmons.com](http://roycekimmons.com/tools/generated_data/graduation_rate)\n",
    "\n",
    "> This is a fictional dataset and should only be used for data science training purposes.\n",
    "> \n",
    "> This data set includes graduation rates from a four-year college with a variety of student factors.\n",
    "\n",
    "The key questions we want to address:\n",
    "\n",
    "> 1. How effective are entrance requirements at predicting gpa and graduation rate?\n",
    "> 1. What would be the best way to improve graduation rates?\n",
    "\n",
    "> All data sets are generated on-the-fly. So, you can increase your n by downloading a data set multiple times and combining the files. (n=1000) per large sample download\n",
    "\n",
    "Based on the above statement, I have downloaded 5x times and combined them into one csv file so that we can work with a larger sample size of 5000 observations, instead of just 1000 observations.\n",
    "\n",
    "Target is `'graduate_in_5years'` and column named simply as `'target'`\n",
    "- feature-engineered from 'years_to_graduate' as \n",
    "  - 0: 'Yes' ie 'years_to_graduate' < 6\n",
    "  - 1: 'No' ie 'years_to_graduate' > 5 \n",
    "- was set to 4 years initially until EDA reveals median is 5.\n"
   ]
  },
  {
   "cell_type": "code",
   "execution_count": 74,
   "metadata": {
    "notebookRunGroups": {
     "groupValue": "12"
    }
   },
   "outputs": [
    {
     "name": "stdout",
     "output_type": "stream",
     "text": [
      "current_file_path = WindowsPath('B:/repos/Courses/DataTalksClub/mlzoomcamp-midterms') \n",
      "data_folder_path = WindowsPath('B:/repos/Courses/DataTalksClub/mlzoomcamp-midterms/data') \n",
      "src_folder_path = WindowsPath('B:/repos/Courses/DataTalksClub/mlzoomcamp-midterms/src') \n"
     ]
    }
   ],
   "source": [
    "import sys\n",
    "from pathlib import Path\n",
    "import logging\n",
    "from contextlib import redirect_stdout\n",
    "\n",
    "# Configure the logging library.\n",
    "logging.basicConfig(filename='randomizedcv_tuning.log', level=logging.INFO)\n",
    "\n",
    "# Set the path to the current file\n",
    "current_file_path = Path().resolve()\n",
    "print(f'{current_file_path = } ')\n",
    "        \n",
    "# Set the path to the data folder\n",
    "data_folder_path = current_file_path / 'data' \n",
    "print(f'{data_folder_path = } ')\n",
    "\n",
    "# Set the path to the src folder\n",
    "src_folder_path = current_file_path / 'src'\n",
    "print(f'{src_folder_path = } ')\n",
    "\n",
    "# Add the src folder to the system path\n",
    "sys.path.append(str(src_folder_path))\n",
    "\n",
    "# Import modules from files under /src\n",
    "from src.config import * \n",
    "from src.data_loader import CSVDataLoader\n",
    "from src.data_preprocessor import Preprocessor\n",
    "from src.data_feature_builder import FeatureBuilder"
   ]
  },
  {
   "attachments": {},
   "cell_type": "markdown",
   "metadata": {},
   "source": [
    "## Import packages"
   ]
  },
  {
   "cell_type": "code",
   "execution_count": 75,
   "metadata": {
    "notebookRunGroups": {
     "groupValue": "12"
    }
   },
   "outputs": [],
   "source": [
    "from tqdm import tqdm\n",
    "import pandas as pd\n",
    "import numpy as np\n",
    "from pprint import pprint\n",
    "\n",
    "import warnings\n",
    "warnings.filterwarnings(\"ignore\")"
   ]
  },
  {
   "cell_type": "code",
   "execution_count": 76,
   "metadata": {
    "notebookRunGroups": {
     "groupValue": "21"
    }
   },
   "outputs": [],
   "source": [
    "# not supported for HistGradientBoostingClassifier/ CatBoostClassifier\n",
    "# from sklearnex import patch_sklearn\n",
    "# patch_sklearn()\n",
    "\n",
    "from sklearn.feature_extraction import DictVectorizer\n",
    "from sklearn.model_selection import train_test_split, KFold, RandomizedSearchCV\n",
    "from sklearn.ensemble import HistGradientBoostingClassifier\n",
    "\n",
    "import catboost\n",
    "from catboost import *\n",
    "from catboost import CatBoostClassifier\n",
    "\n",
    "from sklearn.metrics import accuracy_score, roc_auc_score, precision_score, recall_score, f1_score\n",
    "from sklearn.metrics import make_scorer, confusion_matrix, classification_report\n"
   ]
  },
  {
   "cell_type": "code",
   "execution_count": 77,
   "metadata": {
    "notebookRunGroups": {
     "groupValue": "12"
    }
   },
   "outputs": [
    {
     "data": {
      "text/plain": [
       "'1.3.1'"
      ]
     },
     "execution_count": 77,
     "metadata": {},
     "output_type": "execute_result"
    }
   ],
   "source": [
    "import sklearn\n",
    "sklearn.__version__"
   ]
  },
  {
   "attachments": {},
   "cell_type": "markdown",
   "metadata": {},
   "source": [
    "## Overview\n",
    "\n",
    "> do we want \n",
    "> - 2 splits for train, test or \n",
    "> - 3 splits for train, val and test?\n",
    ">\n",
    "> reminder: \n",
    "> - not yet stratify\n",
    "> - not scaled\n",
    "> - use cross-validation \n",
    "> - save final df to file as processed_df.csv?\n",
    "\n",
    "In this notebook, we're finally going to address the above questions. We're using \n",
    "- KFolds to cross-validate our data splitting,\n",
    "- using just 3 features that were shown as the most important features via EDA\n",
    "- scale our data, treat outliers ~~using Pipelines~~,\n",
    "- perform hyperparameters tuning on the 2 classifiers with highest `'val auc'` scores,\n",
    "- finally, the final chosen \"best model\" would be identified, and \n",
    "- creating scripts out of our POC code would commenced, and that would allow\n",
    "- save our model to a `.pkl` file for us to deploy model to a web servic.e\n"
   ]
  },
  {
   "cell_type": "markdown",
   "metadata": {},
   "source": [
    "## Hyperparameters Tuning\n",
    "\n",
    "### Putting it all together\n",
    "\n",
    "Based on findings from baseline scoring, we're gonna limit our GridSearch and hyperparameters tuning to just these 2 classifiers.\n",
    "\n",
    "Perform data preprocessing and use pipelines to perform hyperparameter tuning to a couple of the models from previous top 2 performers:\n",
    "\n",
    "- HistGradientBoostingClassifier()\n",
    "- CatBoostClassifier()\n"
   ]
  },
  {
   "cell_type": "code",
   "execution_count": null,
   "metadata": {},
   "outputs": [],
   "source": [
    "# scores = []"
   ]
  },
  {
   "cell_type": "code",
   "execution_count": 78,
   "metadata": {
    "notebookRunGroups": {
     "groupValue": "12"
    }
   },
   "outputs": [],
   "source": [
    "# declare the features we're using to train the model\n",
    "features = ['sat_total_score', 'parental_level_of_education', 'parental_income', 'college_gpa'] \n",
    "# graduate_in_5years simply labeled as 'target'\n",
    "target_name = 'target'\n"
   ]
  },
  {
   "cell_type": "markdown",
   "metadata": {},
   "source": [
    "### test source\n",
    "\n"
   ]
  },
  {
   "cell_type": "code",
   "execution_count": 79,
   "metadata": {
    "notebookRunGroups": {
     "groupValue": "1"
    }
   },
   "outputs": [],
   "source": [
    "def rebuild_df():\n",
    "    # Data ingestion\n",
    "    data = CSVDataLoader().load(data_folder_path / 'graduation_rate.csv')\n",
    "    print(\"- Preprocessor()...\")\n",
    "    data = Preprocessor().ColumnsSymbolReplacer(data)\n",
    "    # display(f'{data.iloc[0:1] = }')\n",
    "    # display(f'{data.iloc[11:12] = }')\n",
    "    # display(data.head(2))\n",
    "    data = Preprocessor().SymbolReplacer(\n",
    "        data, 'parental_level_of_education')\n",
    "    # display(data.head(2))\n",
    "    data = Preprocessor().ColumnsDropper(data, TO_DROP)\n",
    "    # display(data.head(2))\n",
    "    print(\"- FeatureBuilder()...\")\n",
    "    data = FeatureBuilder().Target_encoder(data)\n",
    "    # display(data.head(2))\n",
    "    print(\"  -- Split TARGET_NAME for y...\")\n",
    "    target = data[TARGET_NAME]\n",
    "    print(\"  -- Dropping TARGET_NAME...\")\n",
    "    data = data.drop(columns=TARGET_NAME)\n",
    "    # display(data.head(2))\n",
    "    print()\n",
    "    print(\"  -- Set COLS_CATEGORICAL astype(category)...\")\n",
    "    data[COLS_CATEGORICAL] = data[COLS_CATEGORICAL].astype('category')\n",
    "    # display(data.head(2))\n",
    "    data = Preprocessor().DataScaler(data)\n",
    "    # display(data.head(2))\n",
    "\n",
    "    df_full_train, df_test, y_full_train, y_test = train_test_split(\n",
    "        data, target, test_size=0.2, random_state=11)\n",
    "\n",
    "    # reset indices back to begin from 0\n",
    "    df_full_train = df_full_train.reset_index(drop=True)\n",
    "    df_test = df_test.reset_index(drop=True)\n",
    "    y_full_train = y_full_train.reset_index(drop=True)\n",
    "    y_test = y_test.reset_index(drop=True)\n",
    "    \n",
    "    return df_full_train, df_test, y_full_train, y_test\n"
   ]
  },
  {
   "cell_type": "code",
   "execution_count": 80,
   "metadata": {
    "notebookRunGroups": {
     "groupValue": "1"
    }
   },
   "outputs": [
    {
     "name": "stdout",
     "output_type": "stream",
     "text": [
      "Loading CSV data...\n"
     ]
    },
    {
     "name": "stderr",
     "output_type": "stream",
     "text": [
      "100%|██████████| 10/10 [00:00<00:00, 285.71it/s]"
     ]
    },
    {
     "name": "stdout",
     "output_type": "stream",
     "text": [
      "Finished processing the CSV file.\n",
      "df.shape = (5000, 7)\n",
      "- Preprocessor()...\n",
      "  -- Replacing symbols in column names...\n",
      "  -- Replacing symbols in data...\n",
      "  -- Dropping TO_DROP columns...\n",
      "- FeatureBuilder()...\n",
      "  -- Creating 'target' column...\n",
      "  -- Split TARGET_NAME for y...\n",
      "  -- Dropping TARGET_NAME...\n",
      "\n",
      "  -- Set COLS_CATEGORICAL astype(category)...\n",
      "  -- Scaling columns with MinMaxScaler()...\n",
      "  -- Scaling columns with RobustScaler()...\n"
     ]
    },
    {
     "name": "stderr",
     "output_type": "stream",
     "text": [
      "\n"
     ]
    },
    {
     "data": {
      "text/html": [
       "<div>\n",
       "<style scoped>\n",
       "    .dataframe tbody tr th:only-of-type {\n",
       "        vertical-align: middle;\n",
       "    }\n",
       "\n",
       "    .dataframe tbody tr th {\n",
       "        vertical-align: top;\n",
       "    }\n",
       "\n",
       "    .dataframe thead th {\n",
       "        text-align: right;\n",
       "    }\n",
       "</style>\n",
       "<table border=\"1\" class=\"dataframe\">\n",
       "  <thead>\n",
       "    <tr style=\"text-align: right;\">\n",
       "      <th></th>\n",
       "      <th>parental_level_of_education</th>\n",
       "      <th>sat_total_score</th>\n",
       "      <th>parental_income</th>\n",
       "      <th>college_gpa</th>\n",
       "    </tr>\n",
       "  </thead>\n",
       "  <tbody>\n",
       "    <tr>\n",
       "      <th>0</th>\n",
       "      <td>some college</td>\n",
       "      <td>0.581050</td>\n",
       "      <td>-0.165044</td>\n",
       "      <td>0.600000</td>\n",
       "    </tr>\n",
       "    <tr>\n",
       "      <th>1</th>\n",
       "      <td>some high school</td>\n",
       "      <td>0.235160</td>\n",
       "      <td>-1.011711</td>\n",
       "      <td>0.266667</td>\n",
       "    </tr>\n",
       "    <tr>\n",
       "      <th>2</th>\n",
       "      <td>some high school</td>\n",
       "      <td>0.333333</td>\n",
       "      <td>-1.570150</td>\n",
       "      <td>0.400000</td>\n",
       "    </tr>\n",
       "    <tr>\n",
       "      <th>3</th>\n",
       "      <td>some college</td>\n",
       "      <td>0.643836</td>\n",
       "      <td>-0.680588</td>\n",
       "      <td>0.400000</td>\n",
       "    </tr>\n",
       "    <tr>\n",
       "      <th>4</th>\n",
       "      <td>high school</td>\n",
       "      <td>0.743151</td>\n",
       "      <td>-0.856499</td>\n",
       "      <td>0.600000</td>\n",
       "    </tr>\n",
       "  </tbody>\n",
       "</table>\n",
       "</div>"
      ],
      "text/plain": [
       "  parental_level_of_education  sat_total_score  parental_income  college_gpa\n",
       "0                some college         0.581050        -0.165044     0.600000\n",
       "1            some high school         0.235160        -1.011711     0.266667\n",
       "2            some high school         0.333333        -1.570150     0.400000\n",
       "3                some college         0.643836        -0.680588     0.400000\n",
       "4                 high school         0.743151        -0.856499     0.600000"
      ]
     },
     "execution_count": 80,
     "metadata": {},
     "output_type": "execute_result"
    }
   ],
   "source": [
    "df_full_train, df_test, y_full_train, y_test = rebuild_df()\n",
    "df_train, df_val, y_train, y_val = train_test_split(df_full_train, y_full_train, test_size=0.25, random_state=11)\n",
    "df_full_train.head()"
   ]
  },
  {
   "cell_type": "markdown",
   "metadata": {},
   "source": [
    "### Hyperparams Tuning on HistGradientBoostingClassifier\n",
    "\n",
    "#### setup\n",
    "\n"
   ]
  },
  {
   "cell_type": "code",
   "execution_count": 81,
   "metadata": {
    "notebookRunGroups": {
     "groupValue": "12"
    }
   },
   "outputs": [],
   "source": [
    "# AUC is not a defined scoring metric for RandomizedSearchCV\n",
    "scoring = {\n",
    "    \"AUC\": make_scorer(roc_auc_score), \n",
    "    \"Accuracy\": make_scorer(accuracy_score), \n",
    "    \"F1\": make_scorer(f1_score),\n",
    "    \"Precision\": make_scorer(precision_score), \n",
    "    \"Recall\": make_scorer(recall_score)}\n",
    "\n",
    "# custom_loss=['Accuracy', 'AUC:hints=skip_train~false', 'F1','Precision', 'Recall']"
   ]
  },
  {
   "cell_type": "code",
   "execution_count": 82,
   "metadata": {
    "notebookRunGroups": {
     "groupValue": "1"
    }
   },
   "outputs": [],
   "source": [
    "hist_param_grid = {\n",
    "    # 'classifier__loss': 'log_loss',                        # defaults, same as catboost's loss_function\n",
    "    # 'classifier__categorical_features': COLS_CATEGORICAL,  # defaults, same as catboost's cat_features\n",
    "    'learning_rate': LEARNING_RATE,    # defaults=0.1, 1=no shrinkage\n",
    "    'max_iter': MAX_ITER,         # defaults=100; max num iterations/trees\n",
    "    'max_depth': MAX_DEPTH,          # defaults=None; max depth of each tree\n",
    "    'max_leaf_nodes': MAX_LEAF_NODES,    # defaults=31;max num of leaves\n",
    "    'min_samples_leaf': MIN_SAMPLES_LEAF,  # defaults=20; min num of samples per leaf\n",
    "    'early_stopping': ['auto', True],       # defaults='auto'; enabled for sample-size > 10000, else enabled when True\n",
    "    'class_weight': WEIGHTS\n",
    "}"
   ]
  },
  {
   "cell_type": "code",
   "execution_count": 83,
   "metadata": {
    "notebookRunGroups": {
     "groupValue": "1"
    }
   },
   "outputs": [
    {
     "name": "stdout",
     "output_type": "stream",
     "text": [
      "Fitting 5 folds for each of 10 candidates, totalling 50 fits\n"
     ]
    }
   ],
   "source": [
    "# Create the model\n",
    "model = HistGradientBoostingClassifier(\n",
    "    # verbose=2, \n",
    "    # scoring='roc_auc', \n",
    "    warm_start=True,            # defaults=False\n",
    "    random_state=42             # defaults=None                          \n",
    ")\n",
    "    \n",
    "# Create a RandomizedSearchCV object\n",
    "rnd_search = RandomizedSearchCV(\n",
    "    estimator=model, \n",
    "    param_distributions=hist_param_grid, \n",
    "    cv=5, \n",
    "    # n_iter=10,                     # defaults\n",
    "    # random_state=None,             # also has this here, or use in Classifier()           \n",
    "    scoring=scoring,                 # to replace defaults 'loss'\n",
    "    refit=\"AUC\",                     # defaults='loss'\n",
    "    error_score='raise', \n",
    "    return_train_score=True,\n",
    "    verbose=2,\n",
    "    n_jobs=-1\n",
    ")\n",
    "\n",
    " # Log the output of each step of the tuning process.\n",
    "logging.info('Starting HistGradientBoostingClassifier hyperparam tuning...')\n",
    "\n",
    "dicts = df_train.to_dict(orient='records')\n",
    "\n",
    "dv = DictVectorizer(sparse=False)\n",
    "X_train = dv.fit_transform(dicts)\n",
    "\n",
    "logging.info('Fitting RandomizedSearchCV model with DictVectorized X_train...')\n",
    "\n",
    "# Train the model on the train data\n",
    "rnd_search.fit(X_train, y_train)\n",
    "\n",
    "logging.info('RandomizedSearchCV fit completed')  "
   ]
  },
  {
   "cell_type": "code",
   "execution_count": 84,
   "metadata": {
    "notebookRunGroups": {
     "groupValue": "1"
    }
   },
   "outputs": [
    {
     "name": "stdout",
     "output_type": "stream",
     "text": [
      "{'min_samples_leaf': 2, 'max_leaf_nodes': 10, 'max_iter': 100, 'max_depth': 6, 'learning_rate': 0.001, 'early_stopping': True, 'class_weight': 'balanced'}\n"
     ]
    }
   ],
   "source": [
    "# Log the results of the tuning process.\n",
    "logging.info('Finished HistGradientBoostingClassifier hyperparam tuning. The best hyperparameters are: {}'.format(rnd_search.best_params_))\n",
    "# Print the best hyperparameters\n",
    "print(rnd_search.best_params_)\n",
    "    \n",
    "# GridSearchCV took approx 45mins on my machine! \n",
    "# RandomizedSearchCV took approx 15s on my machine! "
   ]
  },
  {
   "cell_type": "markdown",
   "metadata": {},
   "source": [
    "#### retrain with best params"
   ]
  },
  {
   "cell_type": "code",
   "execution_count": 85,
   "metadata": {
    "notebookRunGroups": {
     "groupValue": "1"
    }
   },
   "outputs": [],
   "source": [
    "best_params = rnd_search.best_params_"
   ]
  },
  {
   "cell_type": "code",
   "execution_count": 86,
   "metadata": {
    "notebookRunGroups": {
     "groupValue": "1"
    }
   },
   "outputs": [],
   "source": [
    "def train(df_train, y_train):\n",
    "    dicts = df_train.to_dict(orient='records')\n",
    "\n",
    "    dv = DictVectorizer(sparse=False)\n",
    "    X_train = dv.fit_transform(dicts)\n",
    "    \n",
    "    logging.info('Retraining HistGradientBoost model with DictVectorized X_train...')\n",
    "    model = HistGradientBoostingClassifier( \n",
    "        **best_params,\n",
    "        warm_start=True,            # defaults=False\n",
    "        random_state=42             # defaults=None                          \n",
    "    )\n",
    "    model.fit(X_train, y_train)\n",
    "\n",
    "    return dv, model\n",
    "\n",
    "dv, model = train(df_train, y_train)"
   ]
  },
  {
   "cell_type": "markdown",
   "metadata": {},
   "source": [
    "#### predict"
   ]
  },
  {
   "cell_type": "code",
   "execution_count": 87,
   "metadata": {
    "notebookRunGroups": {
     "groupValue": "1"
    }
   },
   "outputs": [],
   "source": [
    "def predict(df, dv, model):\n",
    "    dicts = df.to_dict(orient='records')\n",
    "\n",
    "    X = dv.transform(dicts)\n",
    "    y_pred_prob = model.predict_proba(X)[:, 1]\n",
    "    y_pred = model.predict(X)\n",
    "\n",
    "    return y_pred, y_pred_prob"
   ]
  },
  {
   "cell_type": "code",
   "execution_count": 88,
   "metadata": {
    "notebookRunGroups": {
     "groupValue": "1"
    }
   },
   "outputs": [],
   "source": [
    "# Make predictions on the validate data\n",
    "y_pred_train, y_predprob_train = predict(df_train, dv, model)\n",
    "y_pred_val, y_predprob_val = predict(df_val, dv, model)\n",
    "\n",
    "# compile the scores in a list\n",
    "scores.append({\n",
    "    \"model\": \"HistGradientBoostingClassifier\",\n",
    "    \"train auc\": roc_auc_score(y_train, y_pred_train),\n",
    "    \"val auc\": roc_auc_score(y_val, y_pred_val),\n",
    "    \"accuracy\": accuracy_score(y_val, y_pred_val),\n",
    "    \"precision\": precision_score(y_val, y_pred_val),\n",
    "    \"f1_mean\": f1_score(y_val, y_pred_val),\n",
    "    \"recall\": recall_score(y_val, y_pred_val),   \n",
    "    }\n",
    ")\n",
    "logging.info(f'-- HistGradientBoostingClassifier val scores appended --')\n",
    "\n"
   ]
  },
  {
   "cell_type": "code",
   "execution_count": 89,
   "metadata": {
    "notebookRunGroups": {
     "groupValue": "1"
    }
   },
   "outputs": [
    {
     "name": "stdout",
     "output_type": "stream",
     "text": [
      "(\"The best set of parameters is: {'min_samples_leaf': 2, 'max_leaf_nodes': 10, \"\n",
      " \"'max_iter': 100, 'max_depth': 6, 'learning_rate': 0.001, 'early_stopping': \"\n",
      " \"True, 'class_weight': 'balanced'}\")\n",
      "\n",
      "train auc: 0.6460078444924784\n",
      "val auc: 0.6233157001696777\n"
     ]
    }
   ],
   "source": [
    "pprint(f\"The best set of parameters is: {rnd_search.best_params_}\")\n",
    "print()\n",
    "print(f\"train auc: {roc_auc_score(y_train, y_pred_train)}\")\n",
    "print(f\"val auc: {roc_auc_score(y_val, y_pred_val)}\")\n"
   ]
  },
  {
   "cell_type": "markdown",
   "metadata": {},
   "source": [
    "#### evaluate\n",
    "\n"
   ]
  },
  {
   "cell_type": "code",
   "execution_count": null,
   "metadata": {},
   "outputs": [],
   "source": [
    "# [source](https://inria.github.io/scikit-learn-mooc/python_scripts/parameter_tuning_parallel_plot.html) for `shorten_param` code snippet\n",
    "\n",
    "def shorten_param(param_name):\n",
    "    if \"param_\" in param_name:\n",
    "        return param_name.rsplit(\"param_\", 1)[1]\n",
    "    return param_name\n",
    "\n",
    "# [source](https://stackoverflow.com/a/73766566) for `clean_key(key)` code snippet\n",
    "pattern_list = ['param_', 'split']\n",
    "def clean_key(key):\n",
    "    for pattern in pattern_list:\n",
    "        key = key.replace(pattern, \"\")\n",
    "    return key\n",
    "{clean_key(k) :  v for k, v in x.items()}"
   ]
  },
  {
   "cell_type": "code",
   "execution_count": null,
   "metadata": {},
   "outputs": [],
   "source": [
    "cv_results = rnd_search.cv_results_"
   ]
  },
  {
   "cell_type": "code",
   "execution_count": null,
   "metadata": {},
   "outputs": [],
   "source": [
    "rnd_search.cv_results_"
   ]
  },
  {
   "cell_type": "code",
   "execution_count": null,
   "metadata": {},
   "outputs": [],
   "source": [
    "rnd_search"
   ]
  },
  {
   "cell_type": "code",
   "execution_count": null,
   "metadata": {
    "notebookRunGroups": {
     "groupValue": ""
    }
   },
   "outputs": [],
   "source": [
    "cv_results = cv_results.rename(shorten_param, axis=1)"
   ]
  },
  {
   "cell_type": "code",
   "execution_count": null,
   "metadata": {
    "notebookRunGroups": {
     "groupValue": ""
    }
   },
   "outputs": [],
   "source": [
    "cv_results"
   ]
  },
  {
   "cell_type": "markdown",
   "metadata": {},
   "source": [
    "#### plot\n",
    "\n",
    "FIXME"
   ]
  },
  {
   "cell_type": "code",
   "execution_count": null,
   "metadata": {
    "notebookRunGroups": {
     "groupValue": ""
    }
   },
   "outputs": [],
   "source": [
    "from matplotlib import pyplot as plt\n",
    "plt.figure(figsize=(13, 13))\n",
    "plt.title(\"RandomizedSearchCV evaluating using multiple scorers simultaneously\", fontsize=16)\n",
    "\n",
    "plt.xlabel(\"max_iter\")\n",
    "plt.ylabel(\"Score\")\n",
    "\n",
    "ax = plt.gca()\n",
    "# ax.set_xlim(0.001, 10)\n",
    "# ax.set_ylim(0.2, 0.8)\n",
    "\n",
    "# Get the regular numpy array from the MaskedArray\n",
    "X_axis = np.array(cv_results[\"max_iter\"], dtype=float)\n",
    "\n",
    "for scorer, color in zip(sorted(scoring), [\"g\", \"k\"]):\n",
    "    for sample, style in ((\"train\", \"--\"), (\"test\", \"-\")):\n",
    "        sample_score_mean = cv_results[\"mean_%s_%s\" % (sample, scorer)]\n",
    "        sample_score_std = cv_results[\"std_%s_%s\" % (sample, scorer)]\n",
    "        ax.fill_between(\n",
    "            X_axis,\n",
    "            sample_score_mean - sample_score_std,\n",
    "            sample_score_mean + sample_score_std,\n",
    "            alpha=0.1 if sample == \"test\" else 0,\n",
    "            color=color,\n",
    "        )\n",
    "        ax.plot(\n",
    "            X_axis,\n",
    "            sample_score_mean,\n",
    "            style,\n",
    "            color=color,\n",
    "            alpha=1 if sample == \"test\" else 0.7,\n",
    "            label=\"%s (%s)\" % (scorer, sample),\n",
    "        )\n",
    "\n",
    "    best_index =rnd_search.best_index_\n",
    "    best_score = cv_results[\"mean_test_%s\" % scorer][best_index]\n",
    "\n",
    "    # Plot a dotted vertical line at the best score for that scorer marked by x\n",
    "    ax.plot(\n",
    "        [\n",
    "            X_axis[best_index],\n",
    "        ]\n",
    "        * 2,\n",
    "        [0, best_score],\n",
    "        linestyle=\"-.\",\n",
    "        color=color,\n",
    "        marker=\"x\",\n",
    "        markeredgewidth=3,\n",
    "        ms=8,\n",
    "    )\n",
    "\n",
    "    # Annotate the best score for that scorer\n",
    "    ax.annotate(\"%0.2f\" % best_score, (X_axis[best_index], best_score + 0.005))\n",
    "\n",
    "plt.legend(loc=\"best\")\n",
    "plt.grid(False)\n",
    "plt.show()"
   ]
  },
  {
   "cell_type": "code",
   "execution_count": null,
   "metadata": {},
   "outputs": [],
   "source": [
    "import plotly.express as px\n",
    "import pandas as pd\n",
    "\n",
    "df = pd.DataFrame({\n",
    "    \"learning_rate\": cv_results[\"learning_rate\"],\n",
    "    \"mean_train_AUC\": cv_results[\"mean_train_AUC\"],\n",
    "    \"mean_test_AUC\": cv_results[\"mean_test_AUC\"]\n",
    "})\n",
    "\n",
    "fig = px.line(df, x=\"learning_rate\", y=[\"mean_train_AUC\", \"mean_test_AUC\"], title=\"RandomizedSearchCV evaluating using multiple scorers simultaneously\")\n",
    "fig.update_layout(\n",
    "    xaxis_title=\"learning_rate\",\n",
    "    yaxis_title=\"Score\",\n",
    "    legend_title=\"Scorer\"\n",
    ")\n",
    "fig.show()"
   ]
  },
  {
   "cell_type": "code",
   "execution_count": 90,
   "metadata": {
    "notebookRunGroups": {
     "groupValue": "1"
    }
   },
   "outputs": [
    {
     "data": {
      "text/html": [
       "<style>#sk-container-id-3 {color: black;}#sk-container-id-3 pre{padding: 0;}#sk-container-id-3 div.sk-toggleable {background-color: white;}#sk-container-id-3 label.sk-toggleable__label {cursor: pointer;display: block;width: 100%;margin-bottom: 0;padding: 0.3em;box-sizing: border-box;text-align: center;}#sk-container-id-3 label.sk-toggleable__label-arrow:before {content: \"▸\";float: left;margin-right: 0.25em;color: #696969;}#sk-container-id-3 label.sk-toggleable__label-arrow:hover:before {color: black;}#sk-container-id-3 div.sk-estimator:hover label.sk-toggleable__label-arrow:before {color: black;}#sk-container-id-3 div.sk-toggleable__content {max-height: 0;max-width: 0;overflow: hidden;text-align: left;background-color: #f0f8ff;}#sk-container-id-3 div.sk-toggleable__content pre {margin: 0.2em;color: black;border-radius: 0.25em;background-color: #f0f8ff;}#sk-container-id-3 input.sk-toggleable__control:checked~div.sk-toggleable__content {max-height: 200px;max-width: 100%;overflow: auto;}#sk-container-id-3 input.sk-toggleable__control:checked~label.sk-toggleable__label-arrow:before {content: \"▾\";}#sk-container-id-3 div.sk-estimator input.sk-toggleable__control:checked~label.sk-toggleable__label {background-color: #d4ebff;}#sk-container-id-3 div.sk-label input.sk-toggleable__control:checked~label.sk-toggleable__label {background-color: #d4ebff;}#sk-container-id-3 input.sk-hidden--visually {border: 0;clip: rect(1px 1px 1px 1px);clip: rect(1px, 1px, 1px, 1px);height: 1px;margin: -1px;overflow: hidden;padding: 0;position: absolute;width: 1px;}#sk-container-id-3 div.sk-estimator {font-family: monospace;background-color: #f0f8ff;border: 1px dotted black;border-radius: 0.25em;box-sizing: border-box;margin-bottom: 0.5em;}#sk-container-id-3 div.sk-estimator:hover {background-color: #d4ebff;}#sk-container-id-3 div.sk-parallel-item::after {content: \"\";width: 100%;border-bottom: 1px solid gray;flex-grow: 1;}#sk-container-id-3 div.sk-label:hover label.sk-toggleable__label {background-color: #d4ebff;}#sk-container-id-3 div.sk-serial::before {content: \"\";position: absolute;border-left: 1px solid gray;box-sizing: border-box;top: 0;bottom: 0;left: 50%;z-index: 0;}#sk-container-id-3 div.sk-serial {display: flex;flex-direction: column;align-items: center;background-color: white;padding-right: 0.2em;padding-left: 0.2em;position: relative;}#sk-container-id-3 div.sk-item {position: relative;z-index: 1;}#sk-container-id-3 div.sk-parallel {display: flex;align-items: stretch;justify-content: center;background-color: white;position: relative;}#sk-container-id-3 div.sk-item::before, #sk-container-id-3 div.sk-parallel-item::before {content: \"\";position: absolute;border-left: 1px solid gray;box-sizing: border-box;top: 0;bottom: 0;left: 50%;z-index: -1;}#sk-container-id-3 div.sk-parallel-item {display: flex;flex-direction: column;z-index: 1;position: relative;background-color: white;}#sk-container-id-3 div.sk-parallel-item:first-child::after {align-self: flex-end;width: 50%;}#sk-container-id-3 div.sk-parallel-item:last-child::after {align-self: flex-start;width: 50%;}#sk-container-id-3 div.sk-parallel-item:only-child::after {width: 0;}#sk-container-id-3 div.sk-dashed-wrapped {border: 1px dashed gray;margin: 0 0.4em 0.5em 0.4em;box-sizing: border-box;padding-bottom: 0.4em;background-color: white;}#sk-container-id-3 div.sk-label label {font-family: monospace;font-weight: bold;display: inline-block;line-height: 1.2em;}#sk-container-id-3 div.sk-label-container {text-align: center;}#sk-container-id-3 div.sk-container {/* jupyter's `normalize.less` sets `[hidden] { display: none; }` but bootstrap.min.css set `[hidden] { display: none !important; }` so we also need the `!important` here to be able to override the default hidden behavior on the sphinx rendered scikit-learn.org. See: https://github.com/scikit-learn/scikit-learn/issues/21755 */display: inline-block !important;position: relative;}#sk-container-id-3 div.sk-text-repr-fallback {display: none;}</style><div id=\"sk-container-id-3\" class=\"sk-top-container\"><div class=\"sk-text-repr-fallback\"><pre>RandomizedSearchCV(cv=5, error_score=&#x27;raise&#x27;,\n",
       "                   estimator=HistGradientBoostingClassifier(random_state=42,\n",
       "                                                            warm_start=True),\n",
       "                   n_jobs=-1,\n",
       "                   param_distributions={&#x27;class_weight&#x27;: [&#x27;balanced&#x27;, None],\n",
       "                                        &#x27;early_stopping&#x27;: [&#x27;auto&#x27;, True],\n",
       "                                        &#x27;learning_rate&#x27;: [0.001, 0.01, 0.1,\n",
       "                                                          1.0],\n",
       "                                        &#x27;max_depth&#x27;: [2, 6, 8, 12],\n",
       "                                        &#x27;max_iter&#x27;: [100, 500, 1000],\n",
       "                                        &#x27;max_leaf_nodes&#x27;: [2, 5, 10],\n",
       "                                        &#x27;min_samples_leaf&#x27;: [2, 5, 10]},\n",
       "                   refit=&#x27;AUC&#x27;, return_train_score=True,\n",
       "                   scoring={&#x27;AUC&#x27;: make_scorer(roc_auc_score),\n",
       "                            &#x27;Accuracy&#x27;: make_scorer(accuracy_score),\n",
       "                            &#x27;F1&#x27;: make_scorer(f1_score),\n",
       "                            &#x27;Precision&#x27;: make_scorer(precision_score),\n",
       "                            &#x27;Recall&#x27;: make_scorer(recall_score)},\n",
       "                   verbose=2)</pre><b>In a Jupyter environment, please rerun this cell to show the HTML representation or trust the notebook. <br />On GitHub, the HTML representation is unable to render, please try loading this page with nbviewer.org.</b></div><div class=\"sk-container\" hidden><div class=\"sk-item sk-dashed-wrapped\"><div class=\"sk-label-container\"><div class=\"sk-label sk-toggleable\"><input class=\"sk-toggleable__control sk-hidden--visually\" id=\"sk-estimator-id-7\" type=\"checkbox\" ><label for=\"sk-estimator-id-7\" class=\"sk-toggleable__label sk-toggleable__label-arrow\">RandomizedSearchCV</label><div class=\"sk-toggleable__content\"><pre>RandomizedSearchCV(cv=5, error_score=&#x27;raise&#x27;,\n",
       "                   estimator=HistGradientBoostingClassifier(random_state=42,\n",
       "                                                            warm_start=True),\n",
       "                   n_jobs=-1,\n",
       "                   param_distributions={&#x27;class_weight&#x27;: [&#x27;balanced&#x27;, None],\n",
       "                                        &#x27;early_stopping&#x27;: [&#x27;auto&#x27;, True],\n",
       "                                        &#x27;learning_rate&#x27;: [0.001, 0.01, 0.1,\n",
       "                                                          1.0],\n",
       "                                        &#x27;max_depth&#x27;: [2, 6, 8, 12],\n",
       "                                        &#x27;max_iter&#x27;: [100, 500, 1000],\n",
       "                                        &#x27;max_leaf_nodes&#x27;: [2, 5, 10],\n",
       "                                        &#x27;min_samples_leaf&#x27;: [2, 5, 10]},\n",
       "                   refit=&#x27;AUC&#x27;, return_train_score=True,\n",
       "                   scoring={&#x27;AUC&#x27;: make_scorer(roc_auc_score),\n",
       "                            &#x27;Accuracy&#x27;: make_scorer(accuracy_score),\n",
       "                            &#x27;F1&#x27;: make_scorer(f1_score),\n",
       "                            &#x27;Precision&#x27;: make_scorer(precision_score),\n",
       "                            &#x27;Recall&#x27;: make_scorer(recall_score)},\n",
       "                   verbose=2)</pre></div></div></div><div class=\"sk-parallel\"><div class=\"sk-parallel-item\"><div class=\"sk-item\"><div class=\"sk-label-container\"><div class=\"sk-label sk-toggleable\"><input class=\"sk-toggleable__control sk-hidden--visually\" id=\"sk-estimator-id-8\" type=\"checkbox\" ><label for=\"sk-estimator-id-8\" class=\"sk-toggleable__label sk-toggleable__label-arrow\">estimator: HistGradientBoostingClassifier</label><div class=\"sk-toggleable__content\"><pre>HistGradientBoostingClassifier(random_state=42, warm_start=True)</pre></div></div></div><div class=\"sk-serial\"><div class=\"sk-item\"><div class=\"sk-estimator sk-toggleable\"><input class=\"sk-toggleable__control sk-hidden--visually\" id=\"sk-estimator-id-9\" type=\"checkbox\" ><label for=\"sk-estimator-id-9\" class=\"sk-toggleable__label sk-toggleable__label-arrow\">HistGradientBoostingClassifier</label><div class=\"sk-toggleable__content\"><pre>HistGradientBoostingClassifier(random_state=42, warm_start=True)</pre></div></div></div></div></div></div></div></div></div></div>"
      ],
      "text/plain": [
       "RandomizedSearchCV(cv=5, error_score='raise',\n",
       "                   estimator=HistGradientBoostingClassifier(random_state=42,\n",
       "                                                            warm_start=True),\n",
       "                   n_jobs=-1,\n",
       "                   param_distributions={'class_weight': ['balanced', None],\n",
       "                                        'early_stopping': ['auto', True],\n",
       "                                        'learning_rate': [0.001, 0.01, 0.1,\n",
       "                                                          1.0],\n",
       "                                        'max_depth': [2, 6, 8, 12],\n",
       "                                        'max_iter': [100, 500, 1000],\n",
       "                                        'max_leaf_nodes': [2, 5, 10],\n",
       "                                        'min_samples_leaf': [2, 5, 10]},\n",
       "                   refit='AUC', return_train_score=True,\n",
       "                   scoring={'AUC': make_scorer(roc_auc_score),\n",
       "                            'Accuracy': make_scorer(accuracy_score),\n",
       "                            'F1': make_scorer(f1_score),\n",
       "                            'Precision': make_scorer(precision_score),\n",
       "                            'Recall': make_scorer(recall_score)},\n",
       "                   verbose=2)"
      ]
     },
     "execution_count": 90,
     "metadata": {},
     "output_type": "execute_result"
    }
   ],
   "source": [
    "# Displaying a Pipeline with a Preprocessing Step and Regression\n",
    "from sklearn import set_config\n",
    "set_config(display=\"diagram\")\n",
    "\n",
    "rnd_search"
   ]
  },
  {
   "cell_type": "markdown",
   "metadata": {},
   "source": [
    "#### Best model training and prediction"
   ]
  },
  {
   "cell_type": "code",
   "execution_count": 91,
   "metadata": {
    "notebookRunGroups": {
     "groupValue": "1"
    }
   },
   "outputs": [
    {
     "data": {
      "text/plain": [
       "{'min_samples_leaf': 2,\n",
       " 'max_leaf_nodes': 10,\n",
       " 'max_iter': 100,\n",
       " 'max_depth': 6,\n",
       " 'learning_rate': 0.001,\n",
       " 'early_stopping': True,\n",
       " 'class_weight': 'balanced'}"
      ]
     },
     "execution_count": 91,
     "metadata": {},
     "output_type": "execute_result"
    }
   ],
   "source": [
    "best_params = rnd_search.best_params_\n",
    "best_params"
   ]
  },
  {
   "cell_type": "code",
   "execution_count": 92,
   "metadata": {
    "notebookRunGroups": {
     "groupValue": "1"
    }
   },
   "outputs": [],
   "source": [
    "\n",
    "y_pred_test, y_predprob_test = predict(df_test, dv, model)\n",
    "\n",
    "\n",
    "# compile the scores in a list\n",
    "scores.append({\n",
    "    \"model\": \"HistGradientBoostingClassifier\",\n",
    "    \"train auc\": roc_auc_score(y_train, y_pred_train),\n",
    "    \"test auc\": roc_auc_score(y_test, y_pred_test),\n",
    "    \"accuracy\": accuracy_score(y_test, y_pred_test),\n",
    "    \"precision\": precision_score(y_test, y_pred_test),\n",
    "    \"f1_mean\": f1_score(y_test, y_pred_test),\n",
    "    \"recall\": recall_score(y_test, y_pred_test),   \n",
    "    }\n",
    ")\n",
    "logging.info(f'-- best_hist test scores appended --')"
   ]
  },
  {
   "cell_type": "code",
   "execution_count": 93,
   "metadata": {
    "notebookRunGroups": {
     "groupValue": "1"
    }
   },
   "outputs": [
    {
     "data": {
      "text/html": [
       "<div>\n",
       "<style scoped>\n",
       "    .dataframe tbody tr th:only-of-type {\n",
       "        vertical-align: middle;\n",
       "    }\n",
       "\n",
       "    .dataframe tbody tr th {\n",
       "        vertical-align: top;\n",
       "    }\n",
       "\n",
       "    .dataframe thead th {\n",
       "        text-align: right;\n",
       "    }\n",
       "</style>\n",
       "<table border=\"1\" class=\"dataframe\">\n",
       "  <thead>\n",
       "    <tr style=\"text-align: right;\">\n",
       "      <th></th>\n",
       "      <th>model</th>\n",
       "      <th>train auc</th>\n",
       "      <th>val auc</th>\n",
       "      <th>accuracy</th>\n",
       "      <th>precision</th>\n",
       "      <th>f1_mean</th>\n",
       "      <th>recall</th>\n",
       "      <th>test auc</th>\n",
       "    </tr>\n",
       "  </thead>\n",
       "  <tbody>\n",
       "    <tr>\n",
       "      <th>0</th>\n",
       "      <td>CatBoostClassifier</td>\n",
       "      <td>0.612176</td>\n",
       "      <td>0.582222</td>\n",
       "      <td>0.728</td>\n",
       "      <td>0.643564</td>\n",
       "      <td>0.323383</td>\n",
       "      <td>0.215947</td>\n",
       "      <td>NaN</td>\n",
       "    </tr>\n",
       "    <tr>\n",
       "      <th>1</th>\n",
       "      <td>CatBoostClassifier</td>\n",
       "      <td>0.612176</td>\n",
       "      <td>NaN</td>\n",
       "      <td>0.744</td>\n",
       "      <td>0.623762</td>\n",
       "      <td>0.329843</td>\n",
       "      <td>0.224199</td>\n",
       "      <td>0.585674</td>\n",
       "    </tr>\n",
       "    <tr>\n",
       "      <th>2</th>\n",
       "      <td>HistGradientBoostingClassifier</td>\n",
       "      <td>0.646008</td>\n",
       "      <td>0.623316</td>\n",
       "      <td>0.640</td>\n",
       "      <td>0.427873</td>\n",
       "      <td>0.492958</td>\n",
       "      <td>0.581395</td>\n",
       "      <td>NaN</td>\n",
       "    </tr>\n",
       "    <tr>\n",
       "      <th>3</th>\n",
       "      <td>HistGradientBoostingClassifier</td>\n",
       "      <td>0.646008</td>\n",
       "      <td>NaN</td>\n",
       "      <td>0.637</td>\n",
       "      <td>0.397500</td>\n",
       "      <td>0.466960</td>\n",
       "      <td>0.565836</td>\n",
       "      <td>0.615324</td>\n",
       "    </tr>\n",
       "  </tbody>\n",
       "</table>\n",
       "</div>"
      ],
      "text/plain": [
       "                            model  train auc   val auc  accuracy  precision  \\\n",
       "0              CatBoostClassifier   0.612176  0.582222     0.728   0.643564   \n",
       "1              CatBoostClassifier   0.612176       NaN     0.744   0.623762   \n",
       "2  HistGradientBoostingClassifier   0.646008  0.623316     0.640   0.427873   \n",
       "3  HistGradientBoostingClassifier   0.646008       NaN     0.637   0.397500   \n",
       "\n",
       "    f1_mean    recall  test auc  \n",
       "0  0.323383  0.215947       NaN  \n",
       "1  0.329843  0.224199  0.585674  \n",
       "2  0.492958  0.581395       NaN  \n",
       "3  0.466960  0.565836  0.615324  "
      ]
     },
     "execution_count": 93,
     "metadata": {},
     "output_type": "execute_result"
    }
   ],
   "source": [
    "df = pd.DataFrame(scores)\n",
    "df"
   ]
  },
  {
   "cell_type": "markdown",
   "metadata": {},
   "source": [
    "### Hyperparams Tuning on CatBoostClassifier\n",
    "\n",
    "#### setup"
   ]
  },
  {
   "cell_type": "code",
   "execution_count": 59,
   "metadata": {
    "notebookRunGroups": {
     "groupValue": "2"
    }
   },
   "outputs": [
    {
     "name": "stdout",
     "output_type": "stream",
     "text": [
      "Loading CSV data...\n"
     ]
    },
    {
     "name": "stderr",
     "output_type": "stream",
     "text": [
      "100%|██████████| 10/10 [00:00<00:00, 217.55it/s]"
     ]
    },
    {
     "name": "stdout",
     "output_type": "stream",
     "text": [
      "Finished processing the CSV file.\n",
      "df.shape = (5000, 7)\n",
      "- Preprocessor()...\n",
      "  -- Replacing symbols in column names...\n",
      "  -- Replacing symbols in data...\n",
      "  -- Dropping TO_DROP columns...\n",
      "- FeatureBuilder()...\n",
      "  -- Creating 'target' column...\n",
      "  -- Split TARGET_NAME for y...\n",
      "  -- Dropping TARGET_NAME...\n",
      "\n",
      "  -- Set COLS_CATEGORICAL astype(category)...\n",
      "  -- Scaling columns with MinMaxScaler()...\n",
      "  -- Scaling columns with RobustScaler()...\n"
     ]
    },
    {
     "name": "stderr",
     "output_type": "stream",
     "text": [
      "\n"
     ]
    }
   ],
   "source": [
    "fold = 0 # reset after HistGradientBoost\n",
    "\n",
    "df_full_train, df_test, y_full_train, y_test = rebuild_df()\n",
    "df_train, df_val, y_train, y_val = train_test_split(df_full_train, y_full_train, test_size=0.25, random_state=11)\n",
    "\n",
    "\n",
    "logging.info('Starting CatboostClassifier...')\n"
   ]
  },
  {
   "cell_type": "code",
   "execution_count": 60,
   "metadata": {
    "notebookRunGroups": {
     "groupValue": "2"
    }
   },
   "outputs": [
    {
     "name": "stdout",
     "output_type": "stream",
     "text": [
      "df.shape = (4000, 4)\n",
      "df.shape = (3000, 4)\n",
      "df.shape = (1000, 4)\n",
      "df.shape = (1000, 4)\n",
      "\n",
      "y.shape = (4000,)\n",
      "y.shape = (3000,)\n",
      "y.shape = (1000,)\n",
      "y.shape = (1000,)\n"
     ]
    }
   ],
   "source": [
    "all_DFs = [df_full_train, df_train, df_val, df_test]\n",
    "all_Ys = [y_full_train, y_train, y_val, y_test]\n",
    "for df in all_DFs:\n",
    "    print(f'{df.shape = }') \n",
    "print()\n",
    "for y in all_Ys:\n",
    "    print(f'{y.shape = }')  "
   ]
  },
  {
   "cell_type": "code",
   "execution_count": 61,
   "metadata": {
    "notebookRunGroups": {
     "groupValue": "2"
    }
   },
   "outputs": [],
   "source": [
    "# Create a k-fold cross-validator\n",
    "kfold = KFold(n_splits=5, shuffle=True, random_state=42)\n",
    "\n",
    "cat_param_grid = {\n",
    "    # \"loss_function\": [\"Logloss\"],\n",
    "    \"iterations\": [10, 100, 200],    # defaults=1000 \n",
    "    \"learning_rate\": [0.001, 0.01, 0.1, 1.0],    # defaults=0.1, 1=no shrinkage  \n",
    "    \"min_data_in_leaf\": [5, 10, 25, 50], # \n",
    "    \"max_depth\": [2, 6, 8, 12]  # \n",
    "}\n",
    "\n",
    "# Create the model\n",
    "cat = CatBoostClassifier(\n",
    "    cat_features=COLS_CATEGORICAL,\n",
    "    eval_metric='AUC:hints=skip_train~false',\n",
    "    random_state=42,\n",
    "    # task_type=\"GPU\",\n",
    "    # devices='0'\n",
    "    verbose=0\n",
    "    )                             \n"
   ]
  },
  {
   "cell_type": "markdown",
   "metadata": {},
   "source": [
    "#### train"
   ]
  },
  {
   "cell_type": "code",
   "execution_count": 62,
   "metadata": {
    "notebookRunGroups": {
     "groupValue": "2"
    }
   },
   "outputs": [],
   "source": [
    "# Log the output of each step of the tuning process.\n",
    "logging.info('Starting CatBoostClassifier hyperparam tuning...')\n",
    "\n",
    "# Perform hyperparameter tuning using RandomizedSearchCV\n",
    "rnd_search = RandomizedSearchCV(\n",
    "    estimator=cat, \n",
    "    param_distributions=cat_param_grid, \n",
    "    cv=kfold,          \n",
    "    scoring=scoring,       # to replace defaults 'loss'\n",
    "    refit=\"AUC\",           # defaults='loss'\n",
    "    error_score='raise', \n",
    "    return_train_score=True,\n",
    "    verbose=False,\n",
    "    n_jobs=-1\n",
    ")\n",
    "\n",
    "# Fit the pipeline to the train data and perform hyperparameter tuning\n",
    "for train_idx, val_idx in kfold.split(df_full_train):\n",
    "    \n",
    "    Xf_train = df_full_train.iloc[train_idx]\n",
    "    Xf_val = df_full_train.iloc[val_idx]\n",
    "\n",
    "    yf_train = y_full_train.iloc[train_idx].values\n",
    "    yf_val = y_full_train.iloc[val_idx].values\n",
    "    \n",
    "    logging.info(f'-- in rnd_search.fit(); kfold: {fold} --')\n",
    "    logging.info('Fitting randomized_search model...')\n",
    "    \n",
    "    # Train the model on the train data\n",
    "    rnd_search.fit(Xf_train, yf_train)\n",
    "    \n",
    "logging.info('hyperparam with randomized_search fit completed')    \n",
    "\n",
    "# took about 8mins up to 100 iterations\n",
    "# took about 14mins up to 200 iterations\n",
    "# took about 20mins up to 500 iterations"
   ]
  },
  {
   "cell_type": "code",
   "execution_count": 63,
   "metadata": {
    "notebookRunGroups": {
     "groupValue": "2"
    }
   },
   "outputs": [
    {
     "data": {
      "application/vnd.jupyter.widget-view+json": {
       "model_id": "2bc50004aa504bb79bce5b05ed1fe4e0",
       "version_major": 2,
       "version_minor": 0
      },
      "text/plain": [
       "MetricVisualizer(layout=Layout(align_self='stretch', height='500px'))"
      ]
     },
     "metadata": {},
     "output_type": "display_data"
    },
    {
     "name": "stdout",
     "output_type": "stream",
     "text": [
      "\n",
      "bestTest = 0.6732408266\n",
      "bestIteration = 2\n",
      "\n",
      "\n",
      "bestTest = 0.6832291636\n",
      "bestIteration = 34\n",
      "\n",
      "\n",
      "bestTest = 0.6762500374\n",
      "bestIteration = 6\n",
      "\n",
      "\n",
      "bestTest = 0.675020186\n",
      "bestIteration = 7\n",
      "\n",
      "\n",
      "bestTest = 0.6931464757\n",
      "bestIteration = 21\n",
      "\n",
      "\n",
      "bestTest = 0.6780667783\n",
      "bestIteration = 149\n",
      "\n",
      "\n",
      "bestTest = 0.6680223691\n",
      "bestIteration = 10\n",
      "\n",
      "\n",
      "bestTest = 0.6826946081\n",
      "bestIteration = 98\n",
      "\n",
      "\n",
      "bestTest = 0.6832291636\n",
      "bestIteration = 34\n",
      "\n",
      "\n",
      "bestTest = 0.6750276623\n",
      "bestIteration = 10\n",
      "\n",
      "Training on fold [0/5]\n",
      "\n",
      "bestTest = 0.6738267819\n",
      "bestIteration = 0\n",
      "\n",
      "Training on fold [1/5]\n",
      "\n",
      "bestTest = 0.7172491314\n",
      "bestIteration = 13\n",
      "\n",
      "Training on fold [2/5]\n",
      "\n",
      "bestTest = 0.6707306286\n",
      "bestIteration = 57\n",
      "\n",
      "Training on fold [3/5]\n",
      "\n",
      "bestTest = 0.6491727992\n",
      "bestIteration = 11\n",
      "\n",
      "Training on fold [4/5]\n",
      "\n",
      "bestTest = 0.6766009249\n",
      "bestIteration = 11\n",
      "\n"
     ]
    }
   ],
   "source": [
    "# Create a catboost randomized_search object\n",
    "cat_rnd_search = cat.randomized_search(\n",
    "    X=df_full_train,\n",
    "    y=y_full_train,\n",
    "    param_distributions=cat_param_grid, \n",
    "    cv=kfold, \n",
    "    n_iter=10,\n",
    "    calc_cv_statistics=True,\n",
    "    refit=True,\n",
    "    shuffle=True,\n",
    "    stratified=True,\n",
    "    log_cout=sys.stdout,     \n",
    "    verbose=False,\n",
    "    plot=True\n",
    ")\n",
    "# took about 4mins"
   ]
  },
  {
   "cell_type": "code",
   "execution_count": 64,
   "metadata": {
    "notebookRunGroups": {
     "groupValue": "2"
    }
   },
   "outputs": [],
   "source": [
    "eval_pool = Pool(df_val, y_val, cat_features=COLS_CATEGORICAL)"
   ]
  },
  {
   "cell_type": "code",
   "execution_count": 65,
   "metadata": {
    "notebookRunGroups": {
     "groupValue": "2"
    }
   },
   "outputs": [
    {
     "data": {
      "application/vnd.jupyter.widget-view+json": {
       "model_id": "5b80a9d4757041e5ac67fda747bbe892",
       "version_major": 2,
       "version_minor": 0
      },
      "text/plain": [
       "MetricVisualizer(layout=Layout(align_self='stretch', height='500px'))"
      ]
     },
     "metadata": {},
     "output_type": "display_data"
    },
    {
     "data": {
      "text/plain": [
       "{'AUC': [0.6761034985907728,\n",
       "  0.7017571376289811,\n",
       "  0.7094449118104174,\n",
       "  0.7151008322282901,\n",
       "  0.7130428376560725,\n",
       "  0.7143284901544209,\n",
       "  0.7169663353913279,\n",
       "  0.719067105832252,\n",
       "  0.7189126374174782,\n",
       "  0.7209730084268462,\n",
       "  0.7207092239031554,\n",
       "  0.7232187415339426,\n",
       "  0.7239292962419023,\n",
       "  0.7270947105261907,\n",
       "  0.7292477625844229,\n",
       "  0.7293333143218361,\n",
       "  0.7301721966359156,\n",
       "  0.7297777080689547,\n",
       "  0.7297206735773458,\n",
       "  0.7318309497668716,\n",
       "  0.7329930275334009,\n",
       "  0.7336251598153984,\n",
       "  0.7357473181906757,\n",
       "  0.7356950365733678,\n",
       "  0.7371898155409484,\n",
       "  0.7374417178788872,\n",
       "  0.7371731804808959,\n",
       "  0.7379146288718103,\n",
       "  0.7378148185114948,\n",
       "  0.7378148185114948,\n",
       "  0.7381712840840498,\n",
       "  0.7400629280557417,\n",
       "  0.7408851753097686,\n",
       "  0.7408804224354679,\n",
       "  0.7415315662146683,\n",
       "  0.7411655948935119,\n",
       "  0.7416194943892319,\n",
       "  0.7422848967913346,\n",
       "  0.7429170290733321,\n",
       "  0.7424750117633638,\n",
       "  0.7421090404422075,\n",
       "  0.7423942129002514,\n",
       "  0.7441931758230791,\n",
       "  0.7443072448062966,\n",
       "  0.7443072448062966,\n",
       "  0.7443072448062966,\n",
       "  0.746493566984634,\n",
       "  0.7476104924453063,\n",
       "  0.7475629637022989,\n",
       "  0.7493215271935703,\n",
       "  0.7504574641514457,\n",
       "  0.7529004415420225,\n",
       "  0.7527721139359027,\n",
       "  0.7533139416061864,\n",
       "  0.7531761082514651,\n",
       "  0.7539223095166803,\n",
       "  0.7535896083156288,\n",
       "  0.7534850450810128,\n",
       "  0.7533424588519908,\n",
       "  0.7540601428714014,\n",
       "  0.7548253556338196,\n",
       "  0.7560040684604015,\n",
       "  0.7558614822313794,\n",
       "  0.7560040684604015,\n",
       "  0.7563462754100543,\n",
       "  0.7565221317591814,\n",
       "  0.7565173788848807,\n",
       "  0.7567977984686239,\n",
       "  0.7576913388371618,\n",
       "  0.7579004653063941,\n",
       "  0.7578719480605897,\n",
       "  0.7582806952504527,\n",
       "  0.7588652987894429,\n",
       "  0.7586609251945113,\n",
       "  0.7584755630967828,\n",
       "  0.7584708102224821,\n",
       "  0.7592075057390957,\n",
       "  0.7609565634817657,\n",
       "  0.76098508072757,\n",
       "  0.7615649313922594,\n",
       "  0.7621637935541519,\n",
       "  0.7621495349312497,\n",
       "  0.7623586614004819,\n",
       "  0.7631191212885993,\n",
       "  0.7641837651319636,\n",
       "  0.7654622883188609,\n",
       "  0.7658425182629195,\n",
       "  0.7667122942599537,\n",
       "  0.7671828288157263,\n",
       "  0.7680145818183547,\n",
       "  0.7689984267986064,\n",
       "  0.7690031796729072,\n",
       "  0.7696353119549048,\n",
       "  0.7707284730440734,\n",
       "  0.7707284730440734,\n",
       "  0.7719261973678582,\n",
       "  0.7733473067837775,\n",
       "  0.7741885655350073,\n",
       "  0.7744167035014425,\n",
       "  0.774426209250044],\n",
       " 'Accuracy': [0.732,\n",
       "  0.736,\n",
       "  0.734,\n",
       "  0.737,\n",
       "  0.739,\n",
       "  0.737,\n",
       "  0.738,\n",
       "  0.738,\n",
       "  0.741,\n",
       "  0.742,\n",
       "  0.74,\n",
       "  0.741,\n",
       "  0.743,\n",
       "  0.743,\n",
       "  0.742,\n",
       "  0.743,\n",
       "  0.742,\n",
       "  0.742,\n",
       "  0.743,\n",
       "  0.742,\n",
       "  0.742,\n",
       "  0.743,\n",
       "  0.744,\n",
       "  0.743,\n",
       "  0.743,\n",
       "  0.743,\n",
       "  0.743,\n",
       "  0.743,\n",
       "  0.745,\n",
       "  0.745,\n",
       "  0.745,\n",
       "  0.744,\n",
       "  0.743,\n",
       "  0.745,\n",
       "  0.746,\n",
       "  0.746,\n",
       "  0.747,\n",
       "  0.749,\n",
       "  0.75,\n",
       "  0.751,\n",
       "  0.752,\n",
       "  0.752,\n",
       "  0.753,\n",
       "  0.752,\n",
       "  0.753,\n",
       "  0.753,\n",
       "  0.751,\n",
       "  0.755,\n",
       "  0.755,\n",
       "  0.756,\n",
       "  0.755,\n",
       "  0.755,\n",
       "  0.755,\n",
       "  0.757,\n",
       "  0.756,\n",
       "  0.755,\n",
       "  0.755,\n",
       "  0.756,\n",
       "  0.756,\n",
       "  0.755,\n",
       "  0.755,\n",
       "  0.754,\n",
       "  0.754,\n",
       "  0.754,\n",
       "  0.755,\n",
       "  0.754,\n",
       "  0.756,\n",
       "  0.755,\n",
       "  0.755,\n",
       "  0.755,\n",
       "  0.755,\n",
       "  0.755,\n",
       "  0.752,\n",
       "  0.753,\n",
       "  0.753,\n",
       "  0.754,\n",
       "  0.753,\n",
       "  0.754,\n",
       "  0.754,\n",
       "  0.754,\n",
       "  0.755,\n",
       "  0.755,\n",
       "  0.754,\n",
       "  0.756,\n",
       "  0.755,\n",
       "  0.755,\n",
       "  0.756,\n",
       "  0.756,\n",
       "  0.755,\n",
       "  0.756,\n",
       "  0.757,\n",
       "  0.757,\n",
       "  0.759,\n",
       "  0.759,\n",
       "  0.759,\n",
       "  0.757,\n",
       "  0.758,\n",
       "  0.758,\n",
       "  0.759,\n",
       "  0.758],\n",
       " 'F1': [0.27173913043478265,\n",
       "  0.30158730158730157,\n",
       "  0.28494623655913975,\n",
       "  0.29866666666666664,\n",
       "  0.3113456464379947,\n",
       "  0.3168831168831169,\n",
       "  0.31052631578947365,\n",
       "  0.2994652406417112,\n",
       "  0.3129973474801061,\n",
       "  0.3174603174603175,\n",
       "  0.3085106382978724,\n",
       "  0.3093333333333333,\n",
       "  0.32189973614775724,\n",
       "  0.3254593175853018,\n",
       "  0.328125,\n",
       "  0.32898172323759794,\n",
       "  0.328125,\n",
       "  0.328125,\n",
       "  0.32898172323759794,\n",
       "  0.328125,\n",
       "  0.328125,\n",
       "  0.33246753246753247,\n",
       "  0.3333333333333333,\n",
       "  0.33246753246753247,\n",
       "  0.33246753246753247,\n",
       "  0.33246753246753247,\n",
       "  0.33246753246753247,\n",
       "  0.33246753246753247,\n",
       "  0.33766233766233766,\n",
       "  0.33766233766233766,\n",
       "  0.33766233766233766,\n",
       "  0.3333333333333333,\n",
       "  0.33246753246753247,\n",
       "  0.33420365535248037,\n",
       "  0.3350785340314136,\n",
       "  0.3350785340314136,\n",
       "  0.3359580052493438,\n",
       "  0.3412073490813648,\n",
       "  0.34554973821989526,\n",
       "  0.34986945169712796,\n",
       "  0.35078534031413616,\n",
       "  0.35416666666666674,\n",
       "  0.35170603674540685,\n",
       "  0.3473684210526316,\n",
       "  0.34828496042216356,\n",
       "  0.34828496042216356,\n",
       "  0.34986945169712796,\n",
       "  0.3535620052770449,\n",
       "  0.3535620052770449,\n",
       "  0.35789473684210527,\n",
       "  0.360313315926893,\n",
       "  0.360313315926893,\n",
       "  0.360313315926893,\n",
       "  0.3622047244094488,\n",
       "  0.3612565445026178,\n",
       "  0.360313315926893,\n",
       "  0.360313315926893,\n",
       "  0.3612565445026178,\n",
       "  0.3612565445026178,\n",
       "  0.360313315926893,\n",
       "  0.360313315926893,\n",
       "  0.359375,\n",
       "  0.359375,\n",
       "  0.359375,\n",
       "  0.3569553805774278,\n",
       "  0.356020942408377,\n",
       "  0.3612565445026178,\n",
       "  0.360313315926893,\n",
       "  0.360313315926893,\n",
       "  0.360313315926893,\n",
       "  0.360313315926893,\n",
       "  0.360313315926893,\n",
       "  0.35078534031413616,\n",
       "  0.35509138381201044,\n",
       "  0.35509138381201044,\n",
       "  0.359375,\n",
       "  0.3584415584415584,\n",
       "  0.359375,\n",
       "  0.359375,\n",
       "  0.359375,\n",
       "  0.3636363636363636,\n",
       "  0.3636363636363636,\n",
       "  0.359375,\n",
       "  0.36787564766839376,\n",
       "  0.36692506459948315,\n",
       "  0.36692506459948315,\n",
       "  0.3711340206185567,\n",
       "  0.36787564766839376,\n",
       "  0.37017994858611836,\n",
       "  0.37435897435897436,\n",
       "  0.3785166240409207,\n",
       "  0.3785166240409207,\n",
       "  0.38363171355498715,\n",
       "  0.38363171355498715,\n",
       "  0.38363171355498715,\n",
       "  0.3785166240409207,\n",
       "  0.37948717948717947,\n",
       "  0.37948717948717947,\n",
       "  0.38046272493573263,\n",
       "  0.37948717948717947],\n",
       " 'Precision': [0.746268656716418,\n",
       "  0.7402597402597403,\n",
       "  0.7464788732394366,\n",
       "  0.7567567567567568,\n",
       "  0.7564102564102564,\n",
       "  0.7261904761904762,\n",
       "  0.7468354430379747,\n",
       "  0.7671232876712328,\n",
       "  0.7763157894736842,\n",
       "  0.7792207792207793,\n",
       "  0.7733333333333333,\n",
       "  0.7837837837837838,\n",
       "  0.782051282051282,\n",
       "  0.775,\n",
       "  0.7590361445783133,\n",
       "  0.7682926829268293,\n",
       "  0.7590361445783133,\n",
       "  0.7590361445783133,\n",
       "  0.7682926829268293,\n",
       "  0.7590361445783133,\n",
       "  0.7590361445783133,\n",
       "  0.7619047619047619,\n",
       "  0.7710843373493976,\n",
       "  0.7619047619047619,\n",
       "  0.7619047619047619,\n",
       "  0.7619047619047619,\n",
       "  0.7619047619047619,\n",
       "  0.7619047619047619,\n",
       "  0.7738095238095238,\n",
       "  0.7738095238095238,\n",
       "  0.7738095238095238,\n",
       "  0.7710843373493976,\n",
       "  0.7619047619047619,\n",
       "  0.7804878048780488,\n",
       "  0.7901234567901234,\n",
       "  0.7901234567901234,\n",
       "  0.8,\n",
       "  0.8125,\n",
       "  0.8148148148148148,\n",
       "  0.8170731707317073,\n",
       "  0.8271604938271605,\n",
       "  0.8192771084337349,\n",
       "  0.8375,\n",
       "  0.8354430379746836,\n",
       "  0.8461538461538461,\n",
       "  0.8461538461538461,\n",
       "  0.8170731707317073,\n",
       "  0.8589743589743589,\n",
       "  0.8589743589743589,\n",
       "  0.8607594936708861,\n",
       "  0.8414634146341463,\n",
       "  0.8414634146341463,\n",
       "  0.8414634146341463,\n",
       "  0.8625,\n",
       "  0.8518518518518519,\n",
       "  0.8414634146341463,\n",
       "  0.8414634146341463,\n",
       "  0.8518518518518519,\n",
       "  0.8518518518518519,\n",
       "  0.8414634146341463,\n",
       "  0.8414634146341463,\n",
       "  0.8313253012048193,\n",
       "  0.8313253012048193,\n",
       "  0.8313253012048193,\n",
       "  0.85,\n",
       "  0.8395061728395061,\n",
       "  0.8518518518518519,\n",
       "  0.8414634146341463,\n",
       "  0.8414634146341463,\n",
       "  0.8414634146341463,\n",
       "  0.8414634146341463,\n",
       "  0.8414634146341463,\n",
       "  0.8271604938271605,\n",
       "  0.8292682926829268,\n",
       "  0.8292682926829268,\n",
       "  0.8313253012048193,\n",
       "  0.8214285714285714,\n",
       "  0.8313253012048193,\n",
       "  0.8313253012048193,\n",
       "  0.8313253012048193,\n",
       "  0.8333333333333334,\n",
       "  0.8333333333333334,\n",
       "  0.8313253012048193,\n",
       "  0.8352941176470589,\n",
       "  0.8255813953488372,\n",
       "  0.8255813953488372,\n",
       "  0.8275862068965517,\n",
       "  0.8352941176470589,\n",
       "  0.8181818181818182,\n",
       "  0.8202247191011236,\n",
       "  0.8222222222222222,\n",
       "  0.8222222222222222,\n",
       "  0.8333333333333334,\n",
       "  0.8333333333333334,\n",
       "  0.8333333333333334,\n",
       "  0.8222222222222222,\n",
       "  0.8314606741573034,\n",
       "  0.8314606741573034,\n",
       "  0.8409090909090909,\n",
       "  0.8314606741573034],\n",
       " 'Recall': [0.16611295681063123,\n",
       "  0.1893687707641196,\n",
       "  0.1760797342192691,\n",
       "  0.18604651162790697,\n",
       "  0.19601328903654486,\n",
       "  0.2026578073089701,\n",
       "  0.19601328903654486,\n",
       "  0.18604651162790697,\n",
       "  0.19601328903654486,\n",
       "  0.19933554817275748,\n",
       "  0.19269102990033224,\n",
       "  0.19269102990033224,\n",
       "  0.2026578073089701,\n",
       "  0.2059800664451827,\n",
       "  0.20930232558139536,\n",
       "  0.20930232558139536,\n",
       "  0.20930232558139536,\n",
       "  0.20930232558139536,\n",
       "  0.20930232558139536,\n",
       "  0.20930232558139536,\n",
       "  0.20930232558139536,\n",
       "  0.21262458471760798,\n",
       "  0.21262458471760798,\n",
       "  0.21262458471760798,\n",
       "  0.21262458471760798,\n",
       "  0.21262458471760798,\n",
       "  0.21262458471760798,\n",
       "  0.21262458471760798,\n",
       "  0.2159468438538206,\n",
       "  0.2159468438538206,\n",
       "  0.2159468438538206,\n",
       "  0.21262458471760798,\n",
       "  0.21262458471760798,\n",
       "  0.21262458471760798,\n",
       "  0.21262458471760798,\n",
       "  0.21262458471760798,\n",
       "  0.21262458471760798,\n",
       "  0.2159468438538206,\n",
       "  0.21926910299003322,\n",
       "  0.22259136212624583,\n",
       "  0.22259136212624583,\n",
       "  0.22591362126245848,\n",
       "  0.22259136212624583,\n",
       "  0.21926910299003322,\n",
       "  0.21926910299003322,\n",
       "  0.21926910299003322,\n",
       "  0.22259136212624583,\n",
       "  0.22259136212624583,\n",
       "  0.22259136212624583,\n",
       "  0.22591362126245848,\n",
       "  0.2292358803986711,\n",
       "  0.2292358803986711,\n",
       "  0.2292358803986711,\n",
       "  0.2292358803986711,\n",
       "  0.2292358803986711,\n",
       "  0.2292358803986711,\n",
       "  0.2292358803986711,\n",
       "  0.2292358803986711,\n",
       "  0.2292358803986711,\n",
       "  0.2292358803986711,\n",
       "  0.2292358803986711,\n",
       "  0.2292358803986711,\n",
       "  0.2292358803986711,\n",
       "  0.2292358803986711,\n",
       "  0.22591362126245848,\n",
       "  0.22591362126245848,\n",
       "  0.2292358803986711,\n",
       "  0.2292358803986711,\n",
       "  0.2292358803986711,\n",
       "  0.2292358803986711,\n",
       "  0.2292358803986711,\n",
       "  0.2292358803986711,\n",
       "  0.22259136212624583,\n",
       "  0.22591362126245848,\n",
       "  0.22591362126245848,\n",
       "  0.2292358803986711,\n",
       "  0.2292358803986711,\n",
       "  0.2292358803986711,\n",
       "  0.2292358803986711,\n",
       "  0.2292358803986711,\n",
       "  0.23255813953488372,\n",
       "  0.23255813953488372,\n",
       "  0.2292358803986711,\n",
       "  0.23588039867109634,\n",
       "  0.23588039867109634,\n",
       "  0.23588039867109634,\n",
       "  0.23920265780730898,\n",
       "  0.23588039867109634,\n",
       "  0.23920265780730898,\n",
       "  0.2425249169435216,\n",
       "  0.24584717607973422,\n",
       "  0.24584717607973422,\n",
       "  0.24916943521594684,\n",
       "  0.24916943521594684,\n",
       "  0.24916943521594684,\n",
       "  0.24584717607973422,\n",
       "  0.24584717607973422,\n",
       "  0.24584717607973422,\n",
       "  0.24584717607973422,\n",
       "  0.24584717607973422]}"
      ]
     },
     "execution_count": 65,
     "metadata": {},
     "output_type": "execute_result"
    }
   ],
   "source": [
    "cat.eval_metrics(\n",
    "    data=eval_pool,\n",
    "    metrics=['AUC', 'Accuracy', 'F1', 'Precision', 'Recall'],\n",
    "    plot=True,\n",
    ")"
   ]
  },
  {
   "cell_type": "markdown",
   "metadata": {},
   "source": [
    "#### evaluate"
   ]
  },
  {
   "cell_type": "code",
   "execution_count": 66,
   "metadata": {
    "notebookRunGroups": {
     "groupValue": "2"
    }
   },
   "outputs": [],
   "source": [
    "cv_results = pd.DataFrame(cat_rnd_search['cv_results'])"
   ]
  },
  {
   "cell_type": "code",
   "execution_count": 67,
   "metadata": {
    "notebookRunGroups": {
     "groupValue": "2"
    }
   },
   "outputs": [
    {
     "name": "stdout",
     "output_type": "stream",
     "text": [
      "AUC on val set: 0.670\n"
     ]
    }
   ],
   "source": [
    "from catboost.utils import get_roc_curve\n",
    "import sklearn\n",
    "from sklearn import metrics\n",
    "\n",
    "auc = np.max(cv_results['test-AUC-mean'])\n",
    "print(f\"AUC on val set: {auc:.3f}\")\n",
    "curve = get_roc_curve(cat, eval_pool)\n",
    "(fpr, tpr, thresholds) = curve\n",
    "roc_auc = sklearn.metrics.auc(fpr, tpr)"
   ]
  },
  {
   "cell_type": "code",
   "execution_count": 68,
   "metadata": {
    "notebookRunGroups": {
     "groupValue": "2"
    }
   },
   "outputs": [
    {
     "data": {
      "image/png": "[encoded data removed]",
      "text/plain": [
       "<Figure size 1600x800 with 1 Axes>"
      ]
     },
     "metadata": {},
     "output_type": "display_data"
    }
   ],
   "source": [
    "import matplotlib.pyplot as plt\n",
    "\n",
    "plt.figure(figsize=(16, 8))\n",
    "lw = 2\n",
    "\n",
    "plt.plot(fpr, tpr, color='darkorange',\n",
    "         lw=lw, label='ROC curve (area = %0.2f)' % roc_auc, alpha=0.5)\n",
    "\n",
    "plt.plot([0, 1], [0, 1], color='navy', lw=lw, linestyle='--', alpha=0.5)\n",
    "\n",
    "plt.xlim([0.0, 1.0])\n",
    "plt.ylim([0.0, 1.05])\n",
    "plt.xticks(fontsize=16)\n",
    "plt.yticks(fontsize=16)\n",
    "plt.grid(True)\n",
    "plt.xlabel('False Positive Rate', fontsize=16)\n",
    "plt.ylabel('True Positive Rate', fontsize=16)\n",
    "plt.title('Receiver operating characteristic', fontsize=20)\n",
    "plt.legend(loc=\"lower right\", fontsize=16)\n",
    "plt.show()"
   ]
  },
  {
   "cell_type": "markdown",
   "metadata": {},
   "source": [
    "#### Best model training and validation prediction"
   ]
  },
  {
   "cell_type": "code",
   "execution_count": 69,
   "metadata": {
    "notebookRunGroups": {
     "groupValue": "2"
    }
   },
   "outputs": [],
   "source": [
    "best_params = rnd_search.best_params_\n",
    "\n",
    "best_cat = CatBoostClassifier(**best_params, verbose=0)\n",
    "best_cat.fit(\n",
    "    df_train, \n",
    "    y_train, \n",
    "    cat_features=COLS_CATEGORICAL\n",
    ")\n",
    "y_pred_train = best_cat.predict(df_train)"
   ]
  },
  {
   "cell_type": "code",
   "execution_count": 70,
   "metadata": {
    "notebookRunGroups": {
     "groupValue": "2"
    }
   },
   "outputs": [],
   "source": [
    "y_pred = best_cat.predict(df_val)\n",
    "\n",
    "# compile the scores in a list\n",
    "scores.append({\n",
    "    \"model\": \"CatBoostClassifier\",\n",
    "    \"train auc\": roc_auc_score(y_train, y_pred_train),\n",
    "    \"val auc\": roc_auc_score(y_val, y_pred),\n",
    "    \"accuracy\": accuracy_score(y_val, y_pred),\n",
    "    \"precision\": precision_score(y_val, y_pred),\n",
    "    \"f1_mean\": f1_score(y_val, y_pred),\n",
    "    \"recall\": recall_score(y_val, y_pred),    \n",
    "    }\n",
    ")\n",
    "logging.info(f'-- best_cat val scores appended --')\n",
    "# Log the results of the tuning process.\n",
    "logging.info('The best hyperparameters are: {}'.format(rnd_search.best_params_))"
   ]
  },
  {
   "cell_type": "markdown",
   "metadata": {},
   "source": [
    "#### Best iteration"
   ]
  },
  {
   "cell_type": "markdown",
   "metadata": {},
   "source": [
    "## Final Model output\n",
    "\n",
    "using df_test and the best_params"
   ]
  },
  {
   "cell_type": "code",
   "execution_count": 71,
   "metadata": {
    "notebookRunGroups": {
     "groupValue": "2"
    }
   },
   "outputs": [
    {
     "data": {
      "text/html": [
       "<div>\n",
       "<style scoped>\n",
       "    .dataframe tbody tr th:only-of-type {\n",
       "        vertical-align: middle;\n",
       "    }\n",
       "\n",
       "    .dataframe tbody tr th {\n",
       "        vertical-align: top;\n",
       "    }\n",
       "\n",
       "    .dataframe thead th {\n",
       "        text-align: right;\n",
       "    }\n",
       "</style>\n",
       "<table border=\"1\" class=\"dataframe\">\n",
       "  <thead>\n",
       "    <tr style=\"text-align: right;\">\n",
       "      <th></th>\n",
       "      <th>Feature Id</th>\n",
       "      <th>Importances</th>\n",
       "    </tr>\n",
       "  </thead>\n",
       "  <tbody>\n",
       "    <tr>\n",
       "      <th>0</th>\n",
       "      <td>college_gpa</td>\n",
       "      <td>34.887501</td>\n",
       "    </tr>\n",
       "    <tr>\n",
       "      <th>1</th>\n",
       "      <td>parental_income</td>\n",
       "      <td>26.328737</td>\n",
       "    </tr>\n",
       "    <tr>\n",
       "      <th>2</th>\n",
       "      <td>sat_total_score</td>\n",
       "      <td>22.223542</td>\n",
       "    </tr>\n",
       "    <tr>\n",
       "      <th>3</th>\n",
       "      <td>parental_level_of_education</td>\n",
       "      <td>16.560220</td>\n",
       "    </tr>\n",
       "  </tbody>\n",
       "</table>\n",
       "</div>"
      ],
      "text/plain": [
       "                    Feature Id  Importances\n",
       "0                  college_gpa    34.887501\n",
       "1              parental_income    26.328737\n",
       "2              sat_total_score    22.223542\n",
       "3  parental_level_of_education    16.560220"
      ]
     },
     "execution_count": 71,
     "metadata": {},
     "output_type": "execute_result"
    }
   ],
   "source": [
    "cat.get_feature_importance(prettified=True)"
   ]
  },
  {
   "cell_type": "markdown",
   "metadata": {},
   "source": [
    "#### predict test"
   ]
  },
  {
   "cell_type": "code",
   "execution_count": 72,
   "metadata": {
    "notebookRunGroups": {
     "groupValue": "2"
    }
   },
   "outputs": [],
   "source": [
    "y_pred_proba = best_cat.predict_proba(df_test)\n",
    "y_pred = best_cat.predict(df_test)\n",
    "\n",
    "# compile the scores in a list\n",
    "scores.append({\n",
    "    \"model\": \"CatBoostClassifier\",\n",
    "    \"train auc\": roc_auc_score(y_train, y_pred_train),\n",
    "    \"test auc\": roc_auc_score(y_test, y_pred),\n",
    "    \"accuracy\": accuracy_score(y_test, y_pred),\n",
    "    \"precision\": precision_score(y_test, y_pred),\n",
    "    \"f1_mean\": f1_score(y_test, y_pred),\n",
    "    \"recall\": recall_score(y_test, y_pred),    \n",
    "    }\n",
    ")\n",
    "logging.info(f'-- best_cat test scores appended --')"
   ]
  },
  {
   "cell_type": "code",
   "execution_count": 94,
   "metadata": {
    "notebookRunGroups": {
     "groupValue": "12"
    }
   },
   "outputs": [
    {
     "data": {
      "text/html": [
       "<div>\n",
       "<style scoped>\n",
       "    .dataframe tbody tr th:only-of-type {\n",
       "        vertical-align: middle;\n",
       "    }\n",
       "\n",
       "    .dataframe tbody tr th {\n",
       "        vertical-align: top;\n",
       "    }\n",
       "\n",
       "    .dataframe thead th {\n",
       "        text-align: right;\n",
       "    }\n",
       "</style>\n",
       "<table border=\"1\" class=\"dataframe\">\n",
       "  <thead>\n",
       "    <tr style=\"text-align: right;\">\n",
       "      <th></th>\n",
       "      <th>model</th>\n",
       "      <th>train auc</th>\n",
       "      <th>val auc</th>\n",
       "      <th>accuracy</th>\n",
       "      <th>precision</th>\n",
       "      <th>f1_mean</th>\n",
       "      <th>recall</th>\n",
       "      <th>test auc</th>\n",
       "    </tr>\n",
       "  </thead>\n",
       "  <tbody>\n",
       "    <tr>\n",
       "      <th>0</th>\n",
       "      <td>CatBoostClassifier</td>\n",
       "      <td>0.612176</td>\n",
       "      <td>0.582222</td>\n",
       "      <td>0.728</td>\n",
       "      <td>0.643564</td>\n",
       "      <td>0.323383</td>\n",
       "      <td>0.215947</td>\n",
       "      <td>NaN</td>\n",
       "    </tr>\n",
       "    <tr>\n",
       "      <th>1</th>\n",
       "      <td>CatBoostClassifier</td>\n",
       "      <td>0.612176</td>\n",
       "      <td>NaN</td>\n",
       "      <td>0.744</td>\n",
       "      <td>0.623762</td>\n",
       "      <td>0.329843</td>\n",
       "      <td>0.224199</td>\n",
       "      <td>0.585674</td>\n",
       "    </tr>\n",
       "    <tr>\n",
       "      <th>2</th>\n",
       "      <td>HistGradientBoostingClassifier</td>\n",
       "      <td>0.646008</td>\n",
       "      <td>0.623316</td>\n",
       "      <td>0.640</td>\n",
       "      <td>0.427873</td>\n",
       "      <td>0.492958</td>\n",
       "      <td>0.581395</td>\n",
       "      <td>NaN</td>\n",
       "    </tr>\n",
       "    <tr>\n",
       "      <th>3</th>\n",
       "      <td>HistGradientBoostingClassifier</td>\n",
       "      <td>0.646008</td>\n",
       "      <td>NaN</td>\n",
       "      <td>0.637</td>\n",
       "      <td>0.397500</td>\n",
       "      <td>0.466960</td>\n",
       "      <td>0.565836</td>\n",
       "      <td>0.615324</td>\n",
       "    </tr>\n",
       "  </tbody>\n",
       "</table>\n",
       "</div>"
      ],
      "text/plain": [
       "                            model  train auc   val auc  accuracy  precision  \\\n",
       "0              CatBoostClassifier   0.612176  0.582222     0.728   0.643564   \n",
       "1              CatBoostClassifier   0.612176       NaN     0.744   0.623762   \n",
       "2  HistGradientBoostingClassifier   0.646008  0.623316     0.640   0.427873   \n",
       "3  HistGradientBoostingClassifier   0.646008       NaN     0.637   0.397500   \n",
       "\n",
       "    f1_mean    recall  test auc  \n",
       "0  0.323383  0.215947       NaN  \n",
       "1  0.329843  0.224199  0.585674  \n",
       "2  0.492958  0.581395       NaN  \n",
       "3  0.466960  0.565836  0.615324  "
      ]
     },
     "execution_count": 94,
     "metadata": {},
     "output_type": "execute_result"
    }
   ],
   "source": [
    "df = pd.DataFrame(scores)\n",
    "df"
   ]
  },
  {
   "cell_type": "code",
   "execution_count": null,
   "metadata": {
    "notebookRunGroups": {
     "groupValue": ""
    }
   },
   "outputs": [],
   "source": [
    "# student = {\n",
    "#     \"sat_total_score\": 1400,\n",
    "#     \"parental_level_of_education\": \"bachelor's degree\",\n",
    "#     \"parental_income\": 125000,\n",
    "#     \"college_gpa\": 3.2\n",
    "# }"
   ]
  },
  {
   "cell_type": "code",
   "execution_count": null,
   "metadata": {},
   "outputs": [],
   "source": []
  }
 ],
 "metadata": {
  "kernelspec": {
   "display_name": "churn311",
   "language": "python",
   "name": "python3"
  },
  "language_info": {
   "codemirror_mode": {
    "name": "ipython",
    "version": 3
   },
   "file_extension": ".py",
   "mimetype": "text/x-python",
   "name": "python",
   "nbconvert_exporter": "python",
   "pygments_lexer": "ipython3",
   "version": "3.10.11"
  },
  "orig_nbformat": 4
 },
 "nbformat": 4,
 "nbformat_minor": 2
}
