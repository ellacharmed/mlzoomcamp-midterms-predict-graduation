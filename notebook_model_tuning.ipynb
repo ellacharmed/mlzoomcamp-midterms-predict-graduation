{
 "cells": [
  {
   "cell_type": "markdown",
   "metadata": {},
   "source": [
    "# Predict students' graduation rate\n",
    "\n",
    "[![Binder](https://mybinder.org/badge_logo.svg)](https://mybinder.org/v2/gh/ellacharmed/mlzoomcamp-midterms-predict-graduation/submission?labpath=notebook_model_tuning.ipynb)\n",
    "\n",
    "- [dataset from @ roycekimmons.com](http://roycekimmons.com/tools/generated_data/graduation_rate)\n",
    "\n",
    "> This is a fictional dataset and should only be used for data science training purposes.\n",
    "> \n",
    "> This data set includes graduation rates from a four-year college with a variety of student factors.\n",
    "\n",
    "The key questions we want to address:\n",
    "\n",
    "> 1. How effective are entrance requirements at predicting gpa and graduation rate?\n",
    "> 1. What would be the best way to improve graduation rates?\n",
    "\n",
    "> All data sets are generated on-the-fly. So, you can increase your n by downloading a data set multiple times and combining the files. (n=1000) per large sample download\n",
    "\n",
    "Based on the above statement, I have downloaded 5x times and combined them into one csv file so that we can work with a larger sample size of 5000 observations, instead of just 1000 observations.\n",
    "\n",
    "Target is `'graduate_in_5years'` and column named simply as `'target'`\n",
    "- feature-engineered from 'years_to_graduate' as \n",
    "  - 0: 'Yes' ie 'years_to_graduate' <= 5\n",
    "  - 1: 'No' ie 'years_to_graduate' > 5 \n",
    "- was set to 4 years initially until EDA reveals median is 5.\n"
   ]
  },
  {
   "cell_type": "code",
   "execution_count": 67,
   "metadata": {
    "notebookRunGroups": {
     "groupValue": "12"
    }
   },
   "outputs": [
    {
     "name": "stdout",
     "output_type": "stream",
     "text": [
      "current_file_path = WindowsPath('B:/repos/Courses/DataTalksClub/mlzoomcamp-midterms') \n",
      "data_folder_path = WindowsPath('B:/repos/Courses/DataTalksClub/mlzoomcamp-midterms/data') \n",
      "src_folder_path = WindowsPath('B:/repos/Courses/DataTalksClub/mlzoomcamp-midterms/src') \n"
     ]
    }
   ],
   "source": [
    "import sys\n",
    "from pathlib import Path\n",
    "import logging\n",
    "from contextlib import redirect_stdout\n",
    "\n",
    "# Configure the logging library.\n",
    "logging.basicConfig(filename='randomizedcv_tuning.log', level=logging.INFO)\n",
    "\n",
    "# Set the path to the current file\n",
    "current_file_path = Path().resolve()\n",
    "print(f'{current_file_path = } ')\n",
    "        \n",
    "# Set the path to the data folder\n",
    "data_folder_path = current_file_path / 'data' \n",
    "print(f'{data_folder_path = } ')\n",
    "\n",
    "# Set the path to the src folder\n",
    "src_folder_path = current_file_path / 'src'\n",
    "print(f'{src_folder_path = } ')\n",
    "\n",
    "# Add the src folder to the system path\n",
    "sys.path.append(str(src_folder_path))\n",
    "\n",
    "# Import modules from files under /src\n",
    "from src.config import * \n",
    "from src.data_loader import CSVDataLoader\n",
    "from src.data_preprocessor import Preprocessor\n",
    "from src.data_feature_builder import FeatureBuilder\n",
    "from src.modeler import Trainer"
   ]
  },
  {
   "attachments": {},
   "cell_type": "markdown",
   "metadata": {},
   "source": [
    "## Import packages"
   ]
  },
  {
   "cell_type": "code",
   "execution_count": 68,
   "metadata": {
    "notebookRunGroups": {
     "groupValue": "12"
    }
   },
   "outputs": [],
   "source": [
    "from tqdm import tqdm\n",
    "import pandas as pd\n",
    "import numpy as np\n",
    "from pprint import pprint\n",
    "\n",
    "import warnings\n",
    "warnings.filterwarnings(\"ignore\")"
   ]
  },
  {
   "cell_type": "code",
   "execution_count": 69,
   "metadata": {
    "notebookRunGroups": {
     "groupValue": "21"
    }
   },
   "outputs": [],
   "source": [
    "# not supported for HistGradientBoostingClassifier & CatBoostClassifier\n",
    "# from sklearnex import patch_sklearn\n",
    "# patch_sklearn()\n",
    "\n",
    "from sklearn.feature_extraction import DictVectorizer\n",
    "from sklearn.model_selection import train_test_split, KFold, RandomizedSearchCV\n",
    "from sklearn.ensemble import HistGradientBoostingClassifier\n",
    "\n",
    "import catboost\n",
    "from catboost import *\n",
    "from catboost import CatBoostClassifier\n",
    "\n",
    "from sklearn.metrics import accuracy_score, roc_auc_score, precision_score, recall_score, f1_score\n",
    "from sklearn.metrics import make_scorer, confusion_matrix, ConfusionMatrixDisplay, classification_report\n"
   ]
  },
  {
   "cell_type": "code",
   "execution_count": 70,
   "metadata": {
    "notebookRunGroups": {
     "groupValue": "12"
    }
   },
   "outputs": [
    {
     "data": {
      "text/plain": [
       "'1.3.1'"
      ]
     },
     "execution_count": 70,
     "metadata": {},
     "output_type": "execute_result"
    }
   ],
   "source": [
    "import sklearn\n",
    "sklearn.__version__"
   ]
  },
  {
   "attachments": {},
   "cell_type": "markdown",
   "metadata": {},
   "source": [
    "## Overview\n",
    "\n",
    "> do we want \n",
    "> - 2 splits for train, test or \n",
    "> - 3 splits for train, val and test?\n",
    ">\n",
    "> reminder: \n",
    "> - not yet stratify\n",
    "> - not scaled\n",
    "> - use cross-validation \n",
    "> - save final df to file as processed_df.csv?\n",
    "\n",
    "In this notebook, we're finally going to address the above questions. We're using \n",
    "- KFolds to cross-validate our data splitting,\n",
    "- using just 3 features that were shown as the most important features via EDA\n",
    "- scale our data, treat outliers ~~using Pipelines~~,\n",
    "- perform hyperparameters tuning on the 2 classifiers with highest `'val auc'` scores,\n",
    "- finally, the final chosen \"best model\" would be identified, and \n",
    "- creating scripts out of our POC code would commenced, and that would allow\n",
    "- save our model to a `.pkl` file for us to deploy model to a web servic.e\n"
   ]
  },
  {
   "cell_type": "markdown",
   "metadata": {},
   "source": [
    "## Hyperparameters Tuning\n",
    "\n",
    "### Putting it all together\n",
    "\n",
    "Based on findings from baseline scoring, we're gonna limit our GridSearch and hyperparameters tuning to just these 2 classifiers.\n",
    "\n",
    "Perform data preprocessing and use pipelines to perform hyperparameter tuning to a couple of the models from previous top 2 performers:\n",
    "\n",
    "- HistGradientBoostingClassifier()\n",
    "- CatBoostClassifier()\n"
   ]
  },
  {
   "cell_type": "code",
   "execution_count": 50,
   "metadata": {
    "notebookRunGroups": {
     "groupValue": "1"
    }
   },
   "outputs": [],
   "source": [
    "scores = []"
   ]
  },
  {
   "cell_type": "markdown",
   "metadata": {},
   "source": [
    "### test source\n",
    "\n"
   ]
  },
  {
   "cell_type": "code",
   "execution_count": 71,
   "metadata": {
    "notebookRunGroups": {
     "groupValue": "12"
    }
   },
   "outputs": [],
   "source": [
    "def rebuild_df():\n",
    "    # Data ingestion\n",
    "    data = CSVDataLoader().load(data_folder_path / 'graduation_rate.csv')\n",
    "    print(\"- Preprocessor()...\")\n",
    "    data = Preprocessor().ColumnsSymbolReplacer(data)\n",
    "    # display(f'{data.iloc[0:1] = }')\n",
    "    # display(f'{data.iloc[11:12] = }')\n",
    "    # display(data.head(2))\n",
    "    data = Preprocessor().SymbolReplacer(\n",
    "        data, 'parental_level_of_education')\n",
    "    # display(data.head(2))\n",
    "    data = Preprocessor().ColumnsDropper(data, TO_DROP)\n",
    "    # display(data.head(2))\n",
    "    print(\"- FeatureBuilder()...\")\n",
    "    data = FeatureBuilder().Target_encoder(data)\n",
    "    # display(data.head(2))\n",
    "    print(\"  -- Split TARGET_NAME for y...\")\n",
    "    target = data[TARGET_NAME]\n",
    "    print(\"  -- Dropping TARGET_NAME...\")\n",
    "    data = data.drop(columns=TARGET_NAME)\n",
    "    # display(data.head(2))\n",
    "    print()\n",
    "    print(\"  -- Set COLS_CATEGORICAL astype(category)...\")\n",
    "    data[COLS_CATEGORICAL] = data[COLS_CATEGORICAL].astype('category')\n",
    "    # display(data.head(2))\n",
    "    data = Preprocessor().DataScaler(data)\n",
    "    # display(data.head(2))\n",
    "\n",
    "    df_full_train, df_test, y_full_train, y_test = train_test_split(\n",
    "        data, target, test_size=0.2, random_state=123)\n",
    "\n",
    "    # reset indices back to begin from 0\n",
    "    df_full_train = df_full_train.reset_index(drop=True)\n",
    "    df_test = df_test.reset_index(drop=True)\n",
    "    y_full_train = y_full_train.reset_index(drop=True)\n",
    "    y_test = y_test.reset_index(drop=True)\n",
    "    \n",
    "    return df_full_train, df_test, y_full_train, y_test\n"
   ]
  },
  {
   "cell_type": "code",
   "execution_count": 52,
   "metadata": {
    "notebookRunGroups": {
     "groupValue": "1"
    }
   },
   "outputs": [
    {
     "name": "stdout",
     "output_type": "stream",
     "text": [
      "Loading CSV data...\n"
     ]
    },
    {
     "name": "stderr",
     "output_type": "stream",
     "text": [
      "100%|██████████| 20/20 [00:00<00:00, 266.55it/s]"
     ]
    },
    {
     "name": "stdout",
     "output_type": "stream",
     "text": [
      "Finished processing the CSV file.\n",
      "df.shape = (10000, 7)\n",
      "- Preprocessor()...\n",
      "  -- Replacing symbols in column names...\n",
      "  -- Replacing symbols in data...\n",
      "  -- Dropping TO_DROP columns...\n",
      "- FeatureBuilder()...\n",
      "  -- Creating 'target' column...\n",
      "  -- Split TARGET_NAME for y...\n",
      "  -- Dropping TARGET_NAME...\n",
      "\n",
      "  -- Set COLS_CATEGORICAL astype(category)...\n",
      "  -- Scaling columns with MinMaxScaler()...\n",
      "  -- Scaling columns with RobustScaler()...\n"
     ]
    },
    {
     "name": "stderr",
     "output_type": "stream",
     "text": [
      "\n"
     ]
    },
    {
     "data": {
      "text/html": [
       "<div>\n",
       "<style scoped>\n",
       "    .dataframe tbody tr th:only-of-type {\n",
       "        vertical-align: middle;\n",
       "    }\n",
       "\n",
       "    .dataframe tbody tr th {\n",
       "        vertical-align: top;\n",
       "    }\n",
       "\n",
       "    .dataframe thead th {\n",
       "        text-align: right;\n",
       "    }\n",
       "</style>\n",
       "<table border=\"1\" class=\"dataframe\">\n",
       "  <thead>\n",
       "    <tr style=\"text-align: right;\">\n",
       "      <th></th>\n",
       "      <th>parental_level_of_education</th>\n",
       "      <th>sat_total_score</th>\n",
       "      <th>parental_income</th>\n",
       "      <th>college_gpa</th>\n",
       "    </tr>\n",
       "  </thead>\n",
       "  <tbody>\n",
       "    <tr>\n",
       "      <th>0</th>\n",
       "      <td>some high school</td>\n",
       "      <td>0.535433</td>\n",
       "      <td>-0.788048</td>\n",
       "      <td>0.600000</td>\n",
       "    </tr>\n",
       "    <tr>\n",
       "      <th>1</th>\n",
       "      <td>high school</td>\n",
       "      <td>0.769685</td>\n",
       "      <td>0.103235</td>\n",
       "      <td>0.666667</td>\n",
       "    </tr>\n",
       "    <tr>\n",
       "      <th>2</th>\n",
       "      <td>bachelors degree</td>\n",
       "      <td>0.652559</td>\n",
       "      <td>0.858316</td>\n",
       "      <td>0.666667</td>\n",
       "    </tr>\n",
       "    <tr>\n",
       "      <th>3</th>\n",
       "      <td>some high school</td>\n",
       "      <td>0.506890</td>\n",
       "      <td>-0.664158</td>\n",
       "      <td>0.600000</td>\n",
       "    </tr>\n",
       "    <tr>\n",
       "      <th>4</th>\n",
       "      <td>some high school</td>\n",
       "      <td>0.828740</td>\n",
       "      <td>0.042354</td>\n",
       "      <td>0.466667</td>\n",
       "    </tr>\n",
       "  </tbody>\n",
       "</table>\n",
       "</div>"
      ],
      "text/plain": [
       "  parental_level_of_education  sat_total_score  parental_income  college_gpa\n",
       "0            some high school         0.535433        -0.788048     0.600000\n",
       "1                 high school         0.769685         0.103235     0.666667\n",
       "2            bachelors degree         0.652559         0.858316     0.666667\n",
       "3            some high school         0.506890        -0.664158     0.600000\n",
       "4            some high school         0.828740         0.042354     0.466667"
      ]
     },
     "execution_count": 52,
     "metadata": {},
     "output_type": "execute_result"
    }
   ],
   "source": [
    "df_full_train, df_test, y_full_train, y_test = rebuild_df()\n",
    "df_train, df_val, y_train, y_val = train_test_split(df_full_train, y_full_train, test_size=0.25, random_state=123)\n",
    "df_full_train.head()"
   ]
  },
  {
   "cell_type": "markdown",
   "metadata": {},
   "source": [
    "### HistGradientBoostingClassifier Hyperparams Tuning \n",
    "\n",
    "#### setup\n",
    "\n"
   ]
  },
  {
   "cell_type": "code",
   "execution_count": 72,
   "metadata": {
    "notebookRunGroups": {
     "groupValue": "12"
    }
   },
   "outputs": [],
   "source": [
    "# AUC is not a defined scoring metric for RandomizedSearchCV\n",
    "scoring = {\n",
    "    \"AUC\": make_scorer(roc_auc_score), \n",
    "    \"Accuracy\": make_scorer(accuracy_score), \n",
    "    \"F1\": make_scorer(f1_score),\n",
    "    \"Precision\": make_scorer(precision_score), \n",
    "    \"Recall\": make_scorer(recall_score)}\n",
    "\n",
    "# custom_loss=['Accuracy', 'AUC:hints=skip_train~false', 'F1','Precision', 'Recall']"
   ]
  },
  {
   "cell_type": "code",
   "execution_count": 54,
   "metadata": {
    "notebookRunGroups": {
     "groupValue": "1"
    }
   },
   "outputs": [],
   "source": [
    "# Create a k-fold cross-validator\n",
    "kfold = KFold(n_splits=5, shuffle=True, random_state=42)\n",
    "\n",
    "hist_param_grid = {\n",
    "    # 'classifier__loss': 'log_loss',                        # defaults, same as catboost's loss_function\n",
    "    # 'classifier__categorical_features': COLS_CATEGORICAL,  # defaults, same as catboost's cat_features\n",
    "    'learning_rate': LEARNING_RATE,    # defaults=0.1, 1=no shrinkage\n",
    "    'max_iter': MAX_ITER,         # defaults=100; max num iterations/trees\n",
    "    'max_depth': MAX_DEPTH,          # defaults=None; max depth of each tree\n",
    "    'max_leaf_nodes': MAX_LEAF_NODES,    # defaults=31;max num of leaves\n",
    "    'min_samples_leaf': MIN_SAMPLES_LEAF,  # defaults=20; min num of samples per leaf\n",
    "    'early_stopping': ['auto', True],       # defaults='auto'; enabled for sample-size > 10000, else enabled when True\n",
    "    'class_weight': WEIGHTS\n",
    "}"
   ]
  },
  {
   "cell_type": "code",
   "execution_count": 55,
   "metadata": {
    "notebookRunGroups": {
     "groupValue": "1"
    }
   },
   "outputs": [],
   "source": [
    "# Create the model\n",
    "model = HistGradientBoostingClassifier(\n",
    "    # verbose=2, \n",
    "    # scoring='roc_auc', \n",
    "    warm_start=True,            # defaults=False\n",
    "    random_state=42             # defaults=None                          \n",
    ")\n",
    "    \n",
    "# Create a RandomizedSearchCV object\n",
    "rnd_search = RandomizedSearchCV(\n",
    "    estimator=model, \n",
    "    param_distributions=hist_param_grid, \n",
    "    cv=kfold, \n",
    "    # n_iter=10,                     # defaults\n",
    "    # random_state=None,             # also has this here, or use in Classifier()           \n",
    "    scoring=scoring,                 # to replace defaults 'loss'\n",
    "    refit=\"AUC\",                     # defaults='loss'\n",
    "    error_score='raise', \n",
    "    return_train_score=True,\n",
    "    verbose=2,\n",
    "    n_jobs=-1\n",
    ")\n"
   ]
  },
  {
   "cell_type": "code",
   "execution_count": 56,
   "metadata": {
    "notebookRunGroups": {
     "groupValue": "1"
    }
   },
   "outputs": [
    {
     "name": "stderr",
     "output_type": "stream",
     "text": [
      "k-fold:   0%|          | 0/5 [00:00<?, ?it/s]"
     ]
    },
    {
     "name": "stdout",
     "output_type": "stream",
     "text": [
      "Fitting 5 folds for each of 10 candidates, totalling 50 fits\n"
     ]
    },
    {
     "name": "stderr",
     "output_type": "stream",
     "text": [
      "k-fold:  20%|██        | 1/5 [00:07<00:28,  7.07s/it]"
     ]
    },
    {
     "name": "stdout",
     "output_type": "stream",
     "text": [
      "Fitting 5 folds for each of 10 candidates, totalling 50 fits\n"
     ]
    },
    {
     "name": "stderr",
     "output_type": "stream",
     "text": [
      "k-fold:  40%|████      | 2/5 [00:13<00:20,  6.94s/it]"
     ]
    },
    {
     "name": "stdout",
     "output_type": "stream",
     "text": [
      "Fitting 5 folds for each of 10 candidates, totalling 50 fits\n"
     ]
    },
    {
     "name": "stderr",
     "output_type": "stream",
     "text": [
      "k-fold:  60%|██████    | 3/5 [00:19<00:12,  6.35s/it]"
     ]
    },
    {
     "name": "stdout",
     "output_type": "stream",
     "text": [
      "Fitting 5 folds for each of 10 candidates, totalling 50 fits\n"
     ]
    },
    {
     "name": "stderr",
     "output_type": "stream",
     "text": [
      "k-fold:  80%|████████  | 4/5 [00:25<00:06,  6.13s/it]"
     ]
    },
    {
     "name": "stdout",
     "output_type": "stream",
     "text": [
      "Fitting 5 folds for each of 10 candidates, totalling 50 fits\n"
     ]
    },
    {
     "name": "stderr",
     "output_type": "stream",
     "text": [
      "k-fold: 100%|██████████| 5/5 [00:30<00:00,  6.19s/it]\n"
     ]
    }
   ],
   "source": [
    "# Fit the pipeline to the train data and perform hyperparameter tuning\n",
    "for train_idx, val_idx in tqdm(\n",
    "                            kfold.split(df_full_train, \n",
    "                                        y_full_train), \n",
    "                            total=kfold.get_n_splits(), \n",
    "                            desc=\"k-fold\"): \n",
    "        \n",
    "    dv, X_train = Trainer().X_vectorizer(df_full_train.iloc[train_idx])\n",
    "    y_train = y_full_train.iloc[train_idx].values\n",
    "\n",
    "    logging.info('Fitting randomized_search model...')\n",
    "    # Train the model on the train data\n",
    "    rnd_search.fit(X_train, y_train)\n",
    "    \n",
    "logging.info('hyperparam with randomized_search fit completed')   "
   ]
  },
  {
   "cell_type": "code",
   "execution_count": 57,
   "metadata": {
    "notebookRunGroups": {
     "groupValue": "1"
    }
   },
   "outputs": [
    {
     "name": "stdout",
     "output_type": "stream",
     "text": [
      "{'min_samples_leaf': 5, 'max_leaf_nodes': 10, 'max_iter': 1000, 'max_depth': 6, 'learning_rate': 0.1, 'early_stopping': True, 'class_weight': 'balanced'}\n"
     ]
    }
   ],
   "source": [
    "# Log the results of the tuning process.\n",
    "logging.info('Finished HistGradientBoostingClassifier hyperparam tuning. The best hyperparameters are: {}'.format(rnd_search.best_params_))\n",
    "\n",
    "# Print the best hyperparameters\n",
    "best_params = rnd_search.best_params_\n",
    "print(best_params)\n",
    "    \n",
    "# GridSearchCV took approx 45mins on my machine! \n",
    "# RandomizedSearchCV took approx 15s on my machine! "
   ]
  },
  {
   "cell_type": "markdown",
   "metadata": {},
   "source": [
    "#### predict"
   ]
  },
  {
   "cell_type": "code",
   "execution_count": 58,
   "metadata": {
    "notebookRunGroups": {
     "groupValue": "1"
    }
   },
   "outputs": [
    {
     "name": "stdout",
     "output_type": "stream",
     "text": [
      "Loading CSV data...\n"
     ]
    },
    {
     "name": "stderr",
     "output_type": "stream",
     "text": [
      "  0%|          | 0/20 [00:00<?, ?it/s]"
     ]
    },
    {
     "name": "stderr",
     "output_type": "stream",
     "text": [
      "100%|██████████| 20/20 [00:00<00:00, 266.56it/s]\n"
     ]
    },
    {
     "name": "stdout",
     "output_type": "stream",
     "text": [
      "Finished processing the CSV file.\n",
      "df.shape = (10000, 7)\n",
      "- Preprocessor()...\n",
      "  -- Replacing symbols in column names...\n",
      "  -- Replacing symbols in data...\n",
      "  -- Dropping TO_DROP columns...\n",
      "- FeatureBuilder()...\n",
      "  -- Creating 'target' column...\n",
      "  -- Split TARGET_NAME for y...\n",
      "  -- Dropping TARGET_NAME...\n",
      "\n",
      "  -- Set COLS_CATEGORICAL astype(category)...\n",
      "  -- Scaling columns with MinMaxScaler()...\n",
      "  -- Scaling columns with RobustScaler()...\n"
     ]
    }
   ],
   "source": [
    "df_full_train, df_test, y_full_train, y_test = rebuild_df()\n",
    "df_train, df_val, y_train, y_val = train_test_split(df_full_train, y_full_train, test_size=0.25, random_state=123)\n",
    "\n",
    "dv, X_train = Trainer().X_vectorizer(df_train)\n",
    "clf = HistGradientBoostingClassifier(**best_params)\n",
    "clf.fit(X_train, y_train)\n",
    "\n",
    "# Make predictions on the validate data\n",
    "y_predprob_train, y_pred_train  = Trainer().y_predictor(df_train, dv, clf)\n",
    "y_predprob_val, y_pred_val  = Trainer().y_predictor(df_val, dv, clf)\n",
    "\n",
    "# compile the scores in a list\n",
    "scores.append({\n",
    "    \"model\": \"HistGradientBoostingClassifier\",\n",
    "    \"train auc\": roc_auc_score(y_train, y_pred_train),\n",
    "    \"val auc\": roc_auc_score(y_val, y_pred_val),\n",
    "    \"accuracy\": accuracy_score(y_val, y_pred_val),\n",
    "    \"precision\": precision_score(y_val, y_pred_val),\n",
    "    \"f1_mean\": f1_score(y_val, y_pred_val),\n",
    "    \"recall\": recall_score(y_val, y_pred_val),   \n",
    "    }\n",
    ")\n",
    "logging.info(f'-- HistGradientBoostingClassifier val scores appended --')\n"
   ]
  },
  {
   "cell_type": "markdown",
   "metadata": {},
   "source": [
    "#### Best model AUC scores using validation data"
   ]
  },
  {
   "cell_type": "code",
   "execution_count": 59,
   "metadata": {
    "notebookRunGroups": {
     "groupValue": "1"
    }
   },
   "outputs": [
    {
     "name": "stdout",
     "output_type": "stream",
     "text": [
      "The best set of parameters is: {'min_samples_leaf': 5, 'max_leaf_nodes': 10, 'max_iter': 1000, 'max_depth': 6, 'learning_rate': 0.1, 'early_stopping': True, 'class_weight': 'balanced'}\n",
      "\n",
      "train auc: 0.6723225187677815\n",
      "val auc: 0.638179364495154\n"
     ]
    }
   ],
   "source": [
    "print(f\"The best set of parameters is: {rnd_search.best_params_}\")\n",
    "print()\n",
    "print(f\"train auc: {roc_auc_score(y_train, y_pred_train)}\")\n",
    "print(f\"val auc: {roc_auc_score(y_val, y_pred_val)}\")\n"
   ]
  },
  {
   "cell_type": "markdown",
   "metadata": {},
   "source": [
    "#### evaluate (rnd_search.cv_results_)\n",
    "\n"
   ]
  },
  {
   "cell_type": "code",
   "execution_count": null,
   "metadata": {},
   "outputs": [],
   "source": [
    "# [source](https://inria.github.io/scikit-learn-mooc/python_scripts/parameter_tuning_parallel_plot.html) for `shorten_param` code snippet\n",
    "\n",
    "# def shorten_param(param_name):\n",
    "#     if \"param_\" in param_name:\n",
    "#         return param_name.rsplit(\"param_\", 1)[1]\n",
    "#     return param_name\n",
    "\n",
    "# # [source](https://stackoverflow.com/a/73766566) for `clean_key(key)` code snippet\n",
    "# pattern_list = ['param_', 'split']\n",
    "# def clean_key(key):\n",
    "#     for pattern in pattern_list:\n",
    "#         key = key.replace(pattern, \"\")\n",
    "#     return key\n",
    "# {clean_key(k) :  v for k, v in x.items()}"
   ]
  },
  {
   "cell_type": "code",
   "execution_count": 60,
   "metadata": {
    "notebookRunGroups": {
     "groupValue": "1"
    }
   },
   "outputs": [],
   "source": [
    "cv_results = rnd_search.cv_results_"
   ]
  },
  {
   "cell_type": "code",
   "execution_count": null,
   "metadata": {
    "notebookRunGroups": {
     "groupValue": ""
    }
   },
   "outputs": [],
   "source": [
    "# cv_results = cv_results.rename(shorten_param, axis=1)"
   ]
  },
  {
   "cell_type": "markdown",
   "metadata": {},
   "source": [
    "#### plot\n",
    "\n",
    "FIXME"
   ]
  },
  {
   "cell_type": "code",
   "execution_count": null,
   "metadata": {
    "notebookRunGroups": {
     "groupValue": ""
    }
   },
   "outputs": [],
   "source": [
    "# from matplotlib import pyplot as plt\n",
    "# plt.figure(figsize=(13, 13))\n",
    "# plt.title(\"RandomizedSearchCV evaluating using multiple scorers simultaneously\", fontsize=16)\n",
    "\n",
    "# plt.xlabel(\"max_iter\")\n",
    "# plt.ylabel(\"Score\")\n",
    "\n",
    "# ax = plt.gca()\n",
    "# # ax.set_xlim(0.001, 10)\n",
    "# # ax.set_ylim(0.2, 0.8)\n",
    "\n",
    "# # Get the regular numpy array from the MaskedArray\n",
    "# X_axis = np.array(cv_results[\"max_iter\"], dtype=float)\n",
    "\n",
    "# for scorer, color in zip(sorted(scoring), [\"g\", \"k\"]):\n",
    "#     for sample, style in ((\"train\", \"--\"), (\"test\", \"-\")):\n",
    "#         sample_score_mean = cv_results[\"mean_%s_%s\" % (sample, scorer)]\n",
    "#         sample_score_std = cv_results[\"std_%s_%s\" % (sample, scorer)]\n",
    "#         ax.fill_between(\n",
    "#             X_axis,\n",
    "#             sample_score_mean - sample_score_std,\n",
    "#             sample_score_mean + sample_score_std,\n",
    "#             alpha=0.1 if sample == \"test\" else 0,\n",
    "#             color=color,\n",
    "#         )\n",
    "#         ax.plot(\n",
    "#             X_axis,\n",
    "#             sample_score_mean,\n",
    "#             style,\n",
    "#             color=color,\n",
    "#             alpha=1 if sample == \"test\" else 0.7,\n",
    "#             label=\"%s (%s)\" % (scorer, sample),\n",
    "#         )\n",
    "\n",
    "#     best_index =rnd_search.best_index_\n",
    "#     best_score = cv_results[\"mean_test_%s\" % scorer][best_index]\n",
    "\n",
    "#     # Plot a dotted vertical line at the best score for that scorer marked by x\n",
    "#     ax.plot(\n",
    "#         [\n",
    "#             X_axis[best_index],\n",
    "#         ]\n",
    "#         * 2,\n",
    "#         [0, best_score],\n",
    "#         linestyle=\"-.\",\n",
    "#         color=color,\n",
    "#         marker=\"x\",\n",
    "#         markeredgewidth=3,\n",
    "#         ms=8,\n",
    "#     )\n",
    "\n",
    "#     # Annotate the best score for that scorer\n",
    "#     ax.annotate(\"%0.2f\" % best_score, (X_axis[best_index], best_score + 0.005))\n",
    "\n",
    "# plt.legend(loc=\"best\")\n",
    "# plt.grid(False)\n",
    "# plt.show()"
   ]
  },
  {
   "cell_type": "code",
   "execution_count": null,
   "metadata": {},
   "outputs": [],
   "source": [
    "# import plotly.express as px\n",
    "# import pandas as pd\n",
    "\n",
    "# df = pd.DataFrame({\n",
    "#     \"learning_rate\": cv_results[\"learning_rate\"],\n",
    "#     \"mean_train_AUC\": cv_results[\"mean_train_AUC\"],\n",
    "#     \"mean_test_AUC\": cv_results[\"mean_test_AUC\"]\n",
    "# })\n",
    "\n",
    "# fig = px.line(df, x=\"learning_rate\", y=[\"mean_train_AUC\", \"mean_test_AUC\"], title=\"RandomizedSearchCV evaluating using multiple scorers simultaneously\")\n",
    "# fig.update_layout(\n",
    "#     xaxis_title=\"learning_rate\",\n",
    "#     yaxis_title=\"Score\",\n",
    "#     legend_title=\"Scorer\"\n",
    "# )\n",
    "# fig.show()"
   ]
  },
  {
   "cell_type": "code",
   "execution_count": 61,
   "metadata": {
    "notebookRunGroups": {
     "groupValue": "1"
    }
   },
   "outputs": [
    {
     "data": {
      "text/html": [
       "<style>#sk-container-id-2 {color: black;}#sk-container-id-2 pre{padding: 0;}#sk-container-id-2 div.sk-toggleable {background-color: white;}#sk-container-id-2 label.sk-toggleable__label {cursor: pointer;display: block;width: 100%;margin-bottom: 0;padding: 0.3em;box-sizing: border-box;text-align: center;}#sk-container-id-2 label.sk-toggleable__label-arrow:before {content: \"▸\";float: left;margin-right: 0.25em;color: #696969;}#sk-container-id-2 label.sk-toggleable__label-arrow:hover:before {color: black;}#sk-container-id-2 div.sk-estimator:hover label.sk-toggleable__label-arrow:before {color: black;}#sk-container-id-2 div.sk-toggleable__content {max-height: 0;max-width: 0;overflow: hidden;text-align: left;background-color: #f0f8ff;}#sk-container-id-2 div.sk-toggleable__content pre {margin: 0.2em;color: black;border-radius: 0.25em;background-color: #f0f8ff;}#sk-container-id-2 input.sk-toggleable__control:checked~div.sk-toggleable__content {max-height: 200px;max-width: 100%;overflow: auto;}#sk-container-id-2 input.sk-toggleable__control:checked~label.sk-toggleable__label-arrow:before {content: \"▾\";}#sk-container-id-2 div.sk-estimator input.sk-toggleable__control:checked~label.sk-toggleable__label {background-color: #d4ebff;}#sk-container-id-2 div.sk-label input.sk-toggleable__control:checked~label.sk-toggleable__label {background-color: #d4ebff;}#sk-container-id-2 input.sk-hidden--visually {border: 0;clip: rect(1px 1px 1px 1px);clip: rect(1px, 1px, 1px, 1px);height: 1px;margin: -1px;overflow: hidden;padding: 0;position: absolute;width: 1px;}#sk-container-id-2 div.sk-estimator {font-family: monospace;background-color: #f0f8ff;border: 1px dotted black;border-radius: 0.25em;box-sizing: border-box;margin-bottom: 0.5em;}#sk-container-id-2 div.sk-estimator:hover {background-color: #d4ebff;}#sk-container-id-2 div.sk-parallel-item::after {content: \"\";width: 100%;border-bottom: 1px solid gray;flex-grow: 1;}#sk-container-id-2 div.sk-label:hover label.sk-toggleable__label {background-color: #d4ebff;}#sk-container-id-2 div.sk-serial::before {content: \"\";position: absolute;border-left: 1px solid gray;box-sizing: border-box;top: 0;bottom: 0;left: 50%;z-index: 0;}#sk-container-id-2 div.sk-serial {display: flex;flex-direction: column;align-items: center;background-color: white;padding-right: 0.2em;padding-left: 0.2em;position: relative;}#sk-container-id-2 div.sk-item {position: relative;z-index: 1;}#sk-container-id-2 div.sk-parallel {display: flex;align-items: stretch;justify-content: center;background-color: white;position: relative;}#sk-container-id-2 div.sk-item::before, #sk-container-id-2 div.sk-parallel-item::before {content: \"\";position: absolute;border-left: 1px solid gray;box-sizing: border-box;top: 0;bottom: 0;left: 50%;z-index: -1;}#sk-container-id-2 div.sk-parallel-item {display: flex;flex-direction: column;z-index: 1;position: relative;background-color: white;}#sk-container-id-2 div.sk-parallel-item:first-child::after {align-self: flex-end;width: 50%;}#sk-container-id-2 div.sk-parallel-item:last-child::after {align-self: flex-start;width: 50%;}#sk-container-id-2 div.sk-parallel-item:only-child::after {width: 0;}#sk-container-id-2 div.sk-dashed-wrapped {border: 1px dashed gray;margin: 0 0.4em 0.5em 0.4em;box-sizing: border-box;padding-bottom: 0.4em;background-color: white;}#sk-container-id-2 div.sk-label label {font-family: monospace;font-weight: bold;display: inline-block;line-height: 1.2em;}#sk-container-id-2 div.sk-label-container {text-align: center;}#sk-container-id-2 div.sk-container {/* jupyter's `normalize.less` sets `[hidden] { display: none; }` but bootstrap.min.css set `[hidden] { display: none !important; }` so we also need the `!important` here to be able to override the default hidden behavior on the sphinx rendered scikit-learn.org. See: https://github.com/scikit-learn/scikit-learn/issues/21755 */display: inline-block !important;position: relative;}#sk-container-id-2 div.sk-text-repr-fallback {display: none;}</style><div id=\"sk-container-id-2\" class=\"sk-top-container\"><div class=\"sk-text-repr-fallback\"><pre>RandomizedSearchCV(cv=KFold(n_splits=5, random_state=42, shuffle=True),\n",
       "                   error_score=&#x27;raise&#x27;,\n",
       "                   estimator=HistGradientBoostingClassifier(random_state=42,\n",
       "                                                            warm_start=True),\n",
       "                   n_jobs=-1,\n",
       "                   param_distributions={&#x27;class_weight&#x27;: [&#x27;balanced&#x27;, None],\n",
       "                                        &#x27;early_stopping&#x27;: [&#x27;auto&#x27;, True],\n",
       "                                        &#x27;learning_rate&#x27;: [0.001, 0.01, 0.1,\n",
       "                                                          1.0],\n",
       "                                        &#x27;max_depth&#x27;: [2, 6, 8, 12],\n",
       "                                        &#x27;max_iter&#x27;: [100, 500, 1000],\n",
       "                                        &#x27;max_leaf_nodes&#x27;: [2, 5, 10],\n",
       "                                        &#x27;min_samples_leaf&#x27;: [2, 5, 10]},\n",
       "                   refit=&#x27;AUC&#x27;, return_train_score=True,\n",
       "                   scoring={&#x27;AUC&#x27;: make_scorer(roc_auc_score),\n",
       "                            &#x27;Accuracy&#x27;: make_scorer(accuracy_score),\n",
       "                            &#x27;F1&#x27;: make_scorer(f1_score),\n",
       "                            &#x27;Precision&#x27;: make_scorer(precision_score),\n",
       "                            &#x27;Recall&#x27;: make_scorer(recall_score)},\n",
       "                   verbose=2)</pre><b>In a Jupyter environment, please rerun this cell to show the HTML representation or trust the notebook. <br />On GitHub, the HTML representation is unable to render, please try loading this page with nbviewer.org.</b></div><div class=\"sk-container\" hidden><div class=\"sk-item sk-dashed-wrapped\"><div class=\"sk-label-container\"><div class=\"sk-label sk-toggleable\"><input class=\"sk-toggleable__control sk-hidden--visually\" id=\"sk-estimator-id-4\" type=\"checkbox\" ><label for=\"sk-estimator-id-4\" class=\"sk-toggleable__label sk-toggleable__label-arrow\">RandomizedSearchCV</label><div class=\"sk-toggleable__content\"><pre>RandomizedSearchCV(cv=KFold(n_splits=5, random_state=42, shuffle=True),\n",
       "                   error_score=&#x27;raise&#x27;,\n",
       "                   estimator=HistGradientBoostingClassifier(random_state=42,\n",
       "                                                            warm_start=True),\n",
       "                   n_jobs=-1,\n",
       "                   param_distributions={&#x27;class_weight&#x27;: [&#x27;balanced&#x27;, None],\n",
       "                                        &#x27;early_stopping&#x27;: [&#x27;auto&#x27;, True],\n",
       "                                        &#x27;learning_rate&#x27;: [0.001, 0.01, 0.1,\n",
       "                                                          1.0],\n",
       "                                        &#x27;max_depth&#x27;: [2, 6, 8, 12],\n",
       "                                        &#x27;max_iter&#x27;: [100, 500, 1000],\n",
       "                                        &#x27;max_leaf_nodes&#x27;: [2, 5, 10],\n",
       "                                        &#x27;min_samples_leaf&#x27;: [2, 5, 10]},\n",
       "                   refit=&#x27;AUC&#x27;, return_train_score=True,\n",
       "                   scoring={&#x27;AUC&#x27;: make_scorer(roc_auc_score),\n",
       "                            &#x27;Accuracy&#x27;: make_scorer(accuracy_score),\n",
       "                            &#x27;F1&#x27;: make_scorer(f1_score),\n",
       "                            &#x27;Precision&#x27;: make_scorer(precision_score),\n",
       "                            &#x27;Recall&#x27;: make_scorer(recall_score)},\n",
       "                   verbose=2)</pre></div></div></div><div class=\"sk-parallel\"><div class=\"sk-parallel-item\"><div class=\"sk-item\"><div class=\"sk-label-container\"><div class=\"sk-label sk-toggleable\"><input class=\"sk-toggleable__control sk-hidden--visually\" id=\"sk-estimator-id-5\" type=\"checkbox\" ><label for=\"sk-estimator-id-5\" class=\"sk-toggleable__label sk-toggleable__label-arrow\">estimator: HistGradientBoostingClassifier</label><div class=\"sk-toggleable__content\"><pre>HistGradientBoostingClassifier(random_state=42, warm_start=True)</pre></div></div></div><div class=\"sk-serial\"><div class=\"sk-item\"><div class=\"sk-estimator sk-toggleable\"><input class=\"sk-toggleable__control sk-hidden--visually\" id=\"sk-estimator-id-6\" type=\"checkbox\" ><label for=\"sk-estimator-id-6\" class=\"sk-toggleable__label sk-toggleable__label-arrow\">HistGradientBoostingClassifier</label><div class=\"sk-toggleable__content\"><pre>HistGradientBoostingClassifier(random_state=42, warm_start=True)</pre></div></div></div></div></div></div></div></div></div></div>"
      ],
      "text/plain": [
       "RandomizedSearchCV(cv=KFold(n_splits=5, random_state=42, shuffle=True),\n",
       "                   error_score='raise',\n",
       "                   estimator=HistGradientBoostingClassifier(random_state=42,\n",
       "                                                            warm_start=True),\n",
       "                   n_jobs=-1,\n",
       "                   param_distributions={'class_weight': ['balanced', None],\n",
       "                                        'early_stopping': ['auto', True],\n",
       "                                        'learning_rate': [0.001, 0.01, 0.1,\n",
       "                                                          1.0],\n",
       "                                        'max_depth': [2, 6, 8, 12],\n",
       "                                        'max_iter': [100, 500, 1000],\n",
       "                                        'max_leaf_nodes': [2, 5, 10],\n",
       "                                        'min_samples_leaf': [2, 5, 10]},\n",
       "                   refit='AUC', return_train_score=True,\n",
       "                   scoring={'AUC': make_scorer(roc_auc_score),\n",
       "                            'Accuracy': make_scorer(accuracy_score),\n",
       "                            'F1': make_scorer(f1_score),\n",
       "                            'Precision': make_scorer(precision_score),\n",
       "                            'Recall': make_scorer(recall_score)},\n",
       "                   verbose=2)"
      ]
     },
     "execution_count": 61,
     "metadata": {},
     "output_type": "execute_result"
    }
   ],
   "source": [
    "# Displaying a Pipeline with a Preprocessing Step and Regression\n",
    "from sklearn import set_config\n",
    "set_config(display=\"diagram\")\n",
    "\n",
    "rnd_search"
   ]
  },
  {
   "cell_type": "markdown",
   "metadata": {},
   "source": [
    "#### current run's best_params"
   ]
  },
  {
   "cell_type": "code",
   "execution_count": 62,
   "metadata": {
    "notebookRunGroups": {
     "groupValue": "1"
    }
   },
   "outputs": [
    {
     "data": {
      "text/plain": [
       "{'min_samples_leaf': 5,\n",
       " 'max_leaf_nodes': 10,\n",
       " 'max_iter': 1000,\n",
       " 'max_depth': 6,\n",
       " 'learning_rate': 0.1,\n",
       " 'early_stopping': True,\n",
       " 'class_weight': 'balanced'}"
      ]
     },
     "execution_count": 62,
     "metadata": {},
     "output_type": "execute_result"
    }
   ],
   "source": [
    "best_params = rnd_search.best_params_\n",
    "best_params"
   ]
  },
  {
   "cell_type": "markdown",
   "metadata": {},
   "source": [
    "best_params of previous runs\n",
    "\n",
    "{'min_samples_leaf': 5, \n",
    " 'max_leaf_nodes': 5, \n",
    " 'max_iter': 100, \n",
    " 'max_depth': 6, \n",
    " 'learning_rate': 0.01, \n",
    " 'early_stopping': 'auto', \n",
    " 'class_weight': 'balanced'}\n",
    "\n",
    "{'min_samples_leaf': 2,\n",
    " 'max_leaf_nodes': 5,\n",
    " 'max_iter': 500,\n",
    " 'max_depth': 12,\n",
    " 'learning_rate': 0.01,\n",
    " 'early_stopping': 'auto',\n",
    " 'class_weight': 'balanced'}\n",
    "\n",
    "Due to RandomSearchCV, best params is always changing, but the val auc is constantly similar +-std0.005 miniscule amount\n",
    "\n",
    "#### Evaluate test data with best params"
   ]
  },
  {
   "cell_type": "code",
   "execution_count": 63,
   "metadata": {
    "notebookRunGroups": {
     "groupValue": "1"
    }
   },
   "outputs": [
    {
     "name": "stdout",
     "output_type": "stream",
     "text": [
      "train auc: 0.6723225187677815\n",
      "val auc: 0.638179364495154\n",
      "test auc: 0.6165522501906942\n"
     ]
    }
   ],
   "source": [
    "# Make predictions on the test data\n",
    "y_predprob_test, y_pred_test  = Trainer().y_predictor(df_test, dv, clf)\n",
    "\n",
    "# compile the scores in a list\n",
    "scores.append({\n",
    "    \"model\": \"HistGradientBoostingClassifier\",\n",
    "    \"train auc\": roc_auc_score(y_train, y_pred_train),\n",
    "    \"test auc\": roc_auc_score(y_test, y_pred_test),\n",
    "    \"accuracy\": accuracy_score(y_test, y_pred_test),\n",
    "    \"precision\": precision_score(y_test, y_pred_test, zero_division=0.0),\n",
    "    \"f1_mean\": f1_score(y_test, y_pred_test),\n",
    "    \"recall\": recall_score(y_test, y_pred_test),   \n",
    "    }\n",
    ")\n",
    "logging.info(f'-- HistGradientBoostingClassifier test scores appended --')\n",
    "\n",
    "print(f\"train auc: {roc_auc_score(y_train, y_pred_train)}\")\n",
    "print(f\"val auc: {roc_auc_score(y_val, y_pred_val)}\")\n",
    "print(f\"test auc: {roc_auc_score(y_test, y_pred_test)}\")\n"
   ]
  },
  {
   "cell_type": "markdown",
   "metadata": {},
   "source": [
    "Insights:\n",
    "\n",
    "Our AUC values do not deviate much from train set to val set to test set, so I feel we have a stable model with these set of `best_params`."
   ]
  },
  {
   "cell_type": "code",
   "execution_count": 64,
   "metadata": {
    "notebookRunGroups": {
     "groupValue": "1"
    }
   },
   "outputs": [
    {
     "data": {
      "image/png": "[encoded data removed]",
      "text/plain": [
       "<Figure size 400x400 with 2 Axes>"
      ]
     },
     "metadata": {},
     "output_type": "display_data"
    }
   ],
   "source": [
    "import matplotlib.pyplot as plt\n",
    "\n",
    "fig, ax = plt.subplots(figsize=(4,4))\n",
    "cm = confusion_matrix(y_test, y_pred_test)\n",
    "cm_hist = ConfusionMatrixDisplay(\n",
    "    confusion_matrix=cm,\n",
    "    display_labels=TARGET_LABELS,\n",
    ")\n",
    "cm_hist.plot(cmap=\"cividis\", ax=ax)\n",
    "cm_hist.ax_.set_title(\"HistGradient ConfusionMatrix\")\n",
    "fig.show()"
   ]
  },
  {
   "cell_type": "code",
   "execution_count": null,
   "metadata": {},
   "outputs": [],
   "source": [
    "# Save the dv\n",
    "Trainer().save('p_dv.bin', dv)\n",
    "# Save the model\n",
    "Trainer().save('p_model.bin', clf)\n",
    "\n",
    "import joblib\n",
    "joblib.dump(dv, 'j_dv.bin')\n",
    "joblib.dump(clf, 'j_model.bin')\n"
   ]
  },
  {
   "cell_type": "code",
   "execution_count": 65,
   "metadata": {
    "notebookRunGroups": {
     "groupValue": "1"
    }
   },
   "outputs": [
    {
     "data": {
      "text/html": [
       "<div>\n",
       "<style scoped>\n",
       "    .dataframe tbody tr th:only-of-type {\n",
       "        vertical-align: middle;\n",
       "    }\n",
       "\n",
       "    .dataframe tbody tr th {\n",
       "        vertical-align: top;\n",
       "    }\n",
       "\n",
       "    .dataframe thead th {\n",
       "        text-align: right;\n",
       "    }\n",
       "</style>\n",
       "<table border=\"1\" class=\"dataframe\">\n",
       "  <thead>\n",
       "    <tr style=\"text-align: right;\">\n",
       "      <th></th>\n",
       "      <th>model</th>\n",
       "      <th>train auc</th>\n",
       "      <th>val auc</th>\n",
       "      <th>accuracy</th>\n",
       "      <th>precision</th>\n",
       "      <th>f1_mean</th>\n",
       "      <th>recall</th>\n",
       "      <th>test auc</th>\n",
       "    </tr>\n",
       "  </thead>\n",
       "  <tbody>\n",
       "    <tr>\n",
       "      <th>0</th>\n",
       "      <td>HistGradientBoostingClassifier</td>\n",
       "      <td>0.672323</td>\n",
       "      <td>0.638179</td>\n",
       "      <td>0.6810</td>\n",
       "      <td>0.450147</td>\n",
       "      <td>0.490415</td>\n",
       "      <td>0.538596</td>\n",
       "      <td>NaN</td>\n",
       "    </tr>\n",
       "    <tr>\n",
       "      <th>1</th>\n",
       "      <td>HistGradientBoostingClassifier</td>\n",
       "      <td>0.672323</td>\n",
       "      <td>NaN</td>\n",
       "      <td>0.6805</td>\n",
       "      <td>0.446667</td>\n",
       "      <td>0.456170</td>\n",
       "      <td>0.466087</td>\n",
       "      <td>0.616552</td>\n",
       "    </tr>\n",
       "  </tbody>\n",
       "</table>\n",
       "</div>"
      ],
      "text/plain": [
       "                            model  train auc   val auc  accuracy  precision  \\\n",
       "0  HistGradientBoostingClassifier   0.672323  0.638179    0.6810   0.450147   \n",
       "1  HistGradientBoostingClassifier   0.672323       NaN    0.6805   0.446667   \n",
       "\n",
       "    f1_mean    recall  test auc  \n",
       "0  0.490415  0.538596       NaN  \n",
       "1  0.456170  0.466087  0.616552  "
      ]
     },
     "execution_count": 65,
     "metadata": {},
     "output_type": "execute_result"
    }
   ],
   "source": [
    "df = pd.DataFrame(scores)\n",
    "df"
   ]
  },
  {
   "cell_type": "markdown",
   "metadata": {},
   "source": [
    "### CatBoostClassifier Hyperparams Tuning\n",
    "\n",
    "#### setup train_test_split"
   ]
  },
  {
   "cell_type": "code",
   "execution_count": 73,
   "metadata": {
    "notebookRunGroups": {
     "groupValue": "2"
    }
   },
   "outputs": [
    {
     "name": "stdout",
     "output_type": "stream",
     "text": [
      "Loading CSV data...\n"
     ]
    },
    {
     "name": "stderr",
     "output_type": "stream",
     "text": [
      "100%|██████████| 20/20 [00:00<00:00, 263.16it/s]"
     ]
    },
    {
     "name": "stdout",
     "output_type": "stream",
     "text": [
      "Finished processing the CSV file.\n",
      "df.shape = (10000, 7)\n",
      "- Preprocessor()...\n",
      "  -- Replacing symbols in column names...\n",
      "  -- Replacing symbols in data...\n",
      "  -- Dropping TO_DROP columns...\n",
      "- FeatureBuilder()...\n",
      "  -- Creating 'target' column...\n",
      "  -- Split TARGET_NAME for y...\n",
      "  -- Dropping TARGET_NAME...\n",
      "\n",
      "  -- Set COLS_CATEGORICAL astype(category)...\n",
      "  -- Scaling columns with MinMaxScaler()...\n",
      "  -- Scaling columns with RobustScaler()...\n"
     ]
    },
    {
     "name": "stderr",
     "output_type": "stream",
     "text": [
      "\n"
     ]
    }
   ],
   "source": [
    "df_full_train, df_test, y_full_train, y_test = rebuild_df()\n",
    "df_train, df_val, y_train, y_val = train_test_split(df_full_train, y_full_train, test_size=0.25, random_state=123)\n",
    "\n",
    "logging.info('Starting CatboostClassifier...')"
   ]
  },
  {
   "cell_type": "markdown",
   "metadata": {},
   "source": [
    "#### verify split"
   ]
  },
  {
   "cell_type": "code",
   "execution_count": 74,
   "metadata": {
    "notebookRunGroups": {
     "groupValue": "2"
    }
   },
   "outputs": [
    {
     "name": "stdout",
     "output_type": "stream",
     "text": [
      "df.shape = (8000, 4)\n",
      "df.shape = (6000, 4)\n",
      "df.shape = (2000, 4)\n",
      "df.shape = (2000, 4)\n",
      "\n",
      "y.shape = (8000,)\n",
      "y.shape = (6000,)\n",
      "y.shape = (2000,)\n",
      "y.shape = (2000,)\n"
     ]
    }
   ],
   "source": [
    "all_DFs = [df_full_train, df_train, df_val, df_test]\n",
    "all_Ys = [y_full_train, y_train, y_val, y_test]\n",
    "for df in all_DFs:\n",
    "    print(f'{df.shape = }') \n",
    "print()\n",
    "for y in all_Ys:\n",
    "    print(f'{y.shape = }')  "
   ]
  },
  {
   "cell_type": "markdown",
   "metadata": {},
   "source": [
    "#### params and estimator declarations"
   ]
  },
  {
   "cell_type": "code",
   "execution_count": 75,
   "metadata": {
    "notebookRunGroups": {
     "groupValue": "2"
    }
   },
   "outputs": [],
   "source": [
    "# Create a k-fold cross-validator\n",
    "kfold = KFold(n_splits=5, shuffle=True, random_state=42)\n",
    "\n",
    "cat_param_grid = {\n",
    "    # \"loss_function\": [\"Logloss\"],\n",
    "    \"iterations\": [10, 100, 500],    # defaults=1000 \n",
    "    \"learning_rate\": [0.001, 0.01, 0.1, 1.0],    # defaults=0.1, 1=no shrinkage  \n",
    "    \"min_data_in_leaf\": [5, 10, 25, 50], # \n",
    "    \"max_depth\": [2, 6, 8, 12]  # \n",
    "}\n",
    "\n",
    "# Create the model\n",
    "cat = CatBoostClassifier(\n",
    "    cat_features=COLS_CATEGORICAL,\n",
    "    eval_metric='AUC:hints=skip_train~false',\n",
    "    random_state=42,\n",
    "    # task_type=\"GPU\",\n",
    "    # devices='0'\n",
    "    verbose=False\n",
    ")                             \n"
   ]
  },
  {
   "cell_type": "markdown",
   "metadata": {},
   "source": [
    "#### fit rnd_search"
   ]
  },
  {
   "cell_type": "code",
   "execution_count": null,
   "metadata": {
    "notebookRunGroups": {
     "groupValue": ""
    }
   },
   "outputs": [],
   "source": [
    "# Log the output of each step of the tuning process.\n",
    "logging.info('Starting CatBoostClassifier hyperparam tuning...')\n",
    "\n",
    "# Perform hyperparameter tuning using RandomizedSearchCV\n",
    "rnd_search = RandomizedSearchCV(\n",
    "    estimator=cat, \n",
    "    param_distributions=cat_param_grid, \n",
    "    cv=kfold,          \n",
    "    scoring=scoring,       # to replace defaults 'loss'\n",
    "    refit=\"AUC\",           # defaults='loss'\n",
    "    error_score='raise', \n",
    "    return_train_score=True,\n",
    "    verbose=False,\n",
    "    n_jobs=-1\n",
    ")\n",
    "\n",
    "# Fit the pipeline to the train data and perform hyperparameter tuning\n",
    "for train_idx, val_idx in tqdm(\n",
    "                            kfold.split(df_full_train, \n",
    "                                        y_full_train), \n",
    "                            total=kfold.get_n_splits(), \n",
    "                            desc=\"k-fold\"): \n",
    "    \n",
    "    Xf_train = df_full_train.iloc[train_idx]\n",
    "    yf_train = y_full_train.iloc[train_idx].values\n",
    "    \n",
    "    logging.info('Fitting randomized_search model...')\n",
    "    # Train the model on the train data\n",
    "    rnd_search.fit(Xf_train, yf_train)\n",
    "    \n",
    "logging.info('hyperparam with randomized_search fit completed')    \n",
    "\n",
    "# took about 8mins up to 100 iterations\n",
    "# took about 14mins up to 200 iterations\n",
    "# took about 20mins up to 500 iterations\n",
    "# took about 60mins up to 1000 iterations"
   ]
  },
  {
   "cell_type": "markdown",
   "metadata": {},
   "source": [
    "#### Using Catboost's own randomized_search()\n",
    "\n",
    "This method has a built-in plotting feature and is faster than sklearn's RandomizedSearchCV in previous cell"
   ]
  },
  {
   "cell_type": "code",
   "execution_count": 76,
   "metadata": {
    "notebookRunGroups": {
     "groupValue": "2"
    }
   },
   "outputs": [
    {
     "data": {
      "application/vnd.jupyter.widget-view+json": {
       "model_id": "dc6b2c876ad04c8ca097f84667d824f8",
       "version_major": 2,
       "version_minor": 0
      },
      "text/plain": [
       "MetricVisualizer(layout=Layout(align_self='stretch', height='500px'))"
      ]
     },
     "metadata": {},
     "output_type": "display_data"
    },
    {
     "name": "stdout",
     "output_type": "stream",
     "text": [
      "\n",
      "bestTest = 0.6613107287\n",
      "bestIteration = 0\n",
      "\n",
      "\n",
      "bestTest = 0.6856242716\n",
      "bestIteration = 22\n",
      "\n",
      "\n",
      "bestTest = 0.6856242716\n",
      "bestIteration = 9\n",
      "\n",
      "\n",
      "bestTest = 0.6817395872\n",
      "bestIteration = 2\n",
      "\n",
      "\n",
      "bestTest = 0.6774197568\n",
      "bestIteration = 9\n",
      "\n",
      "\n",
      "bestTest = 0.683986244\n",
      "bestIteration = 30\n",
      "\n",
      "\n",
      "bestTest = 0.6674411115\n",
      "bestIteration = 1\n",
      "\n",
      "\n",
      "bestTest = 0.6886779613\n",
      "bestIteration = 18\n",
      "\n",
      "\n",
      "bestTest = 0.6856242716\n",
      "bestIteration = 22\n",
      "\n",
      "\n",
      "bestTest = 0.6859511103\n",
      "bestIteration = 7\n",
      "\n",
      "Training on fold [0/5]\n",
      "\n",
      "bestTest = 0.6759557886\n",
      "bestIteration = 99\n",
      "\n",
      "Training on fold [1/5]\n",
      "\n",
      "bestTest = 0.7054123995\n",
      "bestIteration = 3\n",
      "\n",
      "Training on fold [2/5]\n",
      "\n",
      "bestTest = 0.7031366979\n",
      "bestIteration = 87\n",
      "\n",
      "Training on fold [3/5]\n",
      "\n",
      "bestTest = 0.6855704005\n",
      "bestIteration = 6\n",
      "\n",
      "Training on fold [4/5]\n",
      "\n",
      "bestTest = 0.6860238515\n",
      "bestIteration = 98\n",
      "\n"
     ]
    }
   ],
   "source": [
    "# Create a catboost randomized_search object\n",
    "cat_rnd_search = cat.randomized_search(\n",
    "    X=df_full_train,\n",
    "    y=y_full_train,\n",
    "    param_distributions=cat_param_grid, \n",
    "    cv=kfold, \n",
    "    n_iter=10,\n",
    "    calc_cv_statistics=True,\n",
    "    refit=True,\n",
    "    shuffle=True,\n",
    "    stratified=True,\n",
    "    log_cout=sys.stdout,     \n",
    "    verbose=False,\n",
    "    plot=True,\n",
    "    search_by_train_test_split=True,\n",
    "    partition_random_seed=123\n",
    ")\n",
    "# took about 4mins"
   ]
  },
  {
   "cell_type": "code",
   "execution_count": 77,
   "metadata": {
    "notebookRunGroups": {
     "groupValue": "2"
    }
   },
   "outputs": [],
   "source": [
    "eval_pool = Pool(df_val, y_val, cat_features=COLS_CATEGORICAL)"
   ]
  },
  {
   "cell_type": "code",
   "execution_count": 78,
   "metadata": {
    "notebookRunGroups": {
     "groupValue": "2"
    }
   },
   "outputs": [
    {
     "data": {
      "application/vnd.jupyter.widget-view+json": {
       "model_id": "560681fa1a4547d6b5bc13536f4daa10",
       "version_major": 2,
       "version_minor": 0
      },
      "text/plain": [
       "MetricVisualizer(layout=Layout(align_self='stretch', height='500px'))"
      ]
     },
     "metadata": {},
     "output_type": "display_data"
    },
    {
     "data": {
      "text/plain": [
       "{'AUC': [0.6670469880996197,\n",
       "  0.6828567046988099,\n",
       "  0.6947540179119127,\n",
       "  0.6945104895104894,\n",
       "  0.693708747392958,\n",
       "  0.6941737210158263,\n",
       "  0.694434425223899,\n",
       "  0.6964151637835848,\n",
       "  0.6969046742730953,\n",
       "  0.6978156054471845,\n",
       "  0.6990743467059257,\n",
       "  0.6994528278738805,\n",
       "  0.6980517727886149,\n",
       "  0.6992332229174334,\n",
       "  0.6994276775855723,\n",
       "  0.69896331738437,\n",
       "  0.699838056680162,\n",
       "  0.7000380321432953,\n",
       "  0.7001098024782235,\n",
       "  0.7008232118758435,\n",
       "  0.7009452827873881,\n",
       "  0.7008477487424856,\n",
       "  0.7008367071524966,\n",
       "  0.7027217519322783,\n",
       "  0.7029652803337014,\n",
       "  0.7026082689240585,\n",
       "  0.7024076800392589,\n",
       "  0.7024880382775119,\n",
       "  0.7034370015948963,\n",
       "  0.7033578701999754,\n",
       "  0.7035529382897804,\n",
       "  0.7034462029198871,\n",
       "  0.703317384370016,\n",
       "  0.7031002331002332,\n",
       "  0.7029689608636978,\n",
       "  0.7031407189301926,\n",
       "  0.7030119003803215,\n",
       "  0.7033137038400197,\n",
       "  0.7035725677830941,\n",
       "  0.7040786406575881,\n",
       "  0.704020979020979,\n",
       "  0.7039216047110783,\n",
       "  0.70375659428291,\n",
       "  0.7038222304011778,\n",
       "  0.703571954361428,\n",
       "  0.7034185989449147,\n",
       "  0.7036719420929947,\n",
       "  0.7035817691080849,\n",
       "  0.703938780517728,\n",
       "  0.704251012145749,\n",
       "  0.704815360078518,\n",
       "  0.7046975831186357,\n",
       "  0.7046239725187093,\n",
       "  0.704608023555392,\n",
       "  0.7043878051772788,\n",
       "  0.7049748497116919,\n",
       "  0.7049822107716844,\n",
       "  0.7047466568519201,\n",
       "  0.7049104404367562,\n",
       "  0.7049036927984296,\n",
       "  0.7048288553551711,\n",
       "  0.7046785670469882,\n",
       "  0.7044865660655134,\n",
       "  0.7048681143417985,\n",
       "  0.7052600907864066,\n",
       "  0.7053778677462887,\n",
       "  0.7059857686173476,\n",
       "  0.7063648632069685,\n",
       "  0.7065120844068212,\n",
       "  0.706900993743099,\n",
       "  0.7066715740399951,\n",
       "  0.706486934118513,\n",
       "  0.706705312231628,\n",
       "  0.7068782971414551,\n",
       "  0.7067930315298736,\n",
       "  0.7070660041712673,\n",
       "  0.7070794994479205,\n",
       "  0.7074604343025396,\n",
       "  0.7075855723224145,\n",
       "  0.7076763587289903,\n",
       "  0.7076978284873021,\n",
       "  0.7075837320574163,\n",
       "  0.7076297386823702,\n",
       "  0.7079965648386701,\n",
       "  0.7080542264752792,\n",
       "  0.7080714022819286,\n",
       "  0.7082689240583977,\n",
       "  0.7084345479082321,\n",
       "  0.7086615139246718,\n",
       "  0.7085915838547417,\n",
       "  0.7086848239479818,\n",
       "  0.7087032265979634,\n",
       "  0.708721015826279,\n",
       "  0.7087529137529138,\n",
       "  0.7087124279229542,\n",
       "  0.7089357134093976,\n",
       "  0.7088768249294566,\n",
       "  0.7090952030425715,\n",
       "  0.7092522389890811,\n",
       "  0.709182308919151],\n",
       " 'Accuracy': [0.735,\n",
       "  0.744,\n",
       "  0.744,\n",
       "  0.746,\n",
       "  0.7475,\n",
       "  0.749,\n",
       "  0.751,\n",
       "  0.749,\n",
       "  0.7505,\n",
       "  0.749,\n",
       "  0.747,\n",
       "  0.7465,\n",
       "  0.7475,\n",
       "  0.747,\n",
       "  0.747,\n",
       "  0.747,\n",
       "  0.7465,\n",
       "  0.7475,\n",
       "  0.7475,\n",
       "  0.747,\n",
       "  0.747,\n",
       "  0.747,\n",
       "  0.747,\n",
       "  0.7465,\n",
       "  0.7475,\n",
       "  0.7475,\n",
       "  0.747,\n",
       "  0.747,\n",
       "  0.748,\n",
       "  0.748,\n",
       "  0.7475,\n",
       "  0.7475,\n",
       "  0.747,\n",
       "  0.746,\n",
       "  0.7465,\n",
       "  0.7465,\n",
       "  0.747,\n",
       "  0.747,\n",
       "  0.747,\n",
       "  0.747,\n",
       "  0.747,\n",
       "  0.747,\n",
       "  0.7475,\n",
       "  0.7475,\n",
       "  0.7475,\n",
       "  0.7475,\n",
       "  0.7475,\n",
       "  0.7475,\n",
       "  0.7475,\n",
       "  0.7475,\n",
       "  0.7475,\n",
       "  0.7475,\n",
       "  0.7475,\n",
       "  0.7475,\n",
       "  0.7475,\n",
       "  0.7475,\n",
       "  0.7475,\n",
       "  0.7475,\n",
       "  0.7475,\n",
       "  0.7475,\n",
       "  0.7475,\n",
       "  0.7475,\n",
       "  0.7475,\n",
       "  0.7475,\n",
       "  0.7475,\n",
       "  0.7475,\n",
       "  0.7475,\n",
       "  0.7475,\n",
       "  0.7475,\n",
       "  0.747,\n",
       "  0.747,\n",
       "  0.748,\n",
       "  0.747,\n",
       "  0.747,\n",
       "  0.747,\n",
       "  0.7475,\n",
       "  0.7465,\n",
       "  0.747,\n",
       "  0.747,\n",
       "  0.7475,\n",
       "  0.7485,\n",
       "  0.7485,\n",
       "  0.7485,\n",
       "  0.7475,\n",
       "  0.7475,\n",
       "  0.748,\n",
       "  0.7475,\n",
       "  0.7475,\n",
       "  0.7475,\n",
       "  0.7475,\n",
       "  0.7475,\n",
       "  0.7475,\n",
       "  0.747,\n",
       "  0.7475,\n",
       "  0.7475,\n",
       "  0.748,\n",
       "  0.7475,\n",
       "  0.748,\n",
       "  0.748,\n",
       "  0.748],\n",
       " 'F1': [0.14790996784565916,\n",
       "  0.2123076923076923,\n",
       "  0.22424242424242422,\n",
       "  0.2680115273775216,\n",
       "  0.26917510853835025,\n",
       "  0.26608187134502925,\n",
       "  0.2782608695652174,\n",
       "  0.2849002849002849,\n",
       "  0.2778581765557163,\n",
       "  0.2808022922636103,\n",
       "  0.28328611898017,\n",
       "  0.2849083215796897,\n",
       "  0.2857142857142857,\n",
       "  0.28732394366197184,\n",
       "  0.28531073446327687,\n",
       "  0.28125,\n",
       "  0.27880512091038406,\n",
       "  0.28368794326241137,\n",
       "  0.28368794326241137,\n",
       "  0.28328611898017,\n",
       "  0.28531073446327687,\n",
       "  0.28328611898017,\n",
       "  0.28328611898017,\n",
       "  0.28085106382978725,\n",
       "  0.28165007112375534,\n",
       "  0.28368794326241137,\n",
       "  0.28125,\n",
       "  0.28125,\n",
       "  0.28611898016997167,\n",
       "  0.28611898016997167,\n",
       "  0.2857142857142857,\n",
       "  0.28368794326241137,\n",
       "  0.28328611898017,\n",
       "  0.28045325779036834,\n",
       "  0.28085106382978725,\n",
       "  0.2828854314002829,\n",
       "  0.28328611898017,\n",
       "  0.28328611898017,\n",
       "  0.28531073446327687,\n",
       "  0.28531073446327687,\n",
       "  0.28531073446327687,\n",
       "  0.28531073446327687,\n",
       "  0.2857142857142857,\n",
       "  0.2857142857142857,\n",
       "  0.2857142857142857,\n",
       "  0.2857142857142857,\n",
       "  0.2857142857142857,\n",
       "  0.2857142857142857,\n",
       "  0.2857142857142857,\n",
       "  0.2857142857142857,\n",
       "  0.2857142857142857,\n",
       "  0.2857142857142857,\n",
       "  0.2857142857142857,\n",
       "  0.2857142857142857,\n",
       "  0.2857142857142857,\n",
       "  0.2857142857142857,\n",
       "  0.2857142857142857,\n",
       "  0.2857142857142857,\n",
       "  0.2857142857142857,\n",
       "  0.2857142857142857,\n",
       "  0.2857142857142857,\n",
       "  0.2857142857142857,\n",
       "  0.2857142857142857,\n",
       "  0.2857142857142857,\n",
       "  0.2857142857142857,\n",
       "  0.2857142857142857,\n",
       "  0.2857142857142857,\n",
       "  0.2857142857142857,\n",
       "  0.2857142857142857,\n",
       "  0.28328611898017,\n",
       "  0.28328611898017,\n",
       "  0.288135593220339,\n",
       "  0.28328611898017,\n",
       "  0.28732394366197184,\n",
       "  0.28531073446327687,\n",
       "  0.28772919605077574,\n",
       "  0.2849083215796897,\n",
       "  0.28531073446327687,\n",
       "  0.28531073446327687,\n",
       "  0.2857142857142857,\n",
       "  0.2865248226950355,\n",
       "  0.2865248226950355,\n",
       "  0.2865248226950355,\n",
       "  0.2857142857142857,\n",
       "  0.2857142857142857,\n",
       "  0.28611898016997167,\n",
       "  0.2857142857142857,\n",
       "  0.2857142857142857,\n",
       "  0.2857142857142857,\n",
       "  0.2857142857142857,\n",
       "  0.2857142857142857,\n",
       "  0.2857142857142857,\n",
       "  0.28328611898017,\n",
       "  0.28772919605077574,\n",
       "  0.28772919605077574,\n",
       "  0.29014084507042254,\n",
       "  0.28772919605077574,\n",
       "  0.29014084507042254,\n",
       "  0.29014084507042254,\n",
       "  0.29014084507042254],\n",
       " 'Precision': [0.8846153846153846,\n",
       "  0.8625,\n",
       "  0.8222222222222222,\n",
       "  0.75,\n",
       "  0.768595041322314,\n",
       "  0.7982456140350878,\n",
       "  0.8,\n",
       "  0.7575757575757576,\n",
       "  0.7933884297520661,\n",
       "  0.765625,\n",
       "  0.7352941176470589,\n",
       "  0.7266187050359713,\n",
       "  0.7372262773722628,\n",
       "  0.7285714285714285,\n",
       "  0.7318840579710145,\n",
       "  0.7388059701492538,\n",
       "  0.7368421052631579,\n",
       "  0.7407407407407407,\n",
       "  0.7407407407407407,\n",
       "  0.7352941176470589,\n",
       "  0.7318840579710145,\n",
       "  0.7352941176470589,\n",
       "  0.7352941176470589,\n",
       "  0.7333333333333333,\n",
       "  0.7443609022556391,\n",
       "  0.7407407407407407,\n",
       "  0.7388059701492538,\n",
       "  0.7388059701492538,\n",
       "  0.7426470588235294,\n",
       "  0.7426470588235294,\n",
       "  0.7372262773722628,\n",
       "  0.7407407407407407,\n",
       "  0.7352941176470589,\n",
       "  0.7279411764705882,\n",
       "  0.7333333333333333,\n",
       "  0.7299270072992701,\n",
       "  0.7352941176470589,\n",
       "  0.7352941176470589,\n",
       "  0.7318840579710145,\n",
       "  0.7318840579710145,\n",
       "  0.7318840579710145,\n",
       "  0.7318840579710145,\n",
       "  0.7372262773722628,\n",
       "  0.7372262773722628,\n",
       "  0.7372262773722628,\n",
       "  0.7372262773722628,\n",
       "  0.7372262773722628,\n",
       "  0.7372262773722628,\n",
       "  0.7372262773722628,\n",
       "  0.7372262773722628,\n",
       "  0.7372262773722628,\n",
       "  0.7372262773722628,\n",
       "  0.7372262773722628,\n",
       "  0.7372262773722628,\n",
       "  0.7372262773722628,\n",
       "  0.7372262773722628,\n",
       "  0.7372262773722628,\n",
       "  0.7372262773722628,\n",
       "  0.7372262773722628,\n",
       "  0.7372262773722628,\n",
       "  0.7372262773722628,\n",
       "  0.7372262773722628,\n",
       "  0.7372262773722628,\n",
       "  0.7372262773722628,\n",
       "  0.7372262773722628,\n",
       "  0.7372262773722628,\n",
       "  0.7372262773722628,\n",
       "  0.7372262773722628,\n",
       "  0.7372262773722628,\n",
       "  0.7352941176470589,\n",
       "  0.7352941176470589,\n",
       "  0.7391304347826086,\n",
       "  0.7352941176470589,\n",
       "  0.7285714285714285,\n",
       "  0.7318840579710145,\n",
       "  0.7338129496402878,\n",
       "  0.7266187050359713,\n",
       "  0.7318840579710145,\n",
       "  0.7318840579710145,\n",
       "  0.7372262773722628,\n",
       "  0.7481481481481481,\n",
       "  0.7481481481481481,\n",
       "  0.7481481481481481,\n",
       "  0.7372262773722628,\n",
       "  0.7372262773722628,\n",
       "  0.7426470588235294,\n",
       "  0.7372262773722628,\n",
       "  0.7372262773722628,\n",
       "  0.7372262773722628,\n",
       "  0.7372262773722628,\n",
       "  0.7372262773722628,\n",
       "  0.7372262773722628,\n",
       "  0.7352941176470589,\n",
       "  0.7338129496402878,\n",
       "  0.7338129496402878,\n",
       "  0.7357142857142858,\n",
       "  0.7338129496402878,\n",
       "  0.7357142857142858,\n",
       "  0.7357142857142858,\n",
       "  0.7357142857142858],\n",
       " 'Recall': [0.08070175438596491,\n",
       "  0.12105263157894737,\n",
       "  0.12982456140350876,\n",
       "  0.1631578947368421,\n",
       "  0.1631578947368421,\n",
       "  0.15964912280701754,\n",
       "  0.16842105263157894,\n",
       "  0.17543859649122806,\n",
       "  0.16842105263157894,\n",
       "  0.17192982456140352,\n",
       "  0.17543859649122806,\n",
       "  0.17719298245614035,\n",
       "  0.17719298245614035,\n",
       "  0.17894736842105263,\n",
       "  0.17719298245614035,\n",
       "  0.1736842105263158,\n",
       "  0.17192982456140352,\n",
       "  0.17543859649122806,\n",
       "  0.17543859649122806,\n",
       "  0.17543859649122806,\n",
       "  0.17719298245614035,\n",
       "  0.17543859649122806,\n",
       "  0.17543859649122806,\n",
       "  0.1736842105263158,\n",
       "  0.1736842105263158,\n",
       "  0.17543859649122806,\n",
       "  0.1736842105263158,\n",
       "  0.1736842105263158,\n",
       "  0.17719298245614035,\n",
       "  0.17719298245614035,\n",
       "  0.17719298245614035,\n",
       "  0.17543859649122806,\n",
       "  0.17543859649122806,\n",
       "  0.1736842105263158,\n",
       "  0.1736842105263158,\n",
       "  0.17543859649122806,\n",
       "  0.17543859649122806,\n",
       "  0.17543859649122806,\n",
       "  0.17719298245614035,\n",
       "  0.17719298245614035,\n",
       "  0.17719298245614035,\n",
       "  0.17719298245614035,\n",
       "  0.17719298245614035,\n",
       "  0.17719298245614035,\n",
       "  0.17719298245614035,\n",
       "  0.17719298245614035,\n",
       "  0.17719298245614035,\n",
       "  0.17719298245614035,\n",
       "  0.17719298245614035,\n",
       "  0.17719298245614035,\n",
       "  0.17719298245614035,\n",
       "  0.17719298245614035,\n",
       "  0.17719298245614035,\n",
       "  0.17719298245614035,\n",
       "  0.17719298245614035,\n",
       "  0.17719298245614035,\n",
       "  0.17719298245614035,\n",
       "  0.17719298245614035,\n",
       "  0.17719298245614035,\n",
       "  0.17719298245614035,\n",
       "  0.17719298245614035,\n",
       "  0.17719298245614035,\n",
       "  0.17719298245614035,\n",
       "  0.17719298245614035,\n",
       "  0.17719298245614035,\n",
       "  0.17719298245614035,\n",
       "  0.17719298245614035,\n",
       "  0.17719298245614035,\n",
       "  0.17719298245614035,\n",
       "  0.17543859649122806,\n",
       "  0.17543859649122806,\n",
       "  0.17894736842105263,\n",
       "  0.17543859649122806,\n",
       "  0.17894736842105263,\n",
       "  0.17719298245614035,\n",
       "  0.17894736842105263,\n",
       "  0.17719298245614035,\n",
       "  0.17719298245614035,\n",
       "  0.17719298245614035,\n",
       "  0.17719298245614035,\n",
       "  0.17719298245614035,\n",
       "  0.17719298245614035,\n",
       "  0.17719298245614035,\n",
       "  0.17719298245614035,\n",
       "  0.17719298245614035,\n",
       "  0.17719298245614035,\n",
       "  0.17719298245614035,\n",
       "  0.17719298245614035,\n",
       "  0.17719298245614035,\n",
       "  0.17719298245614035,\n",
       "  0.17719298245614035,\n",
       "  0.17719298245614035,\n",
       "  0.17543859649122806,\n",
       "  0.17894736842105263,\n",
       "  0.17894736842105263,\n",
       "  0.18070175438596492,\n",
       "  0.17894736842105263,\n",
       "  0.18070175438596492,\n",
       "  0.18070175438596492,\n",
       "  0.18070175438596492]}"
      ]
     },
     "execution_count": 78,
     "metadata": {},
     "output_type": "execute_result"
    }
   ],
   "source": [
    "cat.eval_metrics(\n",
    "    data=eval_pool,\n",
    "    metrics=['AUC', 'Accuracy', 'F1', 'Precision', 'Recall'],\n",
    "    plot=True\n",
    ")"
   ]
  },
  {
   "cell_type": "markdown",
   "metadata": {},
   "source": [
    "#### evaluate"
   ]
  },
  {
   "cell_type": "code",
   "execution_count": 79,
   "metadata": {
    "notebookRunGroups": {
     "groupValue": "2"
    }
   },
   "outputs": [],
   "source": [
    "cv_results = pd.DataFrame(cat_rnd_search['cv_results'])"
   ]
  },
  {
   "cell_type": "code",
   "execution_count": 80,
   "metadata": {
    "notebookRunGroups": {
     "groupValue": "2"
    }
   },
   "outputs": [],
   "source": [
    "# from catboost.utils import get_roc_curve\n",
    "# import sklearn\n",
    "# from sklearn import metrics\n",
    "\n",
    "# auc = np.max(cv_results['test-AUC-mean'])\n",
    "# print(f\"AUC on val set: {auc:.3f}\")\n",
    "# curve = get_roc_curve(cat, eval_pool)\n",
    "# (fpr, tpr, thresholds) = curve\n",
    "# roc_auc = sklearn.metrics.auc(fpr, tpr)"
   ]
  },
  {
   "cell_type": "code",
   "execution_count": 81,
   "metadata": {
    "notebookRunGroups": {
     "groupValue": "2"
    }
   },
   "outputs": [],
   "source": [
    "# import matplotlib.pyplot as plt\n",
    "\n",
    "# plt.figure(figsize=(16, 8))\n",
    "# lw = 2\n",
    "\n",
    "# plt.plot(fpr, tpr, color='darkorange',\n",
    "#          lw=lw, label='ROC curve (area = %0.2f)' % roc_auc, alpha=0.5)\n",
    "\n",
    "# plt.plot([0, 1], [0, 1], color='navy', lw=lw, linestyle='--', alpha=0.5)\n",
    "\n",
    "# plt.xlim([0.0, 1.0])\n",
    "# plt.ylim([0.0, 1.05])\n",
    "# plt.xticks(fontsize=16)\n",
    "# plt.yticks(fontsize=16)\n",
    "# plt.grid(True)\n",
    "# plt.xlabel('False Positive Rate', fontsize=16)\n",
    "# plt.ylabel('True Positive Rate', fontsize=16)\n",
    "# plt.title('Receiver operating characteristic', fontsize=20)\n",
    "# plt.legend(loc=\"lower right\", fontsize=16)\n",
    "# plt.show()"
   ]
  },
  {
   "cell_type": "markdown",
   "metadata": {},
   "source": [
    "#### Best model training and validation prediction"
   ]
  },
  {
   "cell_type": "code",
   "execution_count": 82,
   "metadata": {
    "notebookRunGroups": {
     "groupValue": "2"
    }
   },
   "outputs": [
    {
     "name": "stdout",
     "output_type": "stream",
     "text": [
      "<class 'pandas.core.frame.DataFrame'>\n",
      "RangeIndex: 100 entries, 0 to 99\n",
      "Data columns (total 9 columns):\n",
      " #   Column              Non-Null Count  Dtype  \n",
      "---  ------              --------------  -----  \n",
      " 0   iterations          100 non-null    int64  \n",
      " 1   test-AUC-mean       100 non-null    float64\n",
      " 2   test-AUC-std        100 non-null    float64\n",
      " 3   train-AUC-mean      100 non-null    float64\n",
      " 4   train-AUC-std       100 non-null    float64\n",
      " 5   test-Logloss-mean   100 non-null    float64\n",
      " 6   test-Logloss-std    100 non-null    float64\n",
      " 7   train-Logloss-mean  100 non-null    float64\n",
      " 8   train-Logloss-std   100 non-null    float64\n",
      "dtypes: float64(8), int64(1)\n",
      "memory usage: 7.2 KB\n"
     ]
    }
   ],
   "source": [
    "cv_results.info()"
   ]
  },
  {
   "cell_type": "code",
   "execution_count": 83,
   "metadata": {
    "notebookRunGroups": {
     "groupValue": "2"
    }
   },
   "outputs": [
    {
     "data": {
      "text/plain": [
       "{'min_data_in_leaf': 50, 'depth': 8, 'iterations': 100, 'learning_rate': 0.01}"
      ]
     },
     "execution_count": 83,
     "metadata": {},
     "output_type": "execute_result"
    }
   ],
   "source": [
    "cat_rnd_search['params']"
   ]
  },
  {
   "cell_type": "code",
   "execution_count": 84,
   "metadata": {
    "notebookRunGroups": {
     "groupValue": "2"
    }
   },
   "outputs": [],
   "source": [
    "best_params = cat_rnd_search['params']\n",
    "\n",
    "best_cat = CatBoostClassifier(**best_params, verbose=False)\n",
    "best_cat.fit(\n",
    "    df_train, \n",
    "    y_train, \n",
    "    cat_features=COLS_CATEGORICAL\n",
    ")\n",
    "y_pred_train = best_cat.predict(df_train)"
   ]
  },
  {
   "cell_type": "markdown",
   "metadata": {},
   "source": [
    "{'min_data_in_leaf': 10,\n",
    " 'max_depth': 12,\n",
    " 'learning_rate': 0.01,\n",
    " 'iterations': 1000}\n",
    "\n",
    " {'min_data_in_leaf': 5,\n",
    " 'max_depth': 12,\n",
    " 'learning_rate': 0.1,\n",
    " 'iterations': 100}"
   ]
  },
  {
   "cell_type": "code",
   "execution_count": 85,
   "metadata": {
    "notebookRunGroups": {
     "groupValue": "2"
    }
   },
   "outputs": [],
   "source": [
    "y_pred = best_cat.predict(df_val)\n",
    "\n",
    "# compile the scores in a list\n",
    "scores.append({\n",
    "    \"model\": \"CatBoostClassifier\",\n",
    "    \"train auc\": roc_auc_score(y_train, y_pred_train),\n",
    "    \"val auc\": roc_auc_score(y_val, y_pred),\n",
    "    \"accuracy\": accuracy_score(y_val, y_pred),\n",
    "    \"precision\": precision_score(y_val, y_pred),\n",
    "    \"f1_mean\": f1_score(y_val, y_pred),\n",
    "    \"recall\": recall_score(y_val, y_pred),    \n",
    "    }\n",
    ")\n",
    "logging.info(f'-- best_cat val scores appended --')\n",
    "# Log the results of the tuning process.\n",
    "logging.info('The best hyperparameters are: {}'.format(rnd_search.best_params_))"
   ]
  },
  {
   "cell_type": "code",
   "execution_count": null,
   "metadata": {},
   "outputs": [],
   "source": [
    "best_cat.save_model('catboost.pkl')"
   ]
  },
  {
   "cell_type": "markdown",
   "metadata": {},
   "source": [
    "#### Best iteration"
   ]
  },
  {
   "cell_type": "markdown",
   "metadata": {},
   "source": [
    "## Final Model output\n",
    "\n",
    "using df_test and the best_params"
   ]
  },
  {
   "cell_type": "code",
   "execution_count": 86,
   "metadata": {
    "notebookRunGroups": {
     "groupValue": "2"
    }
   },
   "outputs": [],
   "source": [
    "best_cat.get_feature_importance(prettified=True).to_csv('cat_importances.csv')\n"
   ]
  },
  {
   "cell_type": "markdown",
   "metadata": {},
   "source": [
    "#### predict test"
   ]
  },
  {
   "cell_type": "code",
   "execution_count": 87,
   "metadata": {
    "notebookRunGroups": {
     "groupValue": "2"
    }
   },
   "outputs": [],
   "source": [
    "y_pred_proba = best_cat.predict_proba(df_test)\n",
    "y_pred = best_cat.predict(df_test)\n",
    "\n",
    "# compile the scores in a list\n",
    "scores.append({\n",
    "    \"model\": \"CatBoostClassifier\",\n",
    "    \"train auc\": roc_auc_score(y_train, y_pred_train),\n",
    "    \"test auc\": roc_auc_score(y_test, y_pred),\n",
    "    \"accuracy\": accuracy_score(y_test, y_pred),\n",
    "    \"precision\": precision_score(y_test, y_pred),\n",
    "    \"f1_mean\": f1_score(y_test, y_pred),\n",
    "    \"recall\": recall_score(y_test, y_pred),    \n",
    "    }\n",
    ")\n",
    "logging.info(f'-- best_cat test scores appended --')"
   ]
  },
  {
   "cell_type": "code",
   "execution_count": 88,
   "metadata": {
    "notebookRunGroups": {
     "groupValue": "2"
    }
   },
   "outputs": [
    {
     "data": {
      "image/png": "[encoded data removed]",
      "text/plain": [
       "<Figure size 400x400 with 2 Axes>"
      ]
     },
     "metadata": {},
     "output_type": "display_data"
    }
   ],
   "source": [
    "fig, ax = plt.subplots(figsize=(4,4))\n",
    "cm = confusion_matrix(y_test, y_pred)\n",
    "cm_cat = ConfusionMatrixDisplay(\n",
    "    confusion_matrix=cm,\n",
    "    display_labels=TARGET_LABELS\n",
    ")\n",
    "cm_cat.plot(cmap=\"cividis\", ax=ax)\n",
    "cm_cat.ax_.set_title(\"Catboost ConfusionMatrix\")\n",
    "fig.show()"
   ]
  },
  {
   "cell_type": "code",
   "execution_count": 89,
   "metadata": {
    "notebookRunGroups": {
     "groupValue": "12"
    }
   },
   "outputs": [
    {
     "data": {
      "text/html": [
       "<div>\n",
       "<style scoped>\n",
       "    .dataframe tbody tr th:only-of-type {\n",
       "        vertical-align: middle;\n",
       "    }\n",
       "\n",
       "    .dataframe tbody tr th {\n",
       "        vertical-align: top;\n",
       "    }\n",
       "\n",
       "    .dataframe thead th {\n",
       "        text-align: right;\n",
       "    }\n",
       "</style>\n",
       "<table border=\"1\" class=\"dataframe\">\n",
       "  <thead>\n",
       "    <tr style=\"text-align: right;\">\n",
       "      <th></th>\n",
       "      <th>model</th>\n",
       "      <th>train auc</th>\n",
       "      <th>val auc</th>\n",
       "      <th>accuracy</th>\n",
       "      <th>precision</th>\n",
       "      <th>f1_mean</th>\n",
       "      <th>recall</th>\n",
       "      <th>test auc</th>\n",
       "    </tr>\n",
       "  </thead>\n",
       "  <tbody>\n",
       "    <tr>\n",
       "      <th>0</th>\n",
       "      <td>HistGradientBoostingClassifier</td>\n",
       "      <td>0.672323</td>\n",
       "      <td>0.638179</td>\n",
       "      <td>0.6810</td>\n",
       "      <td>0.450147</td>\n",
       "      <td>0.490415</td>\n",
       "      <td>0.538596</td>\n",
       "      <td>NaN</td>\n",
       "    </tr>\n",
       "    <tr>\n",
       "      <th>1</th>\n",
       "      <td>HistGradientBoostingClassifier</td>\n",
       "      <td>0.672323</td>\n",
       "      <td>NaN</td>\n",
       "      <td>0.6805</td>\n",
       "      <td>0.446667</td>\n",
       "      <td>0.456170</td>\n",
       "      <td>0.466087</td>\n",
       "      <td>0.616552</td>\n",
       "    </tr>\n",
       "    <tr>\n",
       "      <th>2</th>\n",
       "      <td>CatBoostClassifier</td>\n",
       "      <td>0.594276</td>\n",
       "      <td>0.576193</td>\n",
       "      <td>0.7455</td>\n",
       "      <td>0.707483</td>\n",
       "      <td>0.290098</td>\n",
       "      <td>0.182456</td>\n",
       "      <td>NaN</td>\n",
       "    </tr>\n",
       "    <tr>\n",
       "      <th>3</th>\n",
       "      <td>CatBoostClassifier</td>\n",
       "      <td>0.594276</td>\n",
       "      <td>NaN</td>\n",
       "      <td>0.7470</td>\n",
       "      <td>0.759398</td>\n",
       "      <td>0.285311</td>\n",
       "      <td>0.175652</td>\n",
       "      <td>0.576598</td>\n",
       "    </tr>\n",
       "  </tbody>\n",
       "</table>\n",
       "</div>"
      ],
      "text/plain": [
       "                            model  train auc   val auc  accuracy  precision  \\\n",
       "0  HistGradientBoostingClassifier   0.672323  0.638179    0.6810   0.450147   \n",
       "1  HistGradientBoostingClassifier   0.672323       NaN    0.6805   0.446667   \n",
       "2              CatBoostClassifier   0.594276  0.576193    0.7455   0.707483   \n",
       "3              CatBoostClassifier   0.594276       NaN    0.7470   0.759398   \n",
       "\n",
       "    f1_mean    recall  test auc  \n",
       "0  0.490415  0.538596       NaN  \n",
       "1  0.456170  0.466087  0.616552  \n",
       "2  0.290098  0.182456       NaN  \n",
       "3  0.285311  0.175652  0.576598  "
      ]
     },
     "execution_count": 89,
     "metadata": {},
     "output_type": "execute_result"
    }
   ],
   "source": [
    "df = pd.DataFrame(scores)\n",
    "df #.to_csv('hyperparams_tuning.csv')"
   ]
  },
  {
   "cell_type": "code",
   "execution_count": null,
   "metadata": {
    "notebookRunGroups": {
     "groupValue": ""
    }
   },
   "outputs": [],
   "source": [
    "# student = {\n",
    "#     \"sat_total_score\": 1400,\n",
    "#     \"parental_level_of_education\": \"bachelor's degree\",\n",
    "#     \"parental_income\": 125000,\n",
    "#     \"college_gpa\": 3.2\n",
    "# }"
   ]
  },
  {
   "cell_type": "markdown",
   "metadata": {},
   "source": [
    "Code block under Catboost heading saved as `'src/clf_histGradientBoost.py'`.\n",
    "Code block under Catboost heading saved as `'src/clf_catboost.py'`."
   ]
  }
 ],
 "metadata": {
  "kernelspec": {
   "display_name": "churn311",
   "language": "python",
   "name": "python3"
  },
  "language_info": {
   "codemirror_mode": {
    "name": "ipython",
    "version": 3
   },
   "file_extension": ".py",
   "mimetype": "text/x-python",
   "name": "python",
   "nbconvert_exporter": "python",
   "pygments_lexer": "ipython3",
   "version": "3.10.11"
  },
  "orig_nbformat": 4
 },
 "nbformat": 4,
 "nbformat_minor": 2
}
